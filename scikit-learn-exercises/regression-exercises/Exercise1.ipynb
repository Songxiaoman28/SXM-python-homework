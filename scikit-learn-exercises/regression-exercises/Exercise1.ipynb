{
 "cells": [
  {
   "cell_type": "markdown",
   "metadata": {},
   "source": [
    "# Exercise 1: Logistic Regression"
   ]
  },
  {
   "cell_type": "markdown",
   "metadata": {},
   "source": [
    "## Plan"
   ]
  },
  {
   "cell_type": "markdown",
   "metadata": {},
   "source": [
    "1. Review linear regression in scikit-learn\n",
    "2. Try to use linear regression for classification\n",
    "3. Using logistic regression for classification in scikit-learn\n",
    "4. Demonstrate use of logistic regression to predict survival of Titanic passengers !"
   ]
  },
  {
   "cell_type": "markdown",
   "metadata": {},
   "source": [
    "## Part 1: Review of linear regression"
   ]
  },
  {
   "cell_type": "markdown",
   "metadata": {},
   "source": [
    "In this exercise, we consider the glass identification dataset ([description](https://raw.githubusercontent.com/o-m-i-d/ML_exercises_2016/master/glass.names) , [data](https://raw.githubusercontent.com/o-m-i-d/ML_exercises_2016/master/glass.data))."
   ]
  },
  {
   "cell_type": "code",
   "execution_count": 48,
   "metadata": {},
   "outputs": [
    {
     "data": {
      "text/html": "<div>\n<style scoped>\n    .dataframe tbody tr th:only-of-type {\n        vertical-align: middle;\n    }\n\n    .dataframe tbody tr th {\n        vertical-align: top;\n    }\n\n    .dataframe thead th {\n        text-align: right;\n    }\n</style>\n<table border=\"1\" class=\"dataframe\">\n  <thead>\n    <tr style=\"text-align: right;\">\n      <th></th>\n      <th>ri</th>\n      <th>na</th>\n      <th>mg</th>\n      <th>al</th>\n      <th>si</th>\n      <th>k</th>\n      <th>ca</th>\n      <th>ba</th>\n      <th>fe</th>\n      <th>glass_type</th>\n    </tr>\n    <tr>\n      <th>id</th>\n      <th></th>\n      <th></th>\n      <th></th>\n      <th></th>\n      <th></th>\n      <th></th>\n      <th></th>\n      <th></th>\n      <th></th>\n      <th></th>\n    </tr>\n  </thead>\n  <tbody>\n    <tr>\n      <th>22</th>\n      <td>1.51966</td>\n      <td>14.77</td>\n      <td>3.75</td>\n      <td>0.29</td>\n      <td>72.02</td>\n      <td>0.03</td>\n      <td>9.00</td>\n      <td>0.0</td>\n      <td>0.00</td>\n      <td>1</td>\n    </tr>\n    <tr>\n      <th>185</th>\n      <td>1.51115</td>\n      <td>17.38</td>\n      <td>0.00</td>\n      <td>0.34</td>\n      <td>75.41</td>\n      <td>0.00</td>\n      <td>6.65</td>\n      <td>0.0</td>\n      <td>0.00</td>\n      <td>6</td>\n    </tr>\n    <tr>\n      <th>40</th>\n      <td>1.52213</td>\n      <td>14.21</td>\n      <td>3.82</td>\n      <td>0.47</td>\n      <td>71.77</td>\n      <td>0.11</td>\n      <td>9.57</td>\n      <td>0.0</td>\n      <td>0.00</td>\n      <td>1</td>\n    </tr>\n    <tr>\n      <th>39</th>\n      <td>1.52213</td>\n      <td>14.21</td>\n      <td>3.82</td>\n      <td>0.47</td>\n      <td>71.77</td>\n      <td>0.11</td>\n      <td>9.57</td>\n      <td>0.0</td>\n      <td>0.00</td>\n      <td>1</td>\n    </tr>\n    <tr>\n      <th>51</th>\n      <td>1.52320</td>\n      <td>13.72</td>\n      <td>3.72</td>\n      <td>0.51</td>\n      <td>71.75</td>\n      <td>0.09</td>\n      <td>10.06</td>\n      <td>0.0</td>\n      <td>0.16</td>\n      <td>1</td>\n    </tr>\n  </tbody>\n</table>\n</div>",
      "text/plain": "          ri     na    mg    al     si     k     ca   ba    fe  glass_type\nid                                                                        \n22   1.51966  14.77  3.75  0.29  72.02  0.03   9.00  0.0  0.00           1\n185  1.51115  17.38  0.00  0.34  75.41  0.00   6.65  0.0  0.00           6\n40   1.52213  14.21  3.82  0.47  71.77  0.11   9.57  0.0  0.00           1\n39   1.52213  14.21  3.82  0.47  71.77  0.11   9.57  0.0  0.00           1\n51   1.52320  13.72  3.72  0.51  71.75  0.09  10.06  0.0  0.16           1"
     },
     "execution_count": 48,
     "metadata": {},
     "output_type": "execute_result"
    }
   ],
   "source": [
    "# importing glass identification dataset using pandas\n",
    "import pandas as pd \n",
    "glass=pd.read_csv('./glass.data',header=None,names=['id','ri','na','mg','al','si','k','ca','ba','fe','glass_type'],index_col = 'id',) #读取数据，列命名，设索引\n",
    "glass=glass.sort_values(['al']) #按'al'升序\n",
    "glass.head()"
   ]
  },
  {
   "cell_type": "markdown",
   "metadata": {},
   "source": [
    "Suppose we want to predict ri, refractory index, and our only feature is al, aluminium. We can do it using linear regression. First we plot the data (ri against al) using Pandas scatter plot."
   ]
  },
  {
   "cell_type": "code",
   "execution_count": 49,
   "metadata": {},
   "outputs": [
    {
     "data": {
      "image/png": "[encoded data removed]",
      "text/plain": "<Figure size 432x432 with 1 Axes>"
     },
     "metadata": {
      "needs_background": "light"
     },
     "output_type": "display_data"
    }
   ],
   "source": [
    "import matplotlib.pyplot as plt\n",
    "# scatter plot using Pandas\n",
    "plt.figure(figsize=(6,6))\n",
    "plt.scatter('al','ri',data=glass)\n",
    "plt.xlabel('al')\n",
    "plt.ylabel('ri')\n",
    "plt.show()"
   ]
  },
  {
   "cell_type": "markdown",
   "metadata": {},
   "source": [
    "Then we fit a linear regression model to our data."
   ]
  },
  {
   "cell_type": "code",
   "execution_count": 50,
   "metadata": {},
   "outputs": [
    {
     "data": {
      "text/html": "<div>\n<style scoped>\n    .dataframe tbody tr th:only-of-type {\n        vertical-align: middle;\n    }\n\n    .dataframe tbody tr th {\n        vertical-align: top;\n    }\n\n    .dataframe thead th {\n        text-align: right;\n    }\n</style>\n<table border=\"1\" class=\"dataframe\">\n  <thead>\n    <tr style=\"text-align: right;\">\n      <th></th>\n      <th>ri</th>\n      <th>na</th>\n      <th>mg</th>\n      <th>al</th>\n      <th>si</th>\n      <th>k</th>\n      <th>ca</th>\n      <th>ba</th>\n      <th>fe</th>\n      <th>glass_type</th>\n      <th>ri_pred</th>\n    </tr>\n    <tr>\n      <th>id</th>\n      <th></th>\n      <th></th>\n      <th></th>\n      <th></th>\n      <th></th>\n      <th></th>\n      <th></th>\n      <th></th>\n      <th></th>\n      <th></th>\n      <th></th>\n    </tr>\n  </thead>\n  <tbody>\n    <tr>\n      <th>22</th>\n      <td>1.51966</td>\n      <td>14.77</td>\n      <td>3.75</td>\n      <td>0.29</td>\n      <td>72.02</td>\n      <td>0.03</td>\n      <td>9.00</td>\n      <td>0.0</td>\n      <td>0.00</td>\n      <td>1</td>\n      <td>1.521227</td>\n    </tr>\n    <tr>\n      <th>185</th>\n      <td>1.51115</td>\n      <td>17.38</td>\n      <td>0.00</td>\n      <td>0.34</td>\n      <td>75.41</td>\n      <td>0.00</td>\n      <td>6.65</td>\n      <td>0.0</td>\n      <td>0.00</td>\n      <td>6</td>\n      <td>1.521103</td>\n    </tr>\n    <tr>\n      <th>40</th>\n      <td>1.52213</td>\n      <td>14.21</td>\n      <td>3.82</td>\n      <td>0.47</td>\n      <td>71.77</td>\n      <td>0.11</td>\n      <td>9.57</td>\n      <td>0.0</td>\n      <td>0.00</td>\n      <td>1</td>\n      <td>1.520781</td>\n    </tr>\n    <tr>\n      <th>39</th>\n      <td>1.52213</td>\n      <td>14.21</td>\n      <td>3.82</td>\n      <td>0.47</td>\n      <td>71.77</td>\n      <td>0.11</td>\n      <td>9.57</td>\n      <td>0.0</td>\n      <td>0.00</td>\n      <td>1</td>\n      <td>1.520781</td>\n    </tr>\n    <tr>\n      <th>51</th>\n      <td>1.52320</td>\n      <td>13.72</td>\n      <td>3.72</td>\n      <td>0.51</td>\n      <td>71.75</td>\n      <td>0.09</td>\n      <td>10.06</td>\n      <td>0.0</td>\n      <td>0.16</td>\n      <td>1</td>\n      <td>1.520682</td>\n    </tr>\n  </tbody>\n</table>\n</div>",
      "text/plain": "          ri     na    mg    al     si     k     ca   ba    fe  glass_type  \\\nid                                                                           \n22   1.51966  14.77  3.75  0.29  72.02  0.03   9.00  0.0  0.00           1   \n185  1.51115  17.38  0.00  0.34  75.41  0.00   6.65  0.0  0.00           6   \n40   1.52213  14.21  3.82  0.47  71.77  0.11   9.57  0.0  0.00           1   \n39   1.52213  14.21  3.82  0.47  71.77  0.11   9.57  0.0  0.00           1   \n51   1.52320  13.72  3.72  0.51  71.75  0.09  10.06  0.0  0.16           1   \n\n      ri_pred  \nid             \n22   1.521227  \n185  1.521103  \n40   1.520781  \n39   1.520781  \n51   1.520682  "
     },
     "execution_count": 50,
     "metadata": {},
     "output_type": "execute_result"
    }
   ],
   "source": [
    "# fit a linear regression model\n",
    "from sklearn.linear_model import LinearRegression\n",
    "X=pd.DataFrame(glass.al)\n",
    "y=glass['ri']\n",
    "model=LinearRegression()\n",
    "model.fit(X,y)\n",
    "\n",
    "# make predictions for all values of X\n",
    "glass['ri_pred']=model.predict(X)\n",
    "glass.head()"
   ]
  },
  {
   "cell_type": "markdown",
   "metadata": {},
   "source": [
    "We plot the prediction line with respect to all other data."
   ]
  },
  {
   "cell_type": "code",
   "execution_count": 51,
   "metadata": {},
   "outputs": [
    {
     "data": {
      "image/png": "[encoded data removed]",
      "text/plain": "<Figure size 432x288 with 1 Axes>"
     },
     "metadata": {
      "needs_background": "light"
     },
     "output_type": "display_data"
    }
   ],
   "source": [
    "# put the plots together\n",
    "plt.scatter(glass.al,glass.ri)\n",
    "plt.plot(glass.al,glass.ri_pred,c='r')\n",
    "plt.xlabel('al')\n",
    "plt.ylabel('ri')\n",
    "plt.show()"
   ]
  },
  {
   "cell_type": "markdown",
   "metadata": {},
   "source": [
    "Remember that linear regression equation has the following form: $$y=\\beta_0+\\beta_1x$$"
   ]
  },
  {
   "cell_type": "code",
   "execution_count": 52,
   "metadata": {},
   "outputs": [
    {
     "data": {
      "text/plain": "array([-0.00247761])"
     },
     "execution_count": 52,
     "metadata": {},
     "output_type": "execute_result"
    }
   ],
   "source": [
    "# compute coefficient\n",
    "model.coef_"
   ]
  },
  {
   "cell_type": "code",
   "execution_count": 53,
   "metadata": {},
   "outputs": [
    {
     "data": {
      "text/plain": "1.5219453302386425"
     },
     "execution_count": 53,
     "metadata": {},
     "output_type": "execute_result"
    }
   ],
   "source": [
    "# compute intercept\n",
    "model.intercept_"
   ]
  },
  {
   "cell_type": "code",
   "execution_count": 54,
   "metadata": {},
   "outputs": [
    {
     "data": {
      "text/plain": "array([1.5120349])"
     },
     "execution_count": 54,
     "metadata": {},
     "output_type": "execute_result"
    }
   ],
   "source": [
    "# compute prediction for al=4 \n",
    "model.intercept_+model.coef_*4"
   ]
  },
  {
   "cell_type": "markdown",
   "metadata": {},
   "source": [
    "## Part 2: Predicting a categorial response using linear regression"
   ]
  },
  {
   "cell_type": "markdown",
   "metadata": {},
   "source": [
    "We define a binary categorial response to predict. "
   ]
  },
  {
   "cell_type": "code",
   "execution_count": 55,
   "metadata": {},
   "outputs": [
    {
     "data": {
      "text/plain": "1    70\n2    76\n3    17\n5    13\n6     9\n7    29\nName: glass_type, dtype: int64"
     },
     "execution_count": 55,
     "metadata": {},
     "output_type": "execute_result"
    }
   ],
   "source": [
    "# examine glass_type\n",
    "glass.glass_type.value_counts().sort_index() #查看glass_type频数统计,并排序"
   ]
  },
  {
   "cell_type": "code",
   "execution_count": 56,
   "metadata": {},
   "outputs": [
    {
     "data": {
      "text/html": "<div>\n<style scoped>\n    .dataframe tbody tr th:only-of-type {\n        vertical-align: middle;\n    }\n\n    .dataframe tbody tr th {\n        vertical-align: top;\n    }\n\n    .dataframe thead th {\n        text-align: right;\n    }\n</style>\n<table border=\"1\" class=\"dataframe\">\n  <thead>\n    <tr style=\"text-align: right;\">\n      <th></th>\n      <th>ri</th>\n      <th>na</th>\n      <th>mg</th>\n      <th>al</th>\n      <th>si</th>\n      <th>k</th>\n      <th>ca</th>\n      <th>ba</th>\n      <th>fe</th>\n      <th>glass_type</th>\n      <th>ri_pred</th>\n      <th>household</th>\n    </tr>\n    <tr>\n      <th>id</th>\n      <th></th>\n      <th></th>\n      <th></th>\n      <th></th>\n      <th></th>\n      <th></th>\n      <th></th>\n      <th></th>\n      <th></th>\n      <th></th>\n      <th></th>\n      <th></th>\n    </tr>\n  </thead>\n  <tbody>\n    <tr>\n      <th>22</th>\n      <td>1.51966</td>\n      <td>14.77</td>\n      <td>3.75</td>\n      <td>0.29</td>\n      <td>72.02</td>\n      <td>0.03</td>\n      <td>9.00</td>\n      <td>0.0</td>\n      <td>0.00</td>\n      <td>1</td>\n      <td>1.521227</td>\n      <td>0</td>\n    </tr>\n    <tr>\n      <th>185</th>\n      <td>1.51115</td>\n      <td>17.38</td>\n      <td>0.00</td>\n      <td>0.34</td>\n      <td>75.41</td>\n      <td>0.00</td>\n      <td>6.65</td>\n      <td>0.0</td>\n      <td>0.00</td>\n      <td>6</td>\n      <td>1.521103</td>\n      <td>1</td>\n    </tr>\n    <tr>\n      <th>40</th>\n      <td>1.52213</td>\n      <td>14.21</td>\n      <td>3.82</td>\n      <td>0.47</td>\n      <td>71.77</td>\n      <td>0.11</td>\n      <td>9.57</td>\n      <td>0.0</td>\n      <td>0.00</td>\n      <td>1</td>\n      <td>1.520781</td>\n      <td>0</td>\n    </tr>\n    <tr>\n      <th>39</th>\n      <td>1.52213</td>\n      <td>14.21</td>\n      <td>3.82</td>\n      <td>0.47</td>\n      <td>71.77</td>\n      <td>0.11</td>\n      <td>9.57</td>\n      <td>0.0</td>\n      <td>0.00</td>\n      <td>1</td>\n      <td>1.520781</td>\n      <td>0</td>\n    </tr>\n    <tr>\n      <th>51</th>\n      <td>1.52320</td>\n      <td>13.72</td>\n      <td>3.72</td>\n      <td>0.51</td>\n      <td>71.75</td>\n      <td>0.09</td>\n      <td>10.06</td>\n      <td>0.0</td>\n      <td>0.16</td>\n      <td>1</td>\n      <td>1.520682</td>\n      <td>0</td>\n    </tr>\n  </tbody>\n</table>\n</div>",
      "text/plain": "          ri     na    mg    al     si     k     ca   ba    fe  glass_type  \\\nid                                                                           \n22   1.51966  14.77  3.75  0.29  72.02  0.03   9.00  0.0  0.00           1   \n185  1.51115  17.38  0.00  0.34  75.41  0.00   6.65  0.0  0.00           6   \n40   1.52213  14.21  3.82  0.47  71.77  0.11   9.57  0.0  0.00           1   \n39   1.52213  14.21  3.82  0.47  71.77  0.11   9.57  0.0  0.00           1   \n51   1.52320  13.72  3.72  0.51  71.75  0.09  10.06  0.0  0.16           1   \n\n      ri_pred  household  \nid                        \n22   1.521227          0  \n185  1.521103          1  \n40   1.520781          0  \n39   1.520781          0  \n51   1.520682          0  "
     },
     "execution_count": 56,
     "metadata": {},
     "output_type": "execute_result"
    }
   ],
   "source": [
    "# types 1, 2, 3 are window glass\n",
    "# types 5, 6, 7 are household glass\n",
    "#household二分类变量，glass_type5,6,7为1，其余为0\n",
    "type_mapping={1:0,2:0,3:0,5:1,6:1,7:1}\n",
    "glass['household']=glass['glass_type'].map(type_mapping)\n",
    "glass.head()"
   ]
  },
  {
   "cell_type": "markdown",
   "metadata": {},
   "source": [
    "Let's change our task, so that we're predicting **household** using **al**. Let's visualize the relationship to figure out how to do this:"
   ]
  },
  {
   "cell_type": "code",
   "execution_count": 57,
   "metadata": {},
   "outputs": [
    {
     "data": {
      "text/plain": "Text(0,0.5,'household')"
     },
     "execution_count": 57,
     "metadata": {},
     "output_type": "execute_result"
    },
    {
     "data": {
      "image/png": "[encoded data removed]",
      "text/plain": "<Figure size 432x288 with 1 Axes>"
     },
     "metadata": {
      "needs_background": "light"
     },
     "output_type": "display_data"
    }
   ],
   "source": [
    "plt.scatter(glass.al, glass.household)\n",
    "plt.xlabel('al')\n",
    "plt.ylabel('household')"
   ]
  },
  {
   "cell_type": "markdown",
   "metadata": {},
   "source": [
    "Let's draw a regression line, like we did before:"
   ]
  },
  {
   "cell_type": "code",
   "execution_count": 58,
   "metadata": {},
   "outputs": [
    {
     "data": {
      "text/html": "<div>\n<style scoped>\n    .dataframe tbody tr th:only-of-type {\n        vertical-align: middle;\n    }\n\n    .dataframe tbody tr th {\n        vertical-align: top;\n    }\n\n    .dataframe thead th {\n        text-align: right;\n    }\n</style>\n<table border=\"1\" class=\"dataframe\">\n  <thead>\n    <tr style=\"text-align: right;\">\n      <th></th>\n      <th>ri</th>\n      <th>na</th>\n      <th>mg</th>\n      <th>al</th>\n      <th>si</th>\n      <th>k</th>\n      <th>ca</th>\n      <th>ba</th>\n      <th>fe</th>\n      <th>glass_type</th>\n      <th>ri_pred</th>\n      <th>household</th>\n      <th>household_pred</th>\n    </tr>\n    <tr>\n      <th>id</th>\n      <th></th>\n      <th></th>\n      <th></th>\n      <th></th>\n      <th></th>\n      <th></th>\n      <th></th>\n      <th></th>\n      <th></th>\n      <th></th>\n      <th></th>\n      <th></th>\n      <th></th>\n    </tr>\n  </thead>\n  <tbody>\n    <tr>\n      <th>22</th>\n      <td>1.51966</td>\n      <td>14.77</td>\n      <td>3.75</td>\n      <td>0.29</td>\n      <td>72.02</td>\n      <td>0.03</td>\n      <td>9.00</td>\n      <td>0.0</td>\n      <td>0.00</td>\n      <td>1</td>\n      <td>1.521227</td>\n      <td>0</td>\n      <td>-0.340495</td>\n    </tr>\n    <tr>\n      <th>185</th>\n      <td>1.51115</td>\n      <td>17.38</td>\n      <td>0.00</td>\n      <td>0.34</td>\n      <td>75.41</td>\n      <td>0.00</td>\n      <td>6.65</td>\n      <td>0.0</td>\n      <td>0.00</td>\n      <td>6</td>\n      <td>1.521103</td>\n      <td>1</td>\n      <td>-0.315436</td>\n    </tr>\n    <tr>\n      <th>40</th>\n      <td>1.52213</td>\n      <td>14.21</td>\n      <td>3.82</td>\n      <td>0.47</td>\n      <td>71.77</td>\n      <td>0.11</td>\n      <td>9.57</td>\n      <td>0.0</td>\n      <td>0.00</td>\n      <td>1</td>\n      <td>1.520781</td>\n      <td>0</td>\n      <td>-0.250283</td>\n    </tr>\n    <tr>\n      <th>39</th>\n      <td>1.52213</td>\n      <td>14.21</td>\n      <td>3.82</td>\n      <td>0.47</td>\n      <td>71.77</td>\n      <td>0.11</td>\n      <td>9.57</td>\n      <td>0.0</td>\n      <td>0.00</td>\n      <td>1</td>\n      <td>1.520781</td>\n      <td>0</td>\n      <td>-0.250283</td>\n    </tr>\n    <tr>\n      <th>51</th>\n      <td>1.52320</td>\n      <td>13.72</td>\n      <td>3.72</td>\n      <td>0.51</td>\n      <td>71.75</td>\n      <td>0.09</td>\n      <td>10.06</td>\n      <td>0.0</td>\n      <td>0.16</td>\n      <td>1</td>\n      <td>1.520682</td>\n      <td>0</td>\n      <td>-0.230236</td>\n    </tr>\n  </tbody>\n</table>\n</div>",
      "text/plain": "          ri     na    mg    al     si     k     ca   ba    fe  glass_type  \\\nid                                                                           \n22   1.51966  14.77  3.75  0.29  72.02  0.03   9.00  0.0  0.00           1   \n185  1.51115  17.38  0.00  0.34  75.41  0.00   6.65  0.0  0.00           6   \n40   1.52213  14.21  3.82  0.47  71.77  0.11   9.57  0.0  0.00           1   \n39   1.52213  14.21  3.82  0.47  71.77  0.11   9.57  0.0  0.00           1   \n51   1.52320  13.72  3.72  0.51  71.75  0.09  10.06  0.0  0.16           1   \n\n      ri_pred  household  household_pred  \nid                                        \n22   1.521227          0       -0.340495  \n185  1.521103          1       -0.315436  \n40   1.520781          0       -0.250283  \n39   1.520781          0       -0.250283  \n51   1.520682          0       -0.230236  "
     },
     "execution_count": 58,
     "metadata": {},
     "output_type": "execute_result"
    }
   ],
   "source": [
    "# fit a linear regression model and store the predictions\n",
    "X=pd.DataFrame(glass.al)\n",
    "y=glass['household']\n",
    "model1=LinearRegression()\n",
    "model1.fit(X,y)\n",
    "glass['household_pred']=model1.predict(X)\n",
    "glass.head()"
   ]
  },
  {
   "cell_type": "code",
   "execution_count": 59,
   "metadata": {},
   "outputs": [
    {
     "data": {
      "text/plain": "Text(0,0.5,'household')"
     },
     "execution_count": 59,
     "metadata": {},
     "output_type": "execute_result"
    },
    {
     "data": {
      "image/png": "[encoded data removed]",
      "text/plain": "<Figure size 432x288 with 1 Axes>"
     },
     "metadata": {
      "needs_background": "light"
     },
     "output_type": "display_data"
    }
   ],
   "source": [
    "# scatter plot that includes the regression line\n",
    "plt.scatter(glass.al,glass.household)\n",
    "plt.plot(glass.al,glass.household_pred,c='r')\n",
    "plt.xlabel('al')\n",
    "plt.ylabel('household')"
   ]
  },
  {
   "cell_type": "markdown",
   "metadata": {},
   "source": [
    "If **al=3**, what class do we predict for household? **1**\n",
    "\n",
    "If **al=1.5**, what class do we predict for household? **0**\n",
    "\n",
    "We predict the 0 class for **lower** values of al, and the 1 class for **higher** values of al. What's our cutoff value? Around **al=2**, because that's where the linear regression line crosses the midpoint between predicting class 0 and class 1.\n",
    "\n",
    "Therefore, we'll say that if **household_pred >= 0.5**, we predict a class of **1**, else we predict a class of **0**."
   ]
  },
  {
   "cell_type": "code",
   "execution_count": 60,
   "metadata": {},
   "outputs": [
    {
     "data": {
      "text/html": "<div>\n<style scoped>\n    .dataframe tbody tr th:only-of-type {\n        vertical-align: middle;\n    }\n\n    .dataframe tbody tr th {\n        vertical-align: top;\n    }\n\n    .dataframe thead th {\n        text-align: right;\n    }\n</style>\n<table border=\"1\" class=\"dataframe\">\n  <thead>\n    <tr style=\"text-align: right;\">\n      <th></th>\n      <th>ri</th>\n      <th>na</th>\n      <th>mg</th>\n      <th>al</th>\n      <th>si</th>\n      <th>k</th>\n      <th>ca</th>\n      <th>ba</th>\n      <th>fe</th>\n      <th>glass_type</th>\n      <th>ri_pred</th>\n      <th>household</th>\n      <th>household_pred</th>\n      <th>household_pred_class</th>\n    </tr>\n    <tr>\n      <th>id</th>\n      <th></th>\n      <th></th>\n      <th></th>\n      <th></th>\n      <th></th>\n      <th></th>\n      <th></th>\n      <th></th>\n      <th></th>\n      <th></th>\n      <th></th>\n      <th></th>\n      <th></th>\n      <th></th>\n    </tr>\n  </thead>\n  <tbody>\n    <tr>\n      <th>22</th>\n      <td>1.51966</td>\n      <td>14.77</td>\n      <td>3.75</td>\n      <td>0.29</td>\n      <td>72.02</td>\n      <td>0.03</td>\n      <td>9.00</td>\n      <td>0.0</td>\n      <td>0.00</td>\n      <td>1</td>\n      <td>1.521227</td>\n      <td>0</td>\n      <td>-0.340495</td>\n      <td>0</td>\n    </tr>\n    <tr>\n      <th>185</th>\n      <td>1.51115</td>\n      <td>17.38</td>\n      <td>0.00</td>\n      <td>0.34</td>\n      <td>75.41</td>\n      <td>0.00</td>\n      <td>6.65</td>\n      <td>0.0</td>\n      <td>0.00</td>\n      <td>6</td>\n      <td>1.521103</td>\n      <td>1</td>\n      <td>-0.315436</td>\n      <td>0</td>\n    </tr>\n    <tr>\n      <th>40</th>\n      <td>1.52213</td>\n      <td>14.21</td>\n      <td>3.82</td>\n      <td>0.47</td>\n      <td>71.77</td>\n      <td>0.11</td>\n      <td>9.57</td>\n      <td>0.0</td>\n      <td>0.00</td>\n      <td>1</td>\n      <td>1.520781</td>\n      <td>0</td>\n      <td>-0.250283</td>\n      <td>0</td>\n    </tr>\n    <tr>\n      <th>39</th>\n      <td>1.52213</td>\n      <td>14.21</td>\n      <td>3.82</td>\n      <td>0.47</td>\n      <td>71.77</td>\n      <td>0.11</td>\n      <td>9.57</td>\n      <td>0.0</td>\n      <td>0.00</td>\n      <td>1</td>\n      <td>1.520781</td>\n      <td>0</td>\n      <td>-0.250283</td>\n      <td>0</td>\n    </tr>\n    <tr>\n      <th>51</th>\n      <td>1.52320</td>\n      <td>13.72</td>\n      <td>3.72</td>\n      <td>0.51</td>\n      <td>71.75</td>\n      <td>0.09</td>\n      <td>10.06</td>\n      <td>0.0</td>\n      <td>0.16</td>\n      <td>1</td>\n      <td>1.520682</td>\n      <td>0</td>\n      <td>-0.230236</td>\n      <td>0</td>\n    </tr>\n  </tbody>\n</table>\n</div>",
      "text/plain": "          ri     na    mg    al     si     k     ca   ba    fe  glass_type  \\\nid                                                                           \n22   1.51966  14.77  3.75  0.29  72.02  0.03   9.00  0.0  0.00           1   \n185  1.51115  17.38  0.00  0.34  75.41  0.00   6.65  0.0  0.00           6   \n40   1.52213  14.21  3.82  0.47  71.77  0.11   9.57  0.0  0.00           1   \n39   1.52213  14.21  3.82  0.47  71.77  0.11   9.57  0.0  0.00           1   \n51   1.52320  13.72  3.72  0.51  71.75  0.09  10.06  0.0  0.16           1   \n\n      ri_pred  household  household_pred  household_pred_class  \nid                                                              \n22   1.521227          0       -0.340495                     0  \n185  1.521103          1       -0.315436                     0  \n40   1.520781          0       -0.250283                     0  \n39   1.520781          0       -0.250283                     0  \n51   1.520682          0       -0.230236                     0  "
     },
     "execution_count": 60,
     "metadata": {},
     "output_type": "execute_result"
    }
   ],
   "source": [
    "import numpy as np\n",
    "# transform household_pred to 1 or 0\n",
    "glass['household_pred_class']=np.where(glass.household_pred>=0.5,1,0)\n",
    "glass.head()"
   ]
  },
  {
   "cell_type": "code",
   "execution_count": 61,
   "metadata": {},
   "outputs": [
    {
     "data": {
      "text/plain": "Text(0,0.5,'household')"
     },
     "execution_count": 61,
     "metadata": {},
     "output_type": "execute_result"
    },
    {
     "data": {
      "image/png": "[encoded data removed]",
      "text/plain": "<Figure size 432x288 with 1 Axes>"
     },
     "metadata": {
      "needs_background": "light"
     },
     "output_type": "display_data"
    }
   ],
   "source": [
    "# plot the class predictions\n",
    "plt.scatter(glass.al,glass.household)\n",
    "plt.plot(glass.al,glass.household_pred_class,c='r')\n",
    "plt.xlabel('al')\n",
    "plt.ylabel('household')"
   ]
  },
  {
   "cell_type": "markdown",
   "metadata": {},
   "source": [
    "## Part 3: Using Logistic Regression Instead"
   ]
  },
  {
   "cell_type": "markdown",
   "metadata": {},
   "source": [
    "Logistic regression can do just what we did:"
   ]
  },
  {
   "cell_type": "code",
   "execution_count": 62,
   "metadata": {},
   "outputs": [
    {
     "data": {
      "text/html": "<div>\n<style scoped>\n    .dataframe tbody tr th:only-of-type {\n        vertical-align: middle;\n    }\n\n    .dataframe tbody tr th {\n        vertical-align: top;\n    }\n\n    .dataframe thead th {\n        text-align: right;\n    }\n</style>\n<table border=\"1\" class=\"dataframe\">\n  <thead>\n    <tr style=\"text-align: right;\">\n      <th></th>\n      <th>ri</th>\n      <th>na</th>\n      <th>mg</th>\n      <th>al</th>\n      <th>si</th>\n      <th>k</th>\n      <th>ca</th>\n      <th>ba</th>\n      <th>fe</th>\n      <th>glass_type</th>\n      <th>ri_pred</th>\n      <th>household</th>\n      <th>household_pred</th>\n      <th>household_pred_class</th>\n    </tr>\n    <tr>\n      <th>id</th>\n      <th></th>\n      <th></th>\n      <th></th>\n      <th></th>\n      <th></th>\n      <th></th>\n      <th></th>\n      <th></th>\n      <th></th>\n      <th></th>\n      <th></th>\n      <th></th>\n      <th></th>\n      <th></th>\n    </tr>\n  </thead>\n  <tbody>\n    <tr>\n      <th>22</th>\n      <td>1.51966</td>\n      <td>14.77</td>\n      <td>3.75</td>\n      <td>0.29</td>\n      <td>72.02</td>\n      <td>0.03</td>\n      <td>9.00</td>\n      <td>0.0</td>\n      <td>0.00</td>\n      <td>1</td>\n      <td>1.521227</td>\n      <td>0</td>\n      <td>-0.340495</td>\n      <td>0</td>\n    </tr>\n    <tr>\n      <th>185</th>\n      <td>1.51115</td>\n      <td>17.38</td>\n      <td>0.00</td>\n      <td>0.34</td>\n      <td>75.41</td>\n      <td>0.00</td>\n      <td>6.65</td>\n      <td>0.0</td>\n      <td>0.00</td>\n      <td>6</td>\n      <td>1.521103</td>\n      <td>1</td>\n      <td>-0.315436</td>\n      <td>0</td>\n    </tr>\n    <tr>\n      <th>40</th>\n      <td>1.52213</td>\n      <td>14.21</td>\n      <td>3.82</td>\n      <td>0.47</td>\n      <td>71.77</td>\n      <td>0.11</td>\n      <td>9.57</td>\n      <td>0.0</td>\n      <td>0.00</td>\n      <td>1</td>\n      <td>1.520781</td>\n      <td>0</td>\n      <td>-0.250283</td>\n      <td>0</td>\n    </tr>\n    <tr>\n      <th>39</th>\n      <td>1.52213</td>\n      <td>14.21</td>\n      <td>3.82</td>\n      <td>0.47</td>\n      <td>71.77</td>\n      <td>0.11</td>\n      <td>9.57</td>\n      <td>0.0</td>\n      <td>0.00</td>\n      <td>1</td>\n      <td>1.520781</td>\n      <td>0</td>\n      <td>-0.250283</td>\n      <td>0</td>\n    </tr>\n    <tr>\n      <th>51</th>\n      <td>1.52320</td>\n      <td>13.72</td>\n      <td>3.72</td>\n      <td>0.51</td>\n      <td>71.75</td>\n      <td>0.09</td>\n      <td>10.06</td>\n      <td>0.0</td>\n      <td>0.16</td>\n      <td>1</td>\n      <td>1.520682</td>\n      <td>0</td>\n      <td>-0.230236</td>\n      <td>0</td>\n    </tr>\n  </tbody>\n</table>\n</div>",
      "text/plain": "          ri     na    mg    al     si     k     ca   ba    fe  glass_type  \\\nid                                                                           \n22   1.51966  14.77  3.75  0.29  72.02  0.03   9.00  0.0  0.00           1   \n185  1.51115  17.38  0.00  0.34  75.41  0.00   6.65  0.0  0.00           6   \n40   1.52213  14.21  3.82  0.47  71.77  0.11   9.57  0.0  0.00           1   \n39   1.52213  14.21  3.82  0.47  71.77  0.11   9.57  0.0  0.00           1   \n51   1.52320  13.72  3.72  0.51  71.75  0.09  10.06  0.0  0.16           1   \n\n      ri_pred  household  household_pred  household_pred_class  \nid                                                              \n22   1.521227          0       -0.340495                     0  \n185  1.521103          1       -0.315436                     0  \n40   1.520781          0       -0.250283                     0  \n39   1.520781          0       -0.250283                     0  \n51   1.520682          0       -0.230236                     0  "
     },
     "execution_count": 62,
     "metadata": {},
     "output_type": "execute_result"
    }
   ],
   "source": [
    "# fit a logistic regression model and store the class predictions\n",
    "from sklearn.linear_model import LogisticRegression\n",
    "lr=LogisticRegression()\n",
    "X=glass[['al']]\n",
    "y=glass['household']\n",
    "lr.fit(X,y)\n",
    "glass['household_pred_class']=lr.predict(X)\n",
    "glass.head()"
   ]
  },
  {
   "cell_type": "code",
   "execution_count": 63,
   "metadata": {},
   "outputs": [
    {
     "data": {
      "text/plain": "Text(0,0.5,'household')"
     },
     "execution_count": 63,
     "metadata": {},
     "output_type": "execute_result"
    },
    {
     "data": {
      "image/png": "[encoded data removed]",
      "text/plain": "<Figure size 432x288 with 1 Axes>"
     },
     "metadata": {
      "needs_background": "light"
     },
     "output_type": "display_data"
    }
   ],
   "source": [
    "# plot the class predictions\n",
    "plt.scatter(glass.al,glass.household)\n",
    "plt.plot(glass.al,glass.household_pred_class,c='r')\n",
    "plt.xlabel('al')\n",
    "plt.ylabel('household')\n"
   ]
  },
  {
   "cell_type": "markdown",
   "metadata": {},
   "source": [
    "What if we wanted the **predicted probabilities** instead of just the **class predictions**, to understand how confident we are in a given prediction?"
   ]
  },
  {
   "cell_type": "code",
   "execution_count": 64,
   "metadata": {},
   "outputs": [
    {
     "data": {
      "text/html": "<div>\n<style scoped>\n    .dataframe tbody tr th:only-of-type {\n        vertical-align: middle;\n    }\n\n    .dataframe tbody tr th {\n        vertical-align: top;\n    }\n\n    .dataframe thead th {\n        text-align: right;\n    }\n</style>\n<table border=\"1\" class=\"dataframe\">\n  <thead>\n    <tr style=\"text-align: right;\">\n      <th></th>\n      <th>ri</th>\n      <th>na</th>\n      <th>mg</th>\n      <th>al</th>\n      <th>si</th>\n      <th>k</th>\n      <th>ca</th>\n      <th>ba</th>\n      <th>fe</th>\n      <th>glass_type</th>\n      <th>ri_pred</th>\n      <th>household</th>\n      <th>household_pred</th>\n      <th>household_pred_class</th>\n      <th>household_pred_prob</th>\n    </tr>\n    <tr>\n      <th>id</th>\n      <th></th>\n      <th></th>\n      <th></th>\n      <th></th>\n      <th></th>\n      <th></th>\n      <th></th>\n      <th></th>\n      <th></th>\n      <th></th>\n      <th></th>\n      <th></th>\n      <th></th>\n      <th></th>\n      <th></th>\n    </tr>\n  </thead>\n  <tbody>\n    <tr>\n      <th>22</th>\n      <td>1.51966</td>\n      <td>14.77</td>\n      <td>3.75</td>\n      <td>0.29</td>\n      <td>72.02</td>\n      <td>0.03</td>\n      <td>9.00</td>\n      <td>0.0</td>\n      <td>0.00</td>\n      <td>1</td>\n      <td>1.521227</td>\n      <td>0</td>\n      <td>-0.340495</td>\n      <td>0</td>\n      <td>0.006024</td>\n    </tr>\n    <tr>\n      <th>185</th>\n      <td>1.51115</td>\n      <td>17.38</td>\n      <td>0.00</td>\n      <td>0.34</td>\n      <td>75.41</td>\n      <td>0.00</td>\n      <td>6.65</td>\n      <td>0.0</td>\n      <td>0.00</td>\n      <td>6</td>\n      <td>1.521103</td>\n      <td>1</td>\n      <td>-0.315436</td>\n      <td>0</td>\n      <td>0.007032</td>\n    </tr>\n    <tr>\n      <th>40</th>\n      <td>1.52213</td>\n      <td>14.21</td>\n      <td>3.82</td>\n      <td>0.47</td>\n      <td>71.77</td>\n      <td>0.11</td>\n      <td>9.57</td>\n      <td>0.0</td>\n      <td>0.00</td>\n      <td>1</td>\n      <td>1.520781</td>\n      <td>0</td>\n      <td>-0.250283</td>\n      <td>0</td>\n      <td>0.010506</td>\n    </tr>\n    <tr>\n      <th>39</th>\n      <td>1.52213</td>\n      <td>14.21</td>\n      <td>3.82</td>\n      <td>0.47</td>\n      <td>71.77</td>\n      <td>0.11</td>\n      <td>9.57</td>\n      <td>0.0</td>\n      <td>0.00</td>\n      <td>1</td>\n      <td>1.520781</td>\n      <td>0</td>\n      <td>-0.250283</td>\n      <td>0</td>\n      <td>0.010506</td>\n    </tr>\n    <tr>\n      <th>51</th>\n      <td>1.52320</td>\n      <td>13.72</td>\n      <td>3.72</td>\n      <td>0.51</td>\n      <td>71.75</td>\n      <td>0.09</td>\n      <td>10.06</td>\n      <td>0.0</td>\n      <td>0.16</td>\n      <td>1</td>\n      <td>1.520682</td>\n      <td>0</td>\n      <td>-0.230236</td>\n      <td>0</td>\n      <td>0.011884</td>\n    </tr>\n  </tbody>\n</table>\n</div>",
      "text/plain": "          ri     na    mg    al     si     k     ca   ba    fe  glass_type  \\\nid                                                                           \n22   1.51966  14.77  3.75  0.29  72.02  0.03   9.00  0.0  0.00           1   \n185  1.51115  17.38  0.00  0.34  75.41  0.00   6.65  0.0  0.00           6   \n40   1.52213  14.21  3.82  0.47  71.77  0.11   9.57  0.0  0.00           1   \n39   1.52213  14.21  3.82  0.47  71.77  0.11   9.57  0.0  0.00           1   \n51   1.52320  13.72  3.72  0.51  71.75  0.09  10.06  0.0  0.16           1   \n\n      ri_pred  household  household_pred  household_pred_class  \\\nid                                                               \n22   1.521227          0       -0.340495                     0   \n185  1.521103          1       -0.315436                     0   \n40   1.520781          0       -0.250283                     0   \n39   1.520781          0       -0.250283                     0   \n51   1.520682          0       -0.230236                     0   \n\n     household_pred_prob  \nid                        \n22              0.006024  \n185             0.007032  \n40              0.010506  \n39              0.010506  \n51              0.011884  "
     },
     "execution_count": 64,
     "metadata": {},
     "output_type": "execute_result"
    }
   ],
   "source": [
    "# store the predicted probabilites of class 1\n",
    "glass['household_pred_prob']=lr.predict_proba(X)[:,1]  #预测概率\n",
    "glass.head()"
   ]
  },
  {
   "cell_type": "code",
   "execution_count": 65,
   "metadata": {},
   "outputs": [
    {
     "data": {
      "text/plain": "Text(0,0.5,'household')"
     },
     "execution_count": 65,
     "metadata": {},
     "output_type": "execute_result"
    },
    {
     "data": {
      "image/png": "[encoded data removed]",
      "text/plain": "<Figure size 432x288 with 1 Axes>"
     },
     "metadata": {
      "needs_background": "light"
     },
     "output_type": "display_data"
    }
   ],
   "source": [
    "# plot the predicted probabilities\n",
    "plt.scatter(glass.al, glass.household)\n",
    "plt.plot(glass.al, glass.household_pred_prob, color='red')\n",
    "plt.xlabel('al')\n",
    "plt.ylabel('household')"
   ]
  },
  {
   "cell_type": "code",
   "execution_count": 66,
   "metadata": {},
   "outputs": [
    {
     "name": "stdout",
     "output_type": "stream",
     "text": "[[0.94755733 0.05244267]]\n[[0.4449707 0.5550293]]\n[[0.03435025 0.96564975]]\n"
    }
   ],
   "source": [
    "# examine some example predictions\n",
    "print(lr.predict_proba([[1]]))\n",
    "print(lr.predict_proba([[2]]))\n",
    "print(lr.predict_proba([[3]]))"
   ]
  },
  {
   "cell_type": "markdown",
   "metadata": {},
   "source": [
    "The first column indicates the predicted probability of **class 0**, and the second column indicates the predicted probability of **class 1**."
   ]
  },
  {
   "cell_type": "markdown",
   "metadata": {},
   "source": [
    "### Interpreting Logistic Regression Coefficients"
   ]
  },
  {
   "cell_type": "markdown",
   "metadata": {},
   "source": [
    "Remember that the probabilities returned by logistic function for class prediction are as follows:\n",
    "$$p=\\frac{e^{\\beta_0+\\beta_1x}}{1+e^{\\beta_0+\\beta_1x}}$$"
   ]
  },
  {
   "cell_type": "code",
   "execution_count": 67,
   "metadata": {},
   "outputs": [
    {
     "name": "stdout",
     "output_type": "stream",
     "text": "al [[3.11517927]]\n"
    }
   ],
   "source": [
    "# examine the coefficient for al\n",
    "print('al',lr.coef_)"
   ]
  },
  {
   "cell_type": "markdown",
   "metadata": {},
   "source": [
    "**Interpretation**: A 1 unit increase in 'al' is associated with a 4.18 unit increase in the log-odds of 'household' (log-odds of A is $log(\\frac{P(A)}{1-P(A)})$)."
   ]
  },
  {
   "cell_type": "code",
   "execution_count": 68,
   "metadata": {},
   "outputs": [
    {
     "data": {
      "text/plain": "array([-6.00934605])"
     },
     "execution_count": 68,
     "metadata": {},
     "output_type": "execute_result"
    }
   ],
   "source": [
    "# examine the intercept\n",
    "lr.intercept_ "
   ]
  },
  {
   "cell_type": "markdown",
   "metadata": {},
   "source": [
    "**Interpretation**: For an 'al' value of 0, the log-odds of 'household' is -7.71."
   ]
  },
  {
   "cell_type": "markdown",
   "metadata": {},
   "source": [
    "### Logistic Regression with Categorical Features"
   ]
  },
  {
   "cell_type": "markdown",
   "metadata": {},
   "source": [
    "Logistic regression can still be used with **categorical features**. Let's see an example:"
   ]
  },
  {
   "cell_type": "code",
   "execution_count": 69,
   "metadata": {},
   "outputs": [
    {
     "data": {
      "text/plain": "0.00    176\n0.06      1\n0.09      2\n0.11      2\n0.14      1\n0.15      1\n0.24      1\n0.27      1\n0.40      1\n0.53      1\n0.54      1\n0.56      1\n0.61      1\n0.63      1\n0.64      2\n0.66      1\n0.67      1\n0.69      1\n0.76      1\n0.81      1\n1.06      1\n1.19      1\n1.38      1\n1.55      1\n1.57      2\n1.59      2\n1.63      1\n1.64      1\n1.67      1\n1.68      1\n1.71      1\n2.20      1\n2.88      1\n3.15      1\nName: ba, dtype: int64"
     },
     "execution_count": 69,
     "metadata": {},
     "output_type": "execute_result"
    }
   ],
   "source": [
    "glass.ba.value_counts().sort_index()"
   ]
  },
  {
   "cell_type": "code",
   "execution_count": 70,
   "metadata": {},
   "outputs": [
    {
     "data": {
      "text/html": "<div>\n<style scoped>\n    .dataframe tbody tr th:only-of-type {\n        vertical-align: middle;\n    }\n\n    .dataframe tbody tr th {\n        vertical-align: top;\n    }\n\n    .dataframe thead th {\n        text-align: right;\n    }\n</style>\n<table border=\"1\" class=\"dataframe\">\n  <thead>\n    <tr style=\"text-align: right;\">\n      <th></th>\n      <th>ri</th>\n      <th>na</th>\n      <th>mg</th>\n      <th>al</th>\n      <th>si</th>\n      <th>k</th>\n      <th>ca</th>\n      <th>ba</th>\n      <th>fe</th>\n      <th>glass_type</th>\n      <th>ri_pred</th>\n      <th>household</th>\n      <th>household_pred</th>\n      <th>household_pred_class</th>\n      <th>household_pred_prob</th>\n      <th>high_ba</th>\n    </tr>\n    <tr>\n      <th>id</th>\n      <th></th>\n      <th></th>\n      <th></th>\n      <th></th>\n      <th></th>\n      <th></th>\n      <th></th>\n      <th></th>\n      <th></th>\n      <th></th>\n      <th></th>\n      <th></th>\n      <th></th>\n      <th></th>\n      <th></th>\n      <th></th>\n    </tr>\n  </thead>\n  <tbody>\n    <tr>\n      <th>22</th>\n      <td>1.51966</td>\n      <td>14.77</td>\n      <td>3.75</td>\n      <td>0.29</td>\n      <td>72.02</td>\n      <td>0.03</td>\n      <td>9.00</td>\n      <td>0.0</td>\n      <td>0.00</td>\n      <td>1</td>\n      <td>1.521227</td>\n      <td>0</td>\n      <td>-0.340495</td>\n      <td>0</td>\n      <td>0.006024</td>\n      <td>0</td>\n    </tr>\n    <tr>\n      <th>185</th>\n      <td>1.51115</td>\n      <td>17.38</td>\n      <td>0.00</td>\n      <td>0.34</td>\n      <td>75.41</td>\n      <td>0.00</td>\n      <td>6.65</td>\n      <td>0.0</td>\n      <td>0.00</td>\n      <td>6</td>\n      <td>1.521103</td>\n      <td>1</td>\n      <td>-0.315436</td>\n      <td>0</td>\n      <td>0.007032</td>\n      <td>0</td>\n    </tr>\n    <tr>\n      <th>40</th>\n      <td>1.52213</td>\n      <td>14.21</td>\n      <td>3.82</td>\n      <td>0.47</td>\n      <td>71.77</td>\n      <td>0.11</td>\n      <td>9.57</td>\n      <td>0.0</td>\n      <td>0.00</td>\n      <td>1</td>\n      <td>1.520781</td>\n      <td>0</td>\n      <td>-0.250283</td>\n      <td>0</td>\n      <td>0.010506</td>\n      <td>0</td>\n    </tr>\n    <tr>\n      <th>39</th>\n      <td>1.52213</td>\n      <td>14.21</td>\n      <td>3.82</td>\n      <td>0.47</td>\n      <td>71.77</td>\n      <td>0.11</td>\n      <td>9.57</td>\n      <td>0.0</td>\n      <td>0.00</td>\n      <td>1</td>\n      <td>1.520781</td>\n      <td>0</td>\n      <td>-0.250283</td>\n      <td>0</td>\n      <td>0.010506</td>\n      <td>0</td>\n    </tr>\n    <tr>\n      <th>51</th>\n      <td>1.52320</td>\n      <td>13.72</td>\n      <td>3.72</td>\n      <td>0.51</td>\n      <td>71.75</td>\n      <td>0.09</td>\n      <td>10.06</td>\n      <td>0.0</td>\n      <td>0.16</td>\n      <td>1</td>\n      <td>1.520682</td>\n      <td>0</td>\n      <td>-0.230236</td>\n      <td>0</td>\n      <td>0.011884</td>\n      <td>0</td>\n    </tr>\n  </tbody>\n</table>\n</div>",
      "text/plain": "          ri     na    mg    al     si     k     ca   ba    fe  glass_type  \\\nid                                                                           \n22   1.51966  14.77  3.75  0.29  72.02  0.03   9.00  0.0  0.00           1   \n185  1.51115  17.38  0.00  0.34  75.41  0.00   6.65  0.0  0.00           6   \n40   1.52213  14.21  3.82  0.47  71.77  0.11   9.57  0.0  0.00           1   \n39   1.52213  14.21  3.82  0.47  71.77  0.11   9.57  0.0  0.00           1   \n51   1.52320  13.72  3.72  0.51  71.75  0.09  10.06  0.0  0.16           1   \n\n      ri_pred  household  household_pred  household_pred_class  \\\nid                                                               \n22   1.521227          0       -0.340495                     0   \n185  1.521103          1       -0.315436                     0   \n40   1.520781          0       -0.250283                     0   \n39   1.520781          0       -0.250283                     0   \n51   1.520682          0       -0.230236                     0   \n\n     household_pred_prob  high_ba  \nid                                 \n22              0.006024        0  \n185             0.007032        0  \n40              0.010506        0  \n39              0.010506        0  \n51              0.011884        0  "
     },
     "execution_count": 70,
     "metadata": {},
     "output_type": "execute_result"
    }
   ],
   "source": [
    "# create a categorical feature related to Barium level\n",
    "\n",
    "glass['high_ba']=np.where(glass.ba>0.5,1,0)  #ba>0.5为1\n",
    "glass.head()"
   ]
  },
  {
   "cell_type": "markdown",
   "metadata": {},
   "source": [
    "Using seaborn visualization library to draw a logistic curve:"
   ]
  },
  {
   "cell_type": "code",
   "execution_count": 71,
   "metadata": {},
   "outputs": [
    {
     "data": {
      "image/png": "[encoded data removed]",
      "text/plain": "<Figure size 360x360 with 1 Axes>"
     },
     "metadata": {
      "needs_background": "light"
     },
     "output_type": "display_data"
    }
   ],
   "source": [
    "import seaborn as sns\n",
    "%matplotlib inline\n",
    "#sns.set(style='darkgrid')\n",
    "sns.lmplot('ba','household',data=glass,logistic=True,ci=None)#ci不设置置信区间\n",
    "plt.show()"
   ]
  },
  {
   "cell_type": "code",
   "execution_count": 72,
   "metadata": {},
   "outputs": [
    {
     "data": {
      "text/plain": "<seaborn.axisgrid.FacetGrid at 0x1c26e9edef0>"
     },
     "execution_count": 72,
     "metadata": {},
     "output_type": "execute_result"
    },
    {
     "data": {
      "image/png": "[encoded data removed]",
      "text/plain": "<Figure size 360x360 with 1 Axes>"
     },
     "metadata": {
      "needs_background": "light"
     },
     "output_type": "display_data"
    }
   ],
   "source": [
    "# categorical feature\n",
    "sns.lmplot('high_ba','household',data=glass,logistic=True,ci=None)"
   ]
  },
  {
   "cell_type": "code",
   "execution_count": 73,
   "metadata": {},
   "outputs": [
    {
     "data": {
      "text/plain": "(-0.2, 1.2)"
     },
     "execution_count": 73,
     "metadata": {},
     "output_type": "execute_result"
    },
    {
     "data": {
      "image/png": "[encoded data removed]",
      "text/plain": "<Figure size 360x360 with 1 Axes>"
     },
     "metadata": {
      "needs_background": "light"
     },
     "output_type": "display_data"
    }
   ],
   "source": [
    "# categorical feature, with jitter added\n",
    "sns.lmplot('high_ba','household',data=glass,logistic=True,ci=None,x_jitter=0.1,y_jitter=0.1) #jitter随机增加噪音点\n",
    "plt.xlim(-0.2,1.2)"
   ]
  },
  {
   "cell_type": "code",
   "execution_count": 74,
   "metadata": {},
   "outputs": [
    {
     "data": {
      "text/plain": "LogisticRegression(C=1.0, class_weight=None, dual=False, fit_intercept=True,\n                   intercept_scaling=1, l1_ratio=None, max_iter=100,\n                   multi_class='auto', n_jobs=None, penalty='l2',\n                   random_state=None, solver='lbfgs', tol=0.0001, verbose=0,\n                   warm_start=False)"
     },
     "execution_count": 74,
     "metadata": {},
     "output_type": "execute_result"
    }
   ],
   "source": [
    "# fit a logistic regression model\n",
    "X=glass[['high_ba']]\n",
    "y=glass.household\n",
    "lr.fit(X,y)"
   ]
  },
  {
   "cell_type": "code",
   "execution_count": 75,
   "metadata": {},
   "outputs": [
    {
     "name": "stdout",
     "output_type": "stream",
     "text": "high_ba [[3.20009192]]\n"
    }
   ],
   "source": [
    "# examine the coefficient for high_ba\n",
    "print('high_ba',lr.coef_)"
   ]
  },
  {
   "cell_type": "markdown",
   "metadata": {},
   "source": [
    "**Interpretation:** Having a high 'ba' value is associated with a 4.43 unit increase in the log-odds of 'household' (as compared to a low 'ba' value)."
   ]
  },
  {
   "cell_type": "markdown",
   "metadata": {},
   "source": [
    "## Part 4: Logistic regression with Titanic data"
   ]
  },
  {
   "cell_type": "markdown",
   "metadata": {},
   "source": [
    "**Goal**: to predict the survival of the passengers of titanic based on characteristics of passengers ([description](https://raw.githubusercontent.com/o-m-i-d/ML_exercises_2016/master/titanic.names) , [data](https://raw.githubusercontent.com/o-m-i-d/ML_exercises_2016/master/titanic.data))"
   ]
  },
  {
   "cell_type": "markdown",
   "metadata": {},
   "source": [
    "### Step 1: Read the data into Pandas"
   ]
  },
  {
   "cell_type": "code",
   "execution_count": 76,
   "metadata": {},
   "outputs": [
    {
     "data": {
      "text/html": "<div>\n<style scoped>\n    .dataframe tbody tr th:only-of-type {\n        vertical-align: middle;\n    }\n\n    .dataframe tbody tr th {\n        vertical-align: top;\n    }\n\n    .dataframe thead th {\n        text-align: right;\n    }\n</style>\n<table border=\"1\" class=\"dataframe\">\n  <thead>\n    <tr style=\"text-align: right;\">\n      <th></th>\n      <th>Survived</th>\n      <th>Pclass</th>\n      <th>Name</th>\n      <th>Sex</th>\n      <th>Age</th>\n      <th>SibSp</th>\n      <th>Parch</th>\n      <th>Ticket</th>\n      <th>Fare</th>\n      <th>Cabin</th>\n      <th>Embarked</th>\n    </tr>\n    <tr>\n      <th>PassengerId</th>\n      <th></th>\n      <th></th>\n      <th></th>\n      <th></th>\n      <th></th>\n      <th></th>\n      <th></th>\n      <th></th>\n      <th></th>\n      <th></th>\n      <th></th>\n    </tr>\n  </thead>\n  <tbody>\n    <tr>\n      <th>1</th>\n      <td>0</td>\n      <td>3</td>\n      <td>Braund, Mr. Owen Harris</td>\n      <td>male</td>\n      <td>22.0</td>\n      <td>1</td>\n      <td>0</td>\n      <td>A/5 21171</td>\n      <td>7.2500</td>\n      <td>NaN</td>\n      <td>S</td>\n    </tr>\n    <tr>\n      <th>2</th>\n      <td>1</td>\n      <td>1</td>\n      <td>Cumings, Mrs. John Bradley (Florence Briggs Th...</td>\n      <td>female</td>\n      <td>38.0</td>\n      <td>1</td>\n      <td>0</td>\n      <td>PC 17599</td>\n      <td>71.2833</td>\n      <td>C85</td>\n      <td>C</td>\n    </tr>\n    <tr>\n      <th>3</th>\n      <td>1</td>\n      <td>3</td>\n      <td>Heikkinen, Miss. Laina</td>\n      <td>female</td>\n      <td>26.0</td>\n      <td>0</td>\n      <td>0</td>\n      <td>STON/O2. 3101282</td>\n      <td>7.9250</td>\n      <td>NaN</td>\n      <td>S</td>\n    </tr>\n    <tr>\n      <th>4</th>\n      <td>1</td>\n      <td>1</td>\n      <td>Futrelle, Mrs. Jacques Heath (Lily May Peel)</td>\n      <td>female</td>\n      <td>35.0</td>\n      <td>1</td>\n      <td>0</td>\n      <td>113803</td>\n      <td>53.1000</td>\n      <td>C123</td>\n      <td>S</td>\n    </tr>\n    <tr>\n      <th>5</th>\n      <td>0</td>\n      <td>3</td>\n      <td>Allen, Mr. William Henry</td>\n      <td>male</td>\n      <td>35.0</td>\n      <td>0</td>\n      <td>0</td>\n      <td>373450</td>\n      <td>8.0500</td>\n      <td>NaN</td>\n      <td>S</td>\n    </tr>\n  </tbody>\n</table>\n</div>",
      "text/plain": "             Survived  Pclass  \\\nPassengerId                     \n1                   0       3   \n2                   1       1   \n3                   1       3   \n4                   1       1   \n5                   0       3   \n\n                                                          Name     Sex   Age  \\\nPassengerId                                                                    \n1                                      Braund, Mr. Owen Harris    male  22.0   \n2            Cumings, Mrs. John Bradley (Florence Briggs Th...  female  38.0   \n3                                       Heikkinen, Miss. Laina  female  26.0   \n4                 Futrelle, Mrs. Jacques Heath (Lily May Peel)  female  35.0   \n5                                     Allen, Mr. William Henry    male  35.0   \n\n             SibSp  Parch            Ticket     Fare Cabin Embarked  \nPassengerId                                                          \n1                1      0         A/5 21171   7.2500   NaN        S  \n2                1      0          PC 17599  71.2833   C85        C  \n3                0      0  STON/O2. 3101282   7.9250   NaN        S  \n4                1      0            113803  53.1000  C123        S  \n5                0      0            373450   8.0500   NaN        S  "
     },
     "execution_count": 76,
     "metadata": {},
     "output_type": "execute_result"
    }
   ],
   "source": [
    "import pandas as pd\n",
    "titanic = pd.read_csv('./titanic.data', index_col='PassengerId')\n",
    "titanic.head()"
   ]
  },
  {
   "cell_type": "markdown",
   "metadata": {},
   "source": [
    "### Step 2: Define features vectors and response"
   ]
  },
  {
   "cell_type": "code",
   "execution_count": 77,
   "metadata": {},
   "outputs": [],
   "source": [
    "# chosen features are passenger class and number of parents/children abroad \n",
    "X=titanic[['Pclass','Parch']]\n",
    "y=titanic.Survived"
   ]
  },
  {
   "cell_type": "markdown",
   "metadata": {},
   "source": [
    "### Step 3: Split the data into training and testing sets for cross validation"
   ]
  },
  {
   "cell_type": "code",
   "execution_count": 78,
   "metadata": {},
   "outputs": [],
   "source": [
    "from sklearn.model_selection import train_test_split\n",
    "X_train, X_test, y_train, y_test = train_test_split(X, y, random_state=1)"
   ]
  },
  {
   "cell_type": "markdown",
   "metadata": {},
   "source": [
    "### Step 4: Fit a logistic regression model and obtain the coefficients"
   ]
  },
  {
   "cell_type": "code",
   "execution_count": 79,
   "metadata": {},
   "outputs": [
    {
     "data": {
      "text/plain": "[('Pclass', -0.8819041923927701), ('Parch', 0.34240413616581256)]"
     },
     "execution_count": 79,
     "metadata": {},
     "output_type": "execute_result"
    }
   ],
   "source": [
    "from sklearn.linear_model import LogisticRegression\n",
    "feature_cols=['Pclass','Parch']\n",
    "logreg = LogisticRegression(C=1e9)\n",
    "logreg.fit(X_train, y_train)\n",
    "zipped=zip(feature_cols, logreg.coef_[0])\n",
    "list(zipped)"
   ]
  },
  {
   "cell_type": "markdown",
   "metadata": {},
   "source": [
    "### Step 5: Make predictions on the testing set and calculate its accuracy"
   ]
  },
  {
   "cell_type": "code",
   "execution_count": 80,
   "metadata": {},
   "outputs": [
    {
     "data": {
      "text/plain": "array([1, 0, 0, 0, 1, 0, 1, 1, 1, 0, 0, 0, 1, 0, 0, 1, 0, 0, 0, 1, 0, 0,\n       1, 0, 0, 0, 1, 0, 0, 1, 0, 1, 1, 0, 0, 0, 1, 0, 1, 0, 0, 0, 1, 1,\n       1, 0, 0, 0, 1, 0, 0, 0, 0, 0, 0, 0, 0, 1, 1, 0, 0, 0, 0, 1, 1, 0,\n       0, 0, 0, 0, 0, 0, 1, 0, 0, 0, 1, 0, 1, 1, 0, 0, 0, 0, 0, 0, 0, 0,\n       0, 0, 1, 0, 0, 0, 0, 1, 0, 0, 0, 0, 1, 1, 0, 0, 1, 0, 0, 0, 0, 0,\n       1, 0, 0, 0, 0, 0, 0, 1, 0, 0, 0, 1, 0, 0, 1, 1, 0, 0, 0, 0, 0, 0,\n       0, 1, 0, 1, 1, 0, 0, 0, 1, 0, 1, 0, 0, 0, 0, 0, 1, 0, 0, 0, 0, 0,\n       0, 0, 0, 0, 0, 0, 0, 0, 0, 1, 0, 0, 0, 0, 0, 1, 1, 0, 1, 0, 1, 1,\n       0, 0, 0, 0, 1, 0, 0, 0, 1, 0, 0, 1, 0, 1, 1, 1, 0, 0, 0, 1, 0, 0,\n       0, 1, 0, 1, 0, 0, 1, 0, 1, 0, 1, 0, 1, 0, 0, 0, 0, 0, 0, 1, 1, 1,\n       1, 0, 1], dtype=int64)"
     },
     "execution_count": 80,
     "metadata": {},
     "output_type": "execute_result"
    }
   ],
   "source": [
    "# class predictions (not predicted probabilities)\n",
    "y_pred=logreg.predict(X_test)\n",
    "y_pred"
   ]
  },
  {
   "cell_type": "code",
   "execution_count": 81,
   "metadata": {},
   "outputs": [
    {
     "data": {
      "text/plain": "0.6681614349775785"
     },
     "execution_count": 81,
     "metadata": {},
     "output_type": "execute_result"
    }
   ],
   "source": [
    "# calculate classification accuracy\n",
    "logreg.score(X_test,y_test) #计算准确率"
   ]
  },
  {
   "cell_type": "markdown",
   "metadata": {},
   "source": [
    "### Step 6: Compare the test accuracy with the null accuracy"
   ]
  },
  {
   "cell_type": "code",
   "execution_count": 82,
   "metadata": {},
   "outputs": [
    {
     "data": {
      "text/plain": "0.5739910313901345"
     },
     "execution_count": 82,
     "metadata": {},
     "output_type": "execute_result"
    }
   ],
   "source": [
    "max(y_test.mean(), 1 - y_test.mean())"
   ]
  },
  {
   "cell_type": "markdown",
   "metadata": {},
   "source": [
    "### Confusion matrix of Titanic survival predictions"
   ]
  },
  {
   "cell_type": "code",
   "execution_count": 83,
   "metadata": {},
   "outputs": [
    {
     "name": "stdout",
     "output_type": "stream",
     "text": "[[105  23]\n [ 51  44]]\n"
    }
   ],
   "source": [
    "# print confusion matrix\n",
    "from sklearn.metrics import confusion_matrix\n",
    "print(confusion_matrix(y_test,y_pred))"
   ]
  },
  {
   "cell_type": "code",
   "execution_count": 84,
   "metadata": {},
   "outputs": [
    {
     "name": "stdout",
     "output_type": "stream",
     "text": "44 23 51 105\n"
    }
   ],
   "source": [
    "# save confusion matrix and slice into four pieces\n",
    "TP=confusion_matrix(y_test,y_pred)[1,1]\n",
    "FP=confusion_matrix(y_test,y_pred)[0,1]\n",
    "FN=confusion_matrix(y_test,y_pred)[1,0]\n",
    "TN=confusion_matrix(y_test,y_pred)[0,0]\n",
    "print(TP,FP,FN,TN)"
   ]
  },
  {
   "cell_type": "code",
   "execution_count": 85,
   "metadata": {},
   "outputs": [
    {
     "name": "stdout",
     "output_type": "stream",
     "text": "0.4631578947368421\n"
    }
   ],
   "source": [
    "# calculate the sensitivity\n",
    "print (TP / float(TP + FN))"
   ]
  },
  {
   "cell_type": "code",
   "execution_count": 86,
   "metadata": {},
   "outputs": [
    {
     "name": "stdout",
     "output_type": "stream",
     "text": "0.8203125\n"
    }
   ],
   "source": [
    "# calculate the specificity\n",
    "print (TN / float(TN + FP))"
   ]
  },
  {
   "cell_type": "code",
   "execution_count": 87,
   "metadata": {},
   "outputs": [
    {
     "data": {
      "text/plain": "Text(0,0.5,'Frequency')"
     },
     "execution_count": 87,
     "metadata": {},
     "output_type": "execute_result"
    },
    {
     "data": {
      "image/png": "[encoded data removed]",
      "text/plain": "<Figure size 432x288 with 1 Axes>"
     },
     "metadata": {
      "needs_background": "light"
     },
     "output_type": "display_data"
    }
   ],
   "source": [
    "# store the predicted probabilities\n",
    "y_pred_prob=logreg.predict_proba(X_test)[:,1]\n",
    "# histogram of predicted probabilities\n",
    "plt.hist(y_pred_prob)\n",
    "plt.xlim(0,1)\n",
    "plt.ylim(0,100)\n",
    "plt.xlabel('Predicted probability of survival')\n",
    "plt.ylabel('Frequency')"
   ]
  },
  {
   "cell_type": "code",
   "execution_count": 88,
   "metadata": {},
   "outputs": [],
   "source": [
    "# increase sensitivity by lowering the threshold for predicting survival 通过降低预测生存的阈值来增加敏感性\n",
    "import numpy as np\n",
    "y_pred_class = np.where(y_pred_prob > 0.3, 1, 0)"
   ]
  },
  {
   "cell_type": "code",
   "execution_count": 89,
   "metadata": {},
   "outputs": [
    {
     "name": "stdout",
     "output_type": "stream",
     "text": "[[105  23]\n [ 51  44]]\n"
    }
   ],
   "source": [
    "# old confusion matrix\n",
    "confusion=confusion_matrix(y_test,y_pred)\n",
    "print (confusion)"
   ]
  },
  {
   "cell_type": "code",
   "execution_count": 90,
   "metadata": {},
   "outputs": [
    {
     "name": "stdout",
     "output_type": "stream",
     "text": "[[72 56]\n [32 63]]\n"
    }
   ],
   "source": [
    "# new confusion matrix\n",
    "print (confusion_matrix(y_test, y_pred_class))"
   ]
  },
  {
   "cell_type": "code",
   "execution_count": 91,
   "metadata": {},
   "outputs": [
    {
     "name": "stdout",
     "output_type": "stream",
     "text": "0.6631578947368421\n"
    }
   ],
   "source": [
    "# new sensitivity (higher than before)\n",
    "print (63 / float(63 + 32))"
   ]
  },
  {
   "cell_type": "code",
   "execution_count": 92,
   "metadata": {},
   "outputs": [
    {
     "name": "stdout",
     "output_type": "stream",
     "text": "0.5625\n"
    }
   ],
   "source": [
    "# new specificity (lower than before)\n",
    "print (72 / float(72 + 56))"
   ]
  },
  {
   "cell_type": "code",
   "execution_count": 93,
   "metadata": {},
   "outputs": [
    {
     "name": "stdout",
     "output_type": "stream",
     "text": "0.6053811659192825\n"
    }
   ],
   "source": [
    "# calculate classification accuracy with new threshold\n",
    "from sklearn import metrics\n",
    "print (metrics.accuracy_score(y_test, y_pred_class)) #计算准确率"
   ]
  },
  {
   "cell_type": "code",
   "execution_count": null,
   "metadata": {},
   "outputs": [],
   "source": []
  }
 ],
 "metadata": {
  "celltoolbar": "Raw Cell Format",
  "kernelspec": {
   "display_name": "Python 3.7.0 64-bit ('base': conda)",
   "language": "python",
   "name": "python37064bitbasecondaa8718354cf314d6cb09957be85088dc7"
  },
  "language_info": {
   "codemirror_mode": {
    "name": "ipython",
    "version": 3
   },
   "file_extension": ".py",
   "mimetype": "text/x-python",
   "name": "python",
   "nbconvert_exporter": "python",
   "pygments_lexer": "ipython3",
   "version": "3.7.0-final"
  }
 },
 "nbformat": 4,
 "nbformat_minor": 0
}