{
    "nbformat_minor": 2,
    "cells": [
        {
            "cell_type": "markdown",
            "metadata": {},
            "source": [
                "# Exercise 9: Which stocks move together?\n",
                "\n",
                "In the previous exercise, you clustered companies by their daily stock price movements.  So which company have stock prices that tend to change in the same way?  Now inspect the cluster labels from your clustering to find out."
            ]
        },
        {
            "cell_type": "markdown",
            "metadata": {},
            "source": [
                "From the course _Transition to Data Science_. [Buy the entire course for just $10](https://www.udemy.com/transition-to-data-science-in-python/?couponCode=CLUSTER-NBS) for many more exercises and helpful video lectures."
            ]
        },
        {
            "cell_type": "markdown",
            "metadata": {},
            "source": [
                "**Step 1:** Load the data _(written for you)_."
            ]
        },
        {
            "cell_type": "code",
            "execution_count": 9,
            "metadata": {},
            "outputs": [],
            "source": [
                "import pandas as pd\n",
                "\n",
                "fn = '../datasets/company-stock-movements-2010-2015-incl.csv'\n",
                "stocks_df = pd.read_csv(fn, index_col=0)"
            ]
        },
        {
            "cell_type": "markdown",
            "metadata": {},
            "source": [
                "**Step 2:** Run your code from the previous exercise _(filled in for you)_."
            ]
        },
        {
            "cell_type": "code",
            "execution_count": 10,
            "metadata": {},
            "outputs": [
                {
                    "data": {
                        "text/plain": "Pipeline(memory=None,\n         steps=[('normalizer', Normalizer(copy=True, norm='l2')),\n                ('kmeans',\n                 KMeans(algorithm='auto', copy_x=True, init='k-means++',\n                        max_iter=300, n_clusters=14, n_init=10, n_jobs=None,\n                        precompute_distances='auto', random_state=None,\n                        tol=0.0001, verbose=0))],\n         verbose=False)"
                    },
                    "execution_count": 10,
                    "metadata": {},
                    "output_type": "execute_result"
                }
            ],
            "source": [
                "companies = list(stocks_df.index)\n",
                "movements = stocks_df.values\n",
                "\n",
                "from sklearn.preprocessing import Normalizer\n",
                "from sklearn.cluster import KMeans\n",
                "from sklearn.pipeline import make_pipeline\n",
                "\n",
                "normalizer = Normalizer()\n",
                "kmeans = KMeans(n_clusters=14)\n",
                "pipeline = make_pipeline(normalizer, kmeans)\n",
                "pipeline.fit(movements)"
            ]
        },
        {
            "cell_type": "markdown",
            "metadata": {},
            "source": [
                "**Step 3:** Use the `.predict()` method of the pipeline to predict the labels for `movements`."
            ]
        },
        {
            "cell_type": "code",
            "execution_count": 11,
            "metadata": {},
            "outputs": [
                {
                    "data": {
                        "text/plain": "array([ 8,  0, 10,  1, 12,  0,  6,  4,  1,  2,  5,  7,  5,  1,  3,  0,  0,\n       10,  0,  6,  1,  4,  3,  1,  7,  1,  0,  2, 11, 12,  1, 13,  1,  7,\n        4,  6, 12,  6, 11,  5,  2, 11,  6,  6,  5,  4,  6,  1,  4,  6,  7,\n        7,  6,  5, 12,  0,  9,  5,  0,  1])"
                    },
                    "execution_count": 11,
                    "metadata": {},
                    "output_type": "execute_result"
                }
            ],
            "source": [
                "labels=pipeline.predict(movements)\n",
                "labels"
            ]
        },
        {
            "cell_type": "markdown",
            "metadata": {},
            "source": [
                "**Step 4:** Align the cluster labels with the list of company names `companies` by creating a DataFrame `df` with `labels` and `companies` as columns."
            ]
        },
        {
            "cell_type": "code",
            "execution_count": 12,
            "metadata": {},
            "outputs": [
                {
                    "data": {
                        "text/html": "<div>\n<style scoped>\n    .dataframe tbody tr th:only-of-type {\n        vertical-align: middle;\n    }\n\n    .dataframe tbody tr th {\n        vertical-align: top;\n    }\n\n    .dataframe thead th {\n        text-align: right;\n    }\n</style>\n<table border=\"1\" class=\"dataframe\">\n  <thead>\n    <tr style=\"text-align: right;\">\n      <th></th>\n      <th>labels</th>\n      <th>companies</th>\n    </tr>\n  </thead>\n  <tbody>\n    <tr>\n      <th>0</th>\n      <td>8</td>\n      <td>Apple</td>\n    </tr>\n    <tr>\n      <th>1</th>\n      <td>0</td>\n      <td>AIG</td>\n    </tr>\n    <tr>\n      <th>2</th>\n      <td>10</td>\n      <td>Amazon</td>\n    </tr>\n    <tr>\n      <th>3</th>\n      <td>1</td>\n      <td>American express</td>\n    </tr>\n    <tr>\n      <th>4</th>\n      <td>12</td>\n      <td>Boeing</td>\n    </tr>\n  </tbody>\n</table>\n</div>",
                        "text/plain": "   labels         companies\n0       8             Apple\n1       0               AIG\n2      10            Amazon\n3       1  American express\n4      12            Boeing"
                    },
                    "execution_count": 12,
                    "metadata": {},
                    "output_type": "execute_result"
                }
            ],
            "source": [
                "df=pd.DataFrame({'labels':labels,'companies':companies})\n",
                "df.head()"
            ]
        },
        {
            "cell_type": "markdown",
            "metadata": {},
            "source": [
                "**Step 5:** Now display the DataFrame, sorted by cluster label.  To do this, use the `.sort_values()` method of `df` to sort the DataFrame by the `'labels'` column."
            ]
        },
        {
            "cell_type": "code",
            "execution_count": 13,
            "metadata": {},
            "outputs": [
                {
                    "data": {
                        "text/html": "<div>\n<style scoped>\n    .dataframe tbody tr th:only-of-type {\n        vertical-align: middle;\n    }\n\n    .dataframe tbody tr th {\n        vertical-align: top;\n    }\n\n    .dataframe thead th {\n        text-align: right;\n    }\n</style>\n<table border=\"1\" class=\"dataframe\">\n  <thead>\n    <tr style=\"text-align: right;\">\n      <th></th>\n      <th>labels</th>\n      <th>companies</th>\n    </tr>\n  </thead>\n  <tbody>\n    <tr>\n      <th>1</th>\n      <td>0</td>\n      <td>AIG</td>\n    </tr>\n    <tr>\n      <th>55</th>\n      <td>0</td>\n      <td>Wells Fargo</td>\n    </tr>\n    <tr>\n      <th>5</th>\n      <td>0</td>\n      <td>Bank of America</td>\n    </tr>\n    <tr>\n      <th>58</th>\n      <td>0</td>\n      <td>Xerox</td>\n    </tr>\n    <tr>\n      <th>26</th>\n      <td>0</td>\n      <td>JPMorgan Chase</td>\n    </tr>\n    <tr>\n      <th>18</th>\n      <td>0</td>\n      <td>Goldman Sachs</td>\n    </tr>\n    <tr>\n      <th>16</th>\n      <td>0</td>\n      <td>General Electrics</td>\n    </tr>\n    <tr>\n      <th>15</th>\n      <td>0</td>\n      <td>Ford</td>\n    </tr>\n    <tr>\n      <th>59</th>\n      <td>1</td>\n      <td>Yahoo</td>\n    </tr>\n    <tr>\n      <th>32</th>\n      <td>1</td>\n      <td>3M</td>\n    </tr>\n    <tr>\n      <th>30</th>\n      <td>1</td>\n      <td>MasterCard</td>\n    </tr>\n    <tr>\n      <th>25</th>\n      <td>1</td>\n      <td>Johnson &amp; Johnson</td>\n    </tr>\n    <tr>\n      <th>20</th>\n      <td>1</td>\n      <td>Home Depot</td>\n    </tr>\n    <tr>\n      <th>23</th>\n      <td>1</td>\n      <td>IBM</td>\n    </tr>\n    <tr>\n      <th>3</th>\n      <td>1</td>\n      <td>American express</td>\n    </tr>\n    <tr>\n      <th>13</th>\n      <td>1</td>\n      <td>DuPont de Nemours</td>\n    </tr>\n    <tr>\n      <th>8</th>\n      <td>1</td>\n      <td>Caterpillar</td>\n    </tr>\n    <tr>\n      <th>47</th>\n      <td>1</td>\n      <td>Symantec</td>\n    </tr>\n    <tr>\n      <th>9</th>\n      <td>2</td>\n      <td>Colgate-Palmolive</td>\n    </tr>\n    <tr>\n      <th>40</th>\n      <td>2</td>\n      <td>Procter Gamble</td>\n    </tr>\n    <tr>\n      <th>27</th>\n      <td>2</td>\n      <td>Kimberly-Clark</td>\n    </tr>\n    <tr>\n      <th>14</th>\n      <td>3</td>\n      <td>Dell</td>\n    </tr>\n    <tr>\n      <th>22</th>\n      <td>3</td>\n      <td>HP</td>\n    </tr>\n    <tr>\n      <th>45</th>\n      <td>4</td>\n      <td>Sony</td>\n    </tr>\n    <tr>\n      <th>21</th>\n      <td>4</td>\n      <td>Honda</td>\n    </tr>\n    <tr>\n      <th>48</th>\n      <td>4</td>\n      <td>Toyota</td>\n    </tr>\n    <tr>\n      <th>7</th>\n      <td>4</td>\n      <td>Canon</td>\n    </tr>\n    <tr>\n      <th>34</th>\n      <td>4</td>\n      <td>Mitsubishi</td>\n    </tr>\n    <tr>\n      <th>44</th>\n      <td>5</td>\n      <td>Schlumberger</td>\n    </tr>\n    <tr>\n      <th>39</th>\n      <td>5</td>\n      <td>Pfizer</td>\n    </tr>\n    <tr>\n      <th>53</th>\n      <td>5</td>\n      <td>Valero Energy</td>\n    </tr>\n    <tr>\n      <th>10</th>\n      <td>5</td>\n      <td>ConocoPhillips</td>\n    </tr>\n    <tr>\n      <th>12</th>\n      <td>5</td>\n      <td>Chevron</td>\n    </tr>\n    <tr>\n      <th>57</th>\n      <td>5</td>\n      <td>Exxon</td>\n    </tr>\n    <tr>\n      <th>6</th>\n      <td>6</td>\n      <td>British American Tobacco</td>\n    </tr>\n    <tr>\n      <th>35</th>\n      <td>6</td>\n      <td>Navistar</td>\n    </tr>\n    <tr>\n      <th>37</th>\n      <td>6</td>\n      <td>Novartis</td>\n    </tr>\n    <tr>\n      <th>49</th>\n      <td>6</td>\n      <td>Total</td>\n    </tr>\n    <tr>\n      <th>52</th>\n      <td>6</td>\n      <td>Unilever</td>\n    </tr>\n    <tr>\n      <th>42</th>\n      <td>6</td>\n      <td>Royal Dutch Shell</td>\n    </tr>\n    <tr>\n      <th>43</th>\n      <td>6</td>\n      <td>SAP</td>\n    </tr>\n    <tr>\n      <th>46</th>\n      <td>6</td>\n      <td>Sanofi-Aventis</td>\n    </tr>\n    <tr>\n      <th>19</th>\n      <td>6</td>\n      <td>GlaxoSmithKline</td>\n    </tr>\n    <tr>\n      <th>33</th>\n      <td>7</td>\n      <td>Microsoft</td>\n    </tr>\n    <tr>\n      <th>50</th>\n      <td>7</td>\n      <td>Taiwan Semiconductor Manufacturing</td>\n    </tr>\n    <tr>\n      <th>11</th>\n      <td>7</td>\n      <td>Cisco</td>\n    </tr>\n    <tr>\n      <th>24</th>\n      <td>7</td>\n      <td>Intel</td>\n    </tr>\n    <tr>\n      <th>51</th>\n      <td>7</td>\n      <td>Texas instruments</td>\n    </tr>\n    <tr>\n      <th>0</th>\n      <td>8</td>\n      <td>Apple</td>\n    </tr>\n    <tr>\n      <th>56</th>\n      <td>9</td>\n      <td>Wal-Mart</td>\n    </tr>\n    <tr>\n      <th>17</th>\n      <td>10</td>\n      <td>Google/Alphabet</td>\n    </tr>\n    <tr>\n      <th>2</th>\n      <td>10</td>\n      <td>Amazon</td>\n    </tr>\n    <tr>\n      <th>38</th>\n      <td>11</td>\n      <td>Pepsi</td>\n    </tr>\n    <tr>\n      <th>28</th>\n      <td>11</td>\n      <td>Coca Cola</td>\n    </tr>\n    <tr>\n      <th>41</th>\n      <td>11</td>\n      <td>Philip Morris</td>\n    </tr>\n    <tr>\n      <th>36</th>\n      <td>12</td>\n      <td>Northrop Grumman</td>\n    </tr>\n    <tr>\n      <th>54</th>\n      <td>12</td>\n      <td>Walgreen</td>\n    </tr>\n    <tr>\n      <th>4</th>\n      <td>12</td>\n      <td>Boeing</td>\n    </tr>\n    <tr>\n      <th>29</th>\n      <td>12</td>\n      <td>Lookheed Martin</td>\n    </tr>\n    <tr>\n      <th>31</th>\n      <td>13</td>\n      <td>McDonalds</td>\n    </tr>\n  </tbody>\n</table>\n</div>",
                        "text/plain": "    labels                           companies\n1        0                                 AIG\n55       0                         Wells Fargo\n5        0                     Bank of America\n58       0                               Xerox\n26       0                      JPMorgan Chase\n18       0                       Goldman Sachs\n16       0                   General Electrics\n15       0                                Ford\n59       1                               Yahoo\n32       1                                  3M\n30       1                          MasterCard\n25       1                   Johnson & Johnson\n20       1                          Home Depot\n23       1                                 IBM\n3        1                    American express\n13       1                   DuPont de Nemours\n8        1                         Caterpillar\n47       1                            Symantec\n9        2                   Colgate-Palmolive\n40       2                      Procter Gamble\n27       2                      Kimberly-Clark\n14       3                                Dell\n22       3                                  HP\n45       4                                Sony\n21       4                               Honda\n48       4                              Toyota\n7        4                               Canon\n34       4                          Mitsubishi\n44       5                        Schlumberger\n39       5                              Pfizer\n53       5                       Valero Energy\n10       5                      ConocoPhillips\n12       5                             Chevron\n57       5                               Exxon\n6        6            British American Tobacco\n35       6                            Navistar\n37       6                            Novartis\n49       6                               Total\n52       6                            Unilever\n42       6                   Royal Dutch Shell\n43       6                                 SAP\n46       6                      Sanofi-Aventis\n19       6                     GlaxoSmithKline\n33       7                           Microsoft\n50       7  Taiwan Semiconductor Manufacturing\n11       7                               Cisco\n24       7                               Intel\n51       7                   Texas instruments\n0        8                               Apple\n56       9                            Wal-Mart\n17      10                     Google/Alphabet\n2       10                              Amazon\n38      11                               Pepsi\n28      11                           Coca Cola\n41      11                       Philip Morris\n36      12                    Northrop Grumman\n54      12                            Walgreen\n4       12                              Boeing\n29      12                     Lookheed Martin\n31      13                           McDonalds"
                    },
                    "execution_count": 13,
                    "metadata": {},
                    "output_type": "execute_result"
                }
            ],
            "source": [
                "df.sort_values('labels') #按照labels进行排序"
            ]
        },
        {
            "cell_type": "markdown",
            "metadata": {},
            "source": [
                "**Great job!** Using k-means, you've discovered which companies stock prices move together on the stock exchange."
            ]
        },
        {
            "cell_type": "code",
            "execution_count": null,
            "metadata": {
                "collapsed": true
            },
            "outputs": [],
            "source": []
        }
    ],
    "metadata": {
        "language_info": {
            "pygments_lexer": "ipython3",
            "codemirror_mode": {
                "name": "ipython",
                "version": 3
            },
            "version": "3.7.0-final",
            "name": "python",
            "mimetype": "text/x-python",
            "nbconvert_exporter": "python",
            "file_extension": ".py"
        },
        "kernelspec": {
            "name": "python37064bitbasecondaa8718354cf314d6cb09957be85088dc7",
            "display_name": "Python 3.7.0 64-bit ('base': conda)",
            "language": "python"
        }
    },
    "nbformat": 4
}