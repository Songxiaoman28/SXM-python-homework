{
    "cells": [
        {
            "cell_type": "markdown",
            "metadata": {},
            "source": [
                "# Exercise 5: Evaluating the grain clustering\n",
                "\n",
                "In the previous exercise, you observed from the inertia plot that 3 is a good number of clusters for the grain data.  In fact, the grain samples come from a mix of 3 different grain varieties: \"Kama\", \"Rosa\" and \"Canadian\".  In this exercise, cluster the grain samples into three clusters, and compare the clusters to the grain varieties using a cross-tabulation."
            ]
        },
        {
            "cell_type": "markdown",
            "metadata": {},
            "source": [
                "From the course _Transition to Data Science_. [Buy the entire course for just $10](https://www.udemy.com/transition-to-data-science-in-python/?couponCode=CLUSTER-NBS) for many more exercises and helpful video lectures."
            ]
        },
        {
            "cell_type": "markdown",
            "metadata": {},
            "source": [
                "**Step 1:** Load the dataset _(written for you)_.\n",
                "\n",
                "You have the array `samples` of grain samples, and a list `varieties` giving the grain variety for each sample."
            ]
        },
        {
            "cell_type": "code",
            "execution_count": 1,
            "metadata": {},
            "outputs": [],
            "source": [
                "import pandas as pd\n",
                "\n",
                "seeds_df = pd.read_csv('../datasets/seeds.csv')\n",
                "\n",
                "# extract the grain varieties from the dataframe\n",
                "varieties = list(seeds_df['grain_variety'])\n",
                "del seeds_df['grain_variety']\n",
                "\n",
                "samples = seeds_df.values"
            ]
        },
        {
            "cell_type": "markdown",
            "metadata": {},
            "source": [
                "**Step 2:** Import KMeans"
            ]
        },
        {
            "cell_type": "code",
            "execution_count": 2,
            "metadata": {},
            "outputs": [],
            "source": [
                "from sklearn.cluster import KMeans"
            ]
        },
        {
            "cell_type": "markdown",
            "metadata": {},
            "source": [
                "**Step 3:** Create a `KMeans` model called `model` with `3` clusters.\n"
            ]
        },
        {
            "cell_type": "code",
            "execution_count": 4,
            "metadata": {},
            "outputs": [],
            "source": [
                "model=KMeans(n_clusters=3)"
            ]
        },
        {
            "cell_type": "markdown",
            "metadata": {},
            "source": [
                "**Step 4:** Use the `.fit_predict()` method of `model` to fit it to `samples` and derive the cluster labels.\n",
                "\n",
                "Calling `.fit_predict()` is the same as calling `.fit()` and then calling `.predict()`."
            ]
        },
        {
            "cell_type": "code",
            "execution_count": 7,
            "metadata": {},
            "outputs": [
                {
                    "data": {
                        "text/plain": "array([2, 2, 2, 2, 2, 2, 2, 2, 2, 2, 2, 2, 2, 2, 2, 2, 0, 2, 2, 0, 2, 2,\n       2, 2, 2, 2, 0, 2, 2, 2, 2, 2, 2, 2, 2, 2, 2, 1, 2, 0, 2, 2, 2, 2,\n       2, 2, 2, 2, 2, 2, 2, 2, 2, 2, 2, 2, 2, 2, 2, 2, 0, 0, 0, 0, 2, 2,\n       2, 2, 2, 0, 1, 1, 1, 1, 1, 1, 1, 1, 1, 1, 1, 1, 1, 1, 1, 1, 1, 1,\n       1, 1, 1, 1, 1, 1, 1, 1, 1, 1, 1, 1, 2, 1, 1, 1, 1, 1, 1, 1, 1, 1,\n       1, 1, 1, 1, 1, 1, 1, 1, 1, 1, 1, 1, 2, 1, 2, 1, 1, 1, 1, 1, 1, 1,\n       2, 2, 2, 2, 1, 2, 2, 2, 0, 0, 0, 0, 0, 0, 0, 0, 0, 0, 0, 0, 0, 0,\n       0, 0, 0, 0, 0, 0, 0, 0, 0, 0, 0, 0, 0, 0, 0, 0, 0, 0, 0, 0, 0, 0,\n       0, 0, 0, 2, 0, 0, 0, 0, 0, 0, 0, 0, 0, 0, 0, 0, 0, 0, 0, 0, 0, 0,\n       0, 0, 0, 2, 0, 0, 0, 0, 0, 0, 0, 0])"
                    },
                    "execution_count": 7,
                    "metadata": {},
                    "output_type": "execute_result"
                }
            ],
            "source": [
                "labels=model.fit_predict(samples)\n",
                "labels"
            ]
        },
        {
            "cell_type": "markdown",
            "metadata": {},
            "source": [
                "**Step 5:** Create a DataFrame `df` with two columns named `'labels'` and `'varieties'`, using `labels` and `varieties`, respectively, for the column values. _(This has been done for you.)_\n"
            ]
        },
        {
            "cell_type": "code",
            "execution_count": 9,
            "metadata": {},
            "outputs": [
                {
                    "data": {
                        "text/html": "<div>\n<style scoped>\n    .dataframe tbody tr th:only-of-type {\n        vertical-align: middle;\n    }\n\n    .dataframe tbody tr th {\n        vertical-align: top;\n    }\n\n    .dataframe thead th {\n        text-align: right;\n    }\n</style>\n<table border=\"1\" class=\"dataframe\">\n  <thead>\n    <tr style=\"text-align: right;\">\n      <th></th>\n      <th>labels</th>\n      <th>varieties</th>\n    </tr>\n  </thead>\n  <tbody>\n    <tr>\n      <th>0</th>\n      <td>2</td>\n      <td>Kama wheat</td>\n    </tr>\n    <tr>\n      <th>1</th>\n      <td>2</td>\n      <td>Kama wheat</td>\n    </tr>\n    <tr>\n      <th>2</th>\n      <td>2</td>\n      <td>Kama wheat</td>\n    </tr>\n    <tr>\n      <th>3</th>\n      <td>2</td>\n      <td>Kama wheat</td>\n    </tr>\n    <tr>\n      <th>4</th>\n      <td>2</td>\n      <td>Kama wheat</td>\n    </tr>\n    <tr>\n      <th>5</th>\n      <td>2</td>\n      <td>Kama wheat</td>\n    </tr>\n    <tr>\n      <th>6</th>\n      <td>2</td>\n      <td>Kama wheat</td>\n    </tr>\n    <tr>\n      <th>7</th>\n      <td>2</td>\n      <td>Kama wheat</td>\n    </tr>\n    <tr>\n      <th>8</th>\n      <td>2</td>\n      <td>Kama wheat</td>\n    </tr>\n    <tr>\n      <th>9</th>\n      <td>2</td>\n      <td>Kama wheat</td>\n    </tr>\n    <tr>\n      <th>10</th>\n      <td>2</td>\n      <td>Kama wheat</td>\n    </tr>\n    <tr>\n      <th>11</th>\n      <td>2</td>\n      <td>Kama wheat</td>\n    </tr>\n    <tr>\n      <th>12</th>\n      <td>2</td>\n      <td>Kama wheat</td>\n    </tr>\n    <tr>\n      <th>13</th>\n      <td>2</td>\n      <td>Kama wheat</td>\n    </tr>\n    <tr>\n      <th>14</th>\n      <td>2</td>\n      <td>Kama wheat</td>\n    </tr>\n    <tr>\n      <th>15</th>\n      <td>2</td>\n      <td>Kama wheat</td>\n    </tr>\n    <tr>\n      <th>16</th>\n      <td>0</td>\n      <td>Kama wheat</td>\n    </tr>\n    <tr>\n      <th>17</th>\n      <td>2</td>\n      <td>Kama wheat</td>\n    </tr>\n    <tr>\n      <th>18</th>\n      <td>2</td>\n      <td>Kama wheat</td>\n    </tr>\n    <tr>\n      <th>19</th>\n      <td>0</td>\n      <td>Kama wheat</td>\n    </tr>\n    <tr>\n      <th>20</th>\n      <td>2</td>\n      <td>Kama wheat</td>\n    </tr>\n    <tr>\n      <th>21</th>\n      <td>2</td>\n      <td>Kama wheat</td>\n    </tr>\n    <tr>\n      <th>22</th>\n      <td>2</td>\n      <td>Kama wheat</td>\n    </tr>\n    <tr>\n      <th>23</th>\n      <td>2</td>\n      <td>Kama wheat</td>\n    </tr>\n    <tr>\n      <th>24</th>\n      <td>2</td>\n      <td>Kama wheat</td>\n    </tr>\n    <tr>\n      <th>25</th>\n      <td>2</td>\n      <td>Kama wheat</td>\n    </tr>\n    <tr>\n      <th>26</th>\n      <td>0</td>\n      <td>Kama wheat</td>\n    </tr>\n    <tr>\n      <th>27</th>\n      <td>2</td>\n      <td>Kama wheat</td>\n    </tr>\n    <tr>\n      <th>28</th>\n      <td>2</td>\n      <td>Kama wheat</td>\n    </tr>\n    <tr>\n      <th>29</th>\n      <td>2</td>\n      <td>Kama wheat</td>\n    </tr>\n    <tr>\n      <th>...</th>\n      <td>...</td>\n      <td>...</td>\n    </tr>\n    <tr>\n      <th>180</th>\n      <td>0</td>\n      <td>Canadian wheat</td>\n    </tr>\n    <tr>\n      <th>181</th>\n      <td>0</td>\n      <td>Canadian wheat</td>\n    </tr>\n    <tr>\n      <th>182</th>\n      <td>0</td>\n      <td>Canadian wheat</td>\n    </tr>\n    <tr>\n      <th>183</th>\n      <td>0</td>\n      <td>Canadian wheat</td>\n    </tr>\n    <tr>\n      <th>184</th>\n      <td>0</td>\n      <td>Canadian wheat</td>\n    </tr>\n    <tr>\n      <th>185</th>\n      <td>0</td>\n      <td>Canadian wheat</td>\n    </tr>\n    <tr>\n      <th>186</th>\n      <td>0</td>\n      <td>Canadian wheat</td>\n    </tr>\n    <tr>\n      <th>187</th>\n      <td>0</td>\n      <td>Canadian wheat</td>\n    </tr>\n    <tr>\n      <th>188</th>\n      <td>0</td>\n      <td>Canadian wheat</td>\n    </tr>\n    <tr>\n      <th>189</th>\n      <td>0</td>\n      <td>Canadian wheat</td>\n    </tr>\n    <tr>\n      <th>190</th>\n      <td>0</td>\n      <td>Canadian wheat</td>\n    </tr>\n    <tr>\n      <th>191</th>\n      <td>0</td>\n      <td>Canadian wheat</td>\n    </tr>\n    <tr>\n      <th>192</th>\n      <td>0</td>\n      <td>Canadian wheat</td>\n    </tr>\n    <tr>\n      <th>193</th>\n      <td>0</td>\n      <td>Canadian wheat</td>\n    </tr>\n    <tr>\n      <th>194</th>\n      <td>0</td>\n      <td>Canadian wheat</td>\n    </tr>\n    <tr>\n      <th>195</th>\n      <td>0</td>\n      <td>Canadian wheat</td>\n    </tr>\n    <tr>\n      <th>196</th>\n      <td>0</td>\n      <td>Canadian wheat</td>\n    </tr>\n    <tr>\n      <th>197</th>\n      <td>0</td>\n      <td>Canadian wheat</td>\n    </tr>\n    <tr>\n      <th>198</th>\n      <td>0</td>\n      <td>Canadian wheat</td>\n    </tr>\n    <tr>\n      <th>199</th>\n      <td>0</td>\n      <td>Canadian wheat</td>\n    </tr>\n    <tr>\n      <th>200</th>\n      <td>0</td>\n      <td>Canadian wheat</td>\n    </tr>\n    <tr>\n      <th>201</th>\n      <td>2</td>\n      <td>Canadian wheat</td>\n    </tr>\n    <tr>\n      <th>202</th>\n      <td>0</td>\n      <td>Canadian wheat</td>\n    </tr>\n    <tr>\n      <th>203</th>\n      <td>0</td>\n      <td>Canadian wheat</td>\n    </tr>\n    <tr>\n      <th>204</th>\n      <td>0</td>\n      <td>Canadian wheat</td>\n    </tr>\n    <tr>\n      <th>205</th>\n      <td>0</td>\n      <td>Canadian wheat</td>\n    </tr>\n    <tr>\n      <th>206</th>\n      <td>0</td>\n      <td>Canadian wheat</td>\n    </tr>\n    <tr>\n      <th>207</th>\n      <td>0</td>\n      <td>Canadian wheat</td>\n    </tr>\n    <tr>\n      <th>208</th>\n      <td>0</td>\n      <td>Canadian wheat</td>\n    </tr>\n    <tr>\n      <th>209</th>\n      <td>0</td>\n      <td>Canadian wheat</td>\n    </tr>\n  </tbody>\n</table>\n<p>210 rows × 2 columns</p>\n</div>",
                        "text/plain": "     labels       varieties\n0         2      Kama wheat\n1         2      Kama wheat\n2         2      Kama wheat\n3         2      Kama wheat\n4         2      Kama wheat\n5         2      Kama wheat\n6         2      Kama wheat\n7         2      Kama wheat\n8         2      Kama wheat\n9         2      Kama wheat\n10        2      Kama wheat\n11        2      Kama wheat\n12        2      Kama wheat\n13        2      Kama wheat\n14        2      Kama wheat\n15        2      Kama wheat\n16        0      Kama wheat\n17        2      Kama wheat\n18        2      Kama wheat\n19        0      Kama wheat\n20        2      Kama wheat\n21        2      Kama wheat\n22        2      Kama wheat\n23        2      Kama wheat\n24        2      Kama wheat\n25        2      Kama wheat\n26        0      Kama wheat\n27        2      Kama wheat\n28        2      Kama wheat\n29        2      Kama wheat\n..      ...             ...\n180       0  Canadian wheat\n181       0  Canadian wheat\n182       0  Canadian wheat\n183       0  Canadian wheat\n184       0  Canadian wheat\n185       0  Canadian wheat\n186       0  Canadian wheat\n187       0  Canadian wheat\n188       0  Canadian wheat\n189       0  Canadian wheat\n190       0  Canadian wheat\n191       0  Canadian wheat\n192       0  Canadian wheat\n193       0  Canadian wheat\n194       0  Canadian wheat\n195       0  Canadian wheat\n196       0  Canadian wheat\n197       0  Canadian wheat\n198       0  Canadian wheat\n199       0  Canadian wheat\n200       0  Canadian wheat\n201       2  Canadian wheat\n202       0  Canadian wheat\n203       0  Canadian wheat\n204       0  Canadian wheat\n205       0  Canadian wheat\n206       0  Canadian wheat\n207       0  Canadian wheat\n208       0  Canadian wheat\n209       0  Canadian wheat\n\n[210 rows x 2 columns]"
                    },
                    "execution_count": 9,
                    "metadata": {},
                    "output_type": "execute_result"
                }
            ],
            "source": [
                "df=pd.DataFrame({'labels':labels,'varieties':varieties})\n",
                "df"
            ]
        },
        {
            "cell_type": "markdown",
            "metadata": {},
            "source": [
                "**Step 6:** Use the `pd.crosstab()` function on `df['labels']` and `df['varieties']` to count the number of times each grain variety coincides with each cluster label. Assign the result to `ct`."
            ]
        },
        {
            "cell_type": "code",
            "execution_count": 11,
            "metadata": {},
            "outputs": [
                {
                    "data": {
                        "text/html": "<div>\n<style scoped>\n    .dataframe tbody tr th:only-of-type {\n        vertical-align: middle;\n    }\n\n    .dataframe tbody tr th {\n        vertical-align: top;\n    }\n\n    .dataframe thead th {\n        text-align: right;\n    }\n</style>\n<table border=\"1\" class=\"dataframe\">\n  <thead>\n    <tr style=\"text-align: right;\">\n      <th>varieties</th>\n      <th>Canadian wheat</th>\n      <th>Kama wheat</th>\n      <th>Rosa wheat</th>\n    </tr>\n    <tr>\n      <th>labels</th>\n      <th></th>\n      <th></th>\n      <th></th>\n    </tr>\n  </thead>\n  <tbody>\n    <tr>\n      <th>0</th>\n      <td>68</td>\n      <td>9</td>\n      <td>0</td>\n    </tr>\n    <tr>\n      <th>1</th>\n      <td>0</td>\n      <td>1</td>\n      <td>60</td>\n    </tr>\n    <tr>\n      <th>2</th>\n      <td>2</td>\n      <td>60</td>\n      <td>10</td>\n    </tr>\n  </tbody>\n</table>\n</div>",
                        "text/plain": "varieties  Canadian wheat  Kama wheat  Rosa wheat\nlabels                                           \n0                      68           9           0\n1                       0           1          60\n2                       2          60          10"
                    },
                    "execution_count": 11,
                    "metadata": {},
                    "output_type": "execute_result"
                }
            ],
            "source": [
                "ct=pd.crosstab(df['labels'],df['varieties']) #交叉列表\n",
                "ct"
            ]
        },
        {
            "cell_type": "markdown",
            "metadata": {},
            "source": [
                "**Step 7:** Display `ct` by evaluating it - and inspect your cross-tabulation!  You'll see that your clustering is pretty good."
            ]
        },
        {
            "cell_type": "code",
            "execution_count": 12,
            "metadata": {},
            "outputs": [
                {
                    "name": "stdout",
                    "output_type": "stream",
                    "text": "varieties  Canadian wheat  Kama wheat  Rosa wheat\nlabels                                           \n0                      68           9           0\n1                       0           1          60\n2                       2          60          10\n"
                }
            ],
            "source": [
                "print(ct)"
            ]
        },
        {
            "cell_type": "code",
            "execution_count": null,
            "metadata": {},
            "outputs": [],
            "source": [
                "#0-Canadian wheat  1-Rosa wheat  2-Kama wheat"
            ]
        }
    ],
    "nbformat": 4,
    "metadata": {
        "language_info": {
            "nbconvert_exporter": "python",
            "name": "python",
            "file_extension": ".py",
            "pygments_lexer": "ipython3",
            "version": "3.7.0-final",
            "mimetype": "text/x-python",
            "codemirror_mode": {
                "name": "ipython",
                "version": 3
            }
        },
        "kernelspec": {
            "name": "python37064bitbasecondaa8718354cf314d6cb09957be85088dc7",
            "display_name": "Python 3.7.0 64-bit ('base': conda)",
            "language": "python"
        }
    },
    "nbformat_minor": 2
}