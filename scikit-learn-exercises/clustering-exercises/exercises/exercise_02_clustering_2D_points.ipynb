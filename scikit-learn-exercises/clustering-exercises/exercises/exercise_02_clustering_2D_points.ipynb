{
    "metadata": {
        "language_info": {
            "nbconvert_exporter": "python",
            "version": "3.7.0-final",
            "codemirror_mode": {
                "version": 3,
                "name": "ipython"
            },
            "name": "python",
            "file_extension": ".py",
            "pygments_lexer": "ipython3",
            "mimetype": "text/x-python"
        },
        "kernelspec": {
            "display_name": "Python 3.7.0 64-bit ('base': conda)",
            "language": "python",
            "name": "python37064bitbasecondaa8718354cf314d6cb09957be85088dc7"
        }
    },
    "nbformat_minor": 1,
    "cells": [
        {
            "cell_type": "markdown",
            "metadata": {},
            "source": [
                "# Exercise 2: Clustering 2D points"
            ]
        },
        {
            "cell_type": "markdown",
            "metadata": {},
            "source": [
                "From the course _Transition to Data Science_. [Buy the entire course for just $10](https://www.udemy.com/transition-to-data-science-in-python/?couponCode=CLUSTER-NBS) for many more exercises and helpful video lectures."
            ]
        },
        {
            "cell_type": "markdown",
            "metadata": {},
            "source": [
                "From the scatter plot of the previous exercise, you saw that the points seem to separate into 3 clusters.  Now create a KMeans model to find 3 clusters, and fit it to the data points from the previous exercise.  After the model has been fit, obtain the cluster labels for points, and also for some new points using the `.predict()` method.\n",
                "\n",
                "You are given the array `points` from the previous exercise, and also an array `new_points`."
            ]
        },
        {
            "cell_type": "markdown",
            "metadata": {},
            "source": [
                "**Step 1:** Load the dataset _(written for you)_."
            ]
        },
        {
            "cell_type": "code",
            "execution_count": 1,
            "metadata": {},
            "outputs": [
                {
                    "data": {
                        "text/html": "<div>\n<style scoped>\n    .dataframe tbody tr th:only-of-type {\n        vertical-align: middle;\n    }\n\n    .dataframe tbody tr th {\n        vertical-align: top;\n    }\n\n    .dataframe thead th {\n        text-align: right;\n    }\n</style>\n<table border=\"1\" class=\"dataframe\">\n  <thead>\n    <tr style=\"text-align: right;\">\n      <th></th>\n      <th>0</th>\n      <th>1</th>\n    </tr>\n  </thead>\n  <tbody>\n    <tr>\n      <th>0</th>\n      <td>0.896765</td>\n      <td>1.143127</td>\n    </tr>\n    <tr>\n      <th>1</th>\n      <td>0.973851</td>\n      <td>0.929172</td>\n    </tr>\n    <tr>\n      <th>2</th>\n      <td>-1.839089</td>\n      <td>0.348506</td>\n    </tr>\n    <tr>\n      <th>3</th>\n      <td>-1.045098</td>\n      <td>0.072468</td>\n    </tr>\n    <tr>\n      <th>4</th>\n      <td>0.820274</td>\n      <td>-0.710225</td>\n    </tr>\n  </tbody>\n</table>\n</div>",
                        "text/plain": "          0         1\n0  0.896765  1.143127\n1  0.973851  0.929172\n2 -1.839089  0.348506\n3 -1.045098  0.072468\n4  0.820274 -0.710225"
                    },
                    "execution_count": 1,
                    "metadata": {},
                    "output_type": "execute_result"
                }
            ],
            "source": [
                "import pandas as pd\n",
                "\n",
                "df = pd.read_csv('../datasets/ch1ex1.csv')\n",
                "points = df.values\n",
                "\n",
                "new_df = pd.read_csv('../datasets/ch1ex2.csv')\n",
                "new_points = new_df.values\n",
                "new_df.head()"
            ]
        },
        {
            "cell_type": "markdown",
            "metadata": {},
            "source": [
                "**Step 2:** Import `KMeans` from `sklearn.cluster`"
            ]
        },
        {
            "cell_type": "code",
            "execution_count": 2,
            "metadata": {},
            "outputs": [],
            "source": [
                "from sklearn.cluster import KMeans #K均值聚类"
            ]
        },
        {
            "cell_type": "markdown",
            "metadata": {},
            "source": [
                "**Step 3:** Using `KMeans()`, create a `KMeans` instance called `model` to find `3` clusters. To specify the number of clusters, use the `n_clusters` keyword argument"
            ]
        },
        {
            "cell_type": "code",
            "execution_count": 4,
            "metadata": {},
            "outputs": [
                {
                    "data": {
                        "text/plain": "KMeans(algorithm='auto', copy_x=True, init='k-means++', max_iter=300,\n       n_clusters=3, n_init=10, n_jobs=None, precompute_distances='auto',\n       random_state=None, tol=0.0001, verbose=0)"
                    },
                    "execution_count": 4,
                    "metadata": {},
                    "output_type": "execute_result"
                }
            ],
            "source": [
                "model=KMeans(n_clusters=3)\n",
                "model"
            ]
        },
        {
            "cell_type": "markdown",
            "metadata": {},
            "source": [
                "**Step 4:** Use the `.fit()` method of `model` to fit the model to the array of points `points`."
            ]
        },
        {
            "cell_type": "code",
            "execution_count": 5,
            "metadata": {},
            "outputs": [
                {
                    "data": {
                        "text/plain": "KMeans(algorithm='auto', copy_x=True, init='k-means++', max_iter=300,\n       n_clusters=3, n_init=10, n_jobs=None, precompute_distances='auto',\n       random_state=None, tol=0.0001, verbose=0)"
                    },
                    "execution_count": 5,
                    "metadata": {},
                    "output_type": "execute_result"
                }
            ],
            "source": [
                "model.fit(points) #用points数据进行聚类拟合"
            ]
        },
        {
            "cell_type": "markdown",
            "metadata": {},
            "source": [
                "**Step 5:** Use the `.predict()` method of `model` to predict the cluster labels of `points`, assigning the result to `labels`."
            ]
        },
        {
            "cell_type": "code",
            "execution_count": 7,
            "metadata": {},
            "outputs": [
                {
                    "data": {
                        "text/plain": "array([0, 2, 1, 1, 2, 2, 1, 0, 2, 2, 1, 0, 2, 1, 2, 0, 1, 1, 0, 1, 2, 0,\n       2, 0, 0, 2, 0, 0, 0, 2, 1, 1, 1, 2, 0, 2, 0, 0, 2, 0, 0, 1, 2, 2,\n       2, 0, 0, 1, 0, 1, 1, 1, 0, 0, 0, 2, 0, 0, 2, 1, 2, 0, 0, 1, 1, 2,\n       1, 2, 2, 0, 1, 2, 1, 0, 1, 2, 0, 0, 0, 1, 0, 2, 1, 2, 2, 2, 2, 0,\n       0, 1, 2, 1, 2, 0, 0, 0, 1, 2, 2, 1, 2, 0, 2, 1, 0, 1, 1, 1, 2, 2,\n       0, 2, 1, 2, 2, 2, 0, 2, 1, 1, 0, 0, 0, 0, 0, 2, 1, 0, 2, 2, 1, 1,\n       2, 0, 2, 0, 1, 2, 1, 0, 1, 1, 0, 1, 1, 0, 1, 2, 0, 0, 0, 1, 1, 2,\n       1, 2, 0, 0, 1, 2, 1, 1, 1, 2, 0, 0, 2, 1, 1, 0, 0, 1, 0, 0, 2, 0,\n       1, 1, 1, 0, 0, 1, 0, 1, 1, 0, 2, 1, 0, 0, 0, 0, 2, 1, 0, 2, 2, 2,\n       0, 2, 0, 0, 2, 1, 1, 0, 1, 0, 0, 2, 2, 0, 1, 2, 1, 0, 1, 2, 0, 2,\n       2, 2, 2, 1, 1, 1, 0, 0, 2, 0, 1, 2, 0, 0, 2, 0, 1, 1, 1, 1, 1, 2,\n       0, 0, 1, 1, 0, 2, 1, 2, 2, 0, 0, 2, 2, 2, 0, 1, 0, 2, 0, 1, 1, 1,\n       1, 1, 0, 0, 2, 0, 0, 2, 1, 1, 2, 0, 1, 1, 2, 2, 0, 0, 0, 2, 2, 0,\n       1, 2, 2, 1, 0, 0, 0, 2, 0, 0, 0, 2, 2, 2])"
                    },
                    "execution_count": 7,
                    "metadata": {},
                    "output_type": "execute_result"
                }
            ],
            "source": [
                "labels=model.predict(points) #将points数据分成3类\n",
                "labels "
            ]
        },
        {
            "cell_type": "markdown",
            "metadata": {},
            "source": [
                "**Step 6:** Print out the labels, and have a look at them!  _(In the next exercise, I'll show you how to visualise this clustering better.)_"
            ]
        },
        {
            "cell_type": "code",
            "execution_count": 8,
            "metadata": {},
            "outputs": [
                {
                    "name": "stdout",
                    "output_type": "stream",
                    "text": "[0 2 1 1 2 2 1 0 2 2 1 0 2 1 2 0 1 1 0 1 2 0 2 0 0 2 0 0 0 2 1 1 1 2 0 2 0\n 0 2 0 0 1 2 2 2 0 0 1 0 1 1 1 0 0 0 2 0 0 2 1 2 0 0 1 1 2 1 2 2 0 1 2 1 0\n 1 2 0 0 0 1 0 2 1 2 2 2 2 0 0 1 2 1 2 0 0 0 1 2 2 1 2 0 2 1 0 1 1 1 2 2 0\n 2 1 2 2 2 0 2 1 1 0 0 0 0 0 2 1 0 2 2 1 1 2 0 2 0 1 2 1 0 1 1 0 1 1 0 1 2\n 0 0 0 1 1 2 1 2 0 0 1 2 1 1 1 2 0 0 2 1 1 0 0 1 0 0 2 0 1 1 1 0 0 1 0 1 1\n 0 2 1 0 0 0 0 2 1 0 2 2 2 0 2 0 0 2 1 1 0 1 0 0 2 2 0 1 2 1 0 1 2 0 2 2 2\n 2 1 1 1 0 0 2 0 1 2 0 0 2 0 1 1 1 1 1 2 0 0 1 1 0 2 1 2 2 0 0 2 2 2 0 1 0\n 2 0 1 1 1 1 1 0 0 2 0 0 2 1 1 2 0 1 1 2 2 0 0 0 2 2 0 1 2 2 1 0 0 0 2 0 0\n 0 2 2 2]\n"
                }
            ],
            "source": [
                "print(labels)"
            ]
        },
        {
            "cell_type": "markdown",
            "metadata": {},
            "source": [
                "**Step 7:** Use the `.predict()` method of `model` to predict the cluster labels of `new_points`, assigning the result to `new_labels`.  Notice that KMeans can assign previously unseen points to the clusters it has already found!"
            ]
        },
        {
            "cell_type": "code",
            "execution_count": 10,
            "metadata": {},
            "outputs": [
                {
                    "data": {
                        "text/plain": "array([1, 1, 2, 2, 0, 0, 1, 0, 0, 2, 0, 0, 2, 0, 1, 1, 0, 1, 1, 0, 1, 1,\n       2, 1, 2, 0, 2, 1, 1, 1, 2, 0, 0, 2, 2, 1, 2, 2, 2, 2, 1, 0, 2, 0,\n       2, 2, 0, 1, 2, 2, 1, 1, 0, 1, 0, 1, 2, 1, 2, 2, 2, 0, 0, 0, 2, 2,\n       0, 2, 0, 2, 1, 1, 1, 0, 2, 0, 0, 0, 1, 0, 1, 0, 1, 0, 1, 2, 1, 0,\n       2, 0, 1, 1, 2, 2, 1, 1, 1, 2, 0, 2])"
                    },
                    "execution_count": 10,
                    "metadata": {},
                    "output_type": "execute_result"
                }
            ],
            "source": [
                "new_labels=model.predict(new_points)\n",
                "new_labels  "
            ]
        },
        {
            "cell_type": "code",
            "execution_count": null,
            "metadata": {},
            "outputs": [],
            "source": []
        }
    ],
    "nbformat": 4
}