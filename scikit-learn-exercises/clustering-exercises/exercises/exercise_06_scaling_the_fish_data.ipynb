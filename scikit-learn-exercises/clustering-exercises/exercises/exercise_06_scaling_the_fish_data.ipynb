{
    "nbformat": 4,
    "metadata": {
        "kernelspec": {
            "display_name": "Python 3.7.0 64-bit ('base': conda)",
            "language": "python",
            "name": "python37064bitbasecondaa8718354cf314d6cb09957be85088dc7"
        },
        "language_info": {
            "pygments_lexer": "ipython3",
            "mimetype": "text/x-python",
            "nbconvert_exporter": "python",
            "file_extension": ".py",
            "version": "3.7.0-final",
            "name": "python",
            "codemirror_mode": {
                "name": "ipython",
                "version": 3
            }
        }
    },
    "nbformat_minor": 2,
    "cells": [
        {
            "cell_type": "markdown",
            "metadata": {},
            "source": [
                "# Exercise 6: Scaling fish data for clustering\n",
                "\n",
                "You are given an array `samples` giving measurements of fish.  Each row represents asingle fish.  The measurements, such as weight in grams, length in centimeters, and the percentage ratio of height to length, have very different scales.  In order to cluster this data effectively, you'll need to standardize these features first.  In this exercise, you'll build a pipeline to standardize and cluster the data.\n",
                "\n",
                "This great dataset was derived from the one [here](http://svitsrv25.epfl.ch/R-doc/library/rrcov/html/fish.html), where you can see a description of each measurement."
            ]
        },
        {
            "cell_type": "markdown",
            "metadata": {},
            "source": [
                "From the course _Transition to Data Science_. [Buy the entire course for just $10](https://www.udemy.com/transition-to-data-science-in-python/?couponCode=CLUSTER-NBS) for many more exercises and helpful video lectures."
            ]
        },
        {
            "cell_type": "markdown",
            "metadata": {},
            "source": [
                "**Step 1:** Load the dataset _(this bit is written for you)_."
            ]
        },
        {
            "cell_type": "code",
            "execution_count": 19,
            "metadata": {},
            "outputs": [
                {
                    "data": {
                        "text/html": "<div>\n<style scoped>\n    .dataframe tbody tr th:only-of-type {\n        vertical-align: middle;\n    }\n\n    .dataframe tbody tr th {\n        vertical-align: top;\n    }\n\n    .dataframe thead th {\n        text-align: right;\n    }\n</style>\n<table border=\"1\" class=\"dataframe\">\n  <thead>\n    <tr style=\"text-align: right;\">\n      <th></th>\n      <th>species</th>\n      <th>weight</th>\n      <th>length1</th>\n      <th>length2</th>\n      <th>length3</th>\n      <th>height</th>\n      <th>width</th>\n    </tr>\n  </thead>\n  <tbody>\n    <tr>\n      <th>0</th>\n      <td>Bream</td>\n      <td>242.0</td>\n      <td>23.2</td>\n      <td>25.4</td>\n      <td>30.0</td>\n      <td>38.4</td>\n      <td>13.4</td>\n    </tr>\n    <tr>\n      <th>1</th>\n      <td>Bream</td>\n      <td>290.0</td>\n      <td>24.0</td>\n      <td>26.3</td>\n      <td>31.2</td>\n      <td>40.0</td>\n      <td>13.8</td>\n    </tr>\n    <tr>\n      <th>2</th>\n      <td>Bream</td>\n      <td>340.0</td>\n      <td>23.9</td>\n      <td>26.5</td>\n      <td>31.1</td>\n      <td>39.8</td>\n      <td>15.1</td>\n    </tr>\n    <tr>\n      <th>3</th>\n      <td>Bream</td>\n      <td>363.0</td>\n      <td>26.3</td>\n      <td>29.0</td>\n      <td>33.5</td>\n      <td>38.0</td>\n      <td>13.3</td>\n    </tr>\n    <tr>\n      <th>4</th>\n      <td>Bream</td>\n      <td>430.0</td>\n      <td>26.5</td>\n      <td>29.0</td>\n      <td>34.0</td>\n      <td>36.6</td>\n      <td>15.1</td>\n    </tr>\n    <tr>\n      <th>5</th>\n      <td>Bream</td>\n      <td>450.0</td>\n      <td>26.8</td>\n      <td>29.7</td>\n      <td>34.7</td>\n      <td>39.2</td>\n      <td>14.2</td>\n    </tr>\n    <tr>\n      <th>6</th>\n      <td>Bream</td>\n      <td>500.0</td>\n      <td>26.8</td>\n      <td>29.7</td>\n      <td>34.5</td>\n      <td>41.1</td>\n      <td>15.3</td>\n    </tr>\n    <tr>\n      <th>7</th>\n      <td>Bream</td>\n      <td>390.0</td>\n      <td>27.6</td>\n      <td>30.0</td>\n      <td>35.0</td>\n      <td>36.2</td>\n      <td>13.4</td>\n    </tr>\n    <tr>\n      <th>8</th>\n      <td>Bream</td>\n      <td>450.0</td>\n      <td>27.6</td>\n      <td>30.0</td>\n      <td>35.1</td>\n      <td>39.9</td>\n      <td>13.8</td>\n    </tr>\n    <tr>\n      <th>9</th>\n      <td>Bream</td>\n      <td>500.0</td>\n      <td>28.5</td>\n      <td>30.7</td>\n      <td>36.2</td>\n      <td>39.3</td>\n      <td>13.7</td>\n    </tr>\n    <tr>\n      <th>10</th>\n      <td>Bream</td>\n      <td>475.0</td>\n      <td>28.4</td>\n      <td>31.0</td>\n      <td>36.2</td>\n      <td>39.4</td>\n      <td>14.1</td>\n    </tr>\n    <tr>\n      <th>11</th>\n      <td>Bream</td>\n      <td>500.0</td>\n      <td>28.7</td>\n      <td>31.0</td>\n      <td>36.2</td>\n      <td>39.7</td>\n      <td>13.3</td>\n    </tr>\n    <tr>\n      <th>12</th>\n      <td>Bream</td>\n      <td>500.0</td>\n      <td>29.1</td>\n      <td>31.5</td>\n      <td>36.4</td>\n      <td>37.8</td>\n      <td>12.0</td>\n    </tr>\n    <tr>\n      <th>13</th>\n      <td>Bream</td>\n      <td>600.0</td>\n      <td>29.4</td>\n      <td>32.0</td>\n      <td>37.2</td>\n      <td>40.2</td>\n      <td>13.9</td>\n    </tr>\n    <tr>\n      <th>14</th>\n      <td>Bream</td>\n      <td>600.0</td>\n      <td>29.4</td>\n      <td>32.0</td>\n      <td>37.2</td>\n      <td>41.5</td>\n      <td>15.0</td>\n    </tr>\n    <tr>\n      <th>15</th>\n      <td>Bream</td>\n      <td>700.0</td>\n      <td>30.4</td>\n      <td>33.0</td>\n      <td>38.3</td>\n      <td>38.8</td>\n      <td>13.8</td>\n    </tr>\n    <tr>\n      <th>16</th>\n      <td>Bream</td>\n      <td>700.0</td>\n      <td>30.4</td>\n      <td>33.0</td>\n      <td>38.5</td>\n      <td>38.8</td>\n      <td>13.5</td>\n    </tr>\n    <tr>\n      <th>17</th>\n      <td>Bream</td>\n      <td>610.0</td>\n      <td>30.9</td>\n      <td>33.5</td>\n      <td>38.6</td>\n      <td>40.5</td>\n      <td>13.3</td>\n    </tr>\n    <tr>\n      <th>18</th>\n      <td>Bream</td>\n      <td>650.0</td>\n      <td>31.0</td>\n      <td>33.5</td>\n      <td>38.7</td>\n      <td>37.4</td>\n      <td>14.8</td>\n    </tr>\n    <tr>\n      <th>19</th>\n      <td>Bream</td>\n      <td>575.0</td>\n      <td>31.3</td>\n      <td>34.0</td>\n      <td>39.5</td>\n      <td>38.3</td>\n      <td>14.1</td>\n    </tr>\n    <tr>\n      <th>20</th>\n      <td>Bream</td>\n      <td>685.0</td>\n      <td>31.4</td>\n      <td>34.0</td>\n      <td>39.2</td>\n      <td>40.8</td>\n      <td>13.7</td>\n    </tr>\n    <tr>\n      <th>21</th>\n      <td>Bream</td>\n      <td>620.0</td>\n      <td>31.5</td>\n      <td>34.5</td>\n      <td>39.7</td>\n      <td>39.1</td>\n      <td>13.3</td>\n    </tr>\n    <tr>\n      <th>22</th>\n      <td>Bream</td>\n      <td>680.0</td>\n      <td>31.8</td>\n      <td>35.0</td>\n      <td>40.6</td>\n      <td>38.1</td>\n      <td>15.1</td>\n    </tr>\n    <tr>\n      <th>23</th>\n      <td>Bream</td>\n      <td>700.0</td>\n      <td>31.9</td>\n      <td>35.0</td>\n      <td>40.5</td>\n      <td>40.1</td>\n      <td>13.8</td>\n    </tr>\n    <tr>\n      <th>24</th>\n      <td>Bream</td>\n      <td>725.0</td>\n      <td>31.8</td>\n      <td>35.0</td>\n      <td>40.9</td>\n      <td>40.0</td>\n      <td>14.8</td>\n    </tr>\n    <tr>\n      <th>25</th>\n      <td>Bream</td>\n      <td>720.0</td>\n      <td>32.0</td>\n      <td>35.0</td>\n      <td>40.6</td>\n      <td>40.3</td>\n      <td>15.0</td>\n    </tr>\n    <tr>\n      <th>26</th>\n      <td>Bream</td>\n      <td>714.0</td>\n      <td>32.7</td>\n      <td>36.0</td>\n      <td>41.5</td>\n      <td>39.8</td>\n      <td>14.1</td>\n    </tr>\n    <tr>\n      <th>27</th>\n      <td>Bream</td>\n      <td>850.0</td>\n      <td>32.8</td>\n      <td>36.0</td>\n      <td>41.6</td>\n      <td>40.6</td>\n      <td>14.9</td>\n    </tr>\n    <tr>\n      <th>28</th>\n      <td>Bream</td>\n      <td>1000.0</td>\n      <td>33.5</td>\n      <td>37.0</td>\n      <td>42.6</td>\n      <td>44.5</td>\n      <td>15.5</td>\n    </tr>\n    <tr>\n      <th>29</th>\n      <td>Bream</td>\n      <td>920.0</td>\n      <td>35.0</td>\n      <td>38.5</td>\n      <td>44.1</td>\n      <td>40.9</td>\n      <td>14.3</td>\n    </tr>\n    <tr>\n      <th>...</th>\n      <td>...</td>\n      <td>...</td>\n      <td>...</td>\n      <td>...</td>\n      <td>...</td>\n      <td>...</td>\n      <td>...</td>\n    </tr>\n    <tr>\n      <th>55</th>\n      <td>Smelt</td>\n      <td>7.5</td>\n      <td>10.0</td>\n      <td>10.5</td>\n      <td>11.6</td>\n      <td>17.0</td>\n      <td>10.0</td>\n    </tr>\n    <tr>\n      <th>56</th>\n      <td>Smelt</td>\n      <td>7.0</td>\n      <td>10.1</td>\n      <td>10.6</td>\n      <td>11.6</td>\n      <td>14.9</td>\n      <td>9.9</td>\n    </tr>\n    <tr>\n      <th>57</th>\n      <td>Smelt</td>\n      <td>9.7</td>\n      <td>10.4</td>\n      <td>11.0</td>\n      <td>12.0</td>\n      <td>18.3</td>\n      <td>11.5</td>\n    </tr>\n    <tr>\n      <th>58</th>\n      <td>Smelt</td>\n      <td>9.8</td>\n      <td>10.7</td>\n      <td>11.2</td>\n      <td>12.4</td>\n      <td>16.8</td>\n      <td>10.3</td>\n    </tr>\n    <tr>\n      <th>59</th>\n      <td>Smelt</td>\n      <td>8.7</td>\n      <td>10.8</td>\n      <td>11.3</td>\n      <td>12.6</td>\n      <td>15.7</td>\n      <td>10.2</td>\n    </tr>\n    <tr>\n      <th>60</th>\n      <td>Smelt</td>\n      <td>10.0</td>\n      <td>11.3</td>\n      <td>11.8</td>\n      <td>13.1</td>\n      <td>16.9</td>\n      <td>9.8</td>\n    </tr>\n    <tr>\n      <th>61</th>\n      <td>Smelt</td>\n      <td>9.9</td>\n      <td>11.3</td>\n      <td>11.8</td>\n      <td>13.1</td>\n      <td>16.9</td>\n      <td>8.9</td>\n    </tr>\n    <tr>\n      <th>62</th>\n      <td>Smelt</td>\n      <td>9.8</td>\n      <td>11.4</td>\n      <td>12.0</td>\n      <td>13.2</td>\n      <td>16.7</td>\n      <td>8.7</td>\n    </tr>\n    <tr>\n      <th>63</th>\n      <td>Smelt</td>\n      <td>12.2</td>\n      <td>11.5</td>\n      <td>12.2</td>\n      <td>13.4</td>\n      <td>15.6</td>\n      <td>10.4</td>\n    </tr>\n    <tr>\n      <th>64</th>\n      <td>Smelt</td>\n      <td>13.4</td>\n      <td>11.7</td>\n      <td>12.4</td>\n      <td>13.5</td>\n      <td>18.0</td>\n      <td>9.4</td>\n    </tr>\n    <tr>\n      <th>65</th>\n      <td>Smelt</td>\n      <td>12.2</td>\n      <td>12.1</td>\n      <td>13.0</td>\n      <td>13.8</td>\n      <td>16.5</td>\n      <td>9.1</td>\n    </tr>\n    <tr>\n      <th>66</th>\n      <td>Smelt</td>\n      <td>19.7</td>\n      <td>13.2</td>\n      <td>14.3</td>\n      <td>15.2</td>\n      <td>18.9</td>\n      <td>13.6</td>\n    </tr>\n    <tr>\n      <th>67</th>\n      <td>Smelt</td>\n      <td>19.9</td>\n      <td>13.8</td>\n      <td>15.0</td>\n      <td>16.2</td>\n      <td>18.1</td>\n      <td>11.6</td>\n    </tr>\n    <tr>\n      <th>68</th>\n      <td>Pike</td>\n      <td>200.0</td>\n      <td>30.0</td>\n      <td>32.3</td>\n      <td>34.8</td>\n      <td>16.0</td>\n      <td>9.7</td>\n    </tr>\n    <tr>\n      <th>69</th>\n      <td>Pike</td>\n      <td>300.0</td>\n      <td>31.7</td>\n      <td>34.0</td>\n      <td>37.8</td>\n      <td>15.1</td>\n      <td>11.0</td>\n    </tr>\n    <tr>\n      <th>70</th>\n      <td>Pike</td>\n      <td>300.0</td>\n      <td>32.7</td>\n      <td>35.0</td>\n      <td>38.8</td>\n      <td>15.3</td>\n      <td>11.3</td>\n    </tr>\n    <tr>\n      <th>71</th>\n      <td>Pike</td>\n      <td>300.0</td>\n      <td>34.8</td>\n      <td>37.3</td>\n      <td>39.8</td>\n      <td>15.8</td>\n      <td>10.1</td>\n    </tr>\n    <tr>\n      <th>72</th>\n      <td>Pike</td>\n      <td>430.0</td>\n      <td>35.5</td>\n      <td>38.0</td>\n      <td>40.5</td>\n      <td>18.0</td>\n      <td>11.3</td>\n    </tr>\n    <tr>\n      <th>73</th>\n      <td>Pike</td>\n      <td>345.0</td>\n      <td>36.0</td>\n      <td>38.5</td>\n      <td>41.0</td>\n      <td>15.6</td>\n      <td>9.7</td>\n    </tr>\n    <tr>\n      <th>74</th>\n      <td>Pike</td>\n      <td>456.0</td>\n      <td>40.0</td>\n      <td>42.5</td>\n      <td>45.5</td>\n      <td>16.0</td>\n      <td>9.5</td>\n    </tr>\n    <tr>\n      <th>75</th>\n      <td>Pike</td>\n      <td>510.0</td>\n      <td>40.0</td>\n      <td>42.5</td>\n      <td>45.5</td>\n      <td>15.0</td>\n      <td>9.8</td>\n    </tr>\n    <tr>\n      <th>76</th>\n      <td>Pike</td>\n      <td>540.0</td>\n      <td>40.1</td>\n      <td>43.0</td>\n      <td>45.8</td>\n      <td>17.0</td>\n      <td>11.2</td>\n    </tr>\n    <tr>\n      <th>77</th>\n      <td>Pike</td>\n      <td>500.0</td>\n      <td>42.0</td>\n      <td>45.0</td>\n      <td>48.0</td>\n      <td>14.5</td>\n      <td>10.2</td>\n    </tr>\n    <tr>\n      <th>78</th>\n      <td>Pike</td>\n      <td>567.0</td>\n      <td>43.2</td>\n      <td>46.0</td>\n      <td>48.7</td>\n      <td>16.0</td>\n      <td>10.0</td>\n    </tr>\n    <tr>\n      <th>79</th>\n      <td>Pike</td>\n      <td>770.0</td>\n      <td>44.8</td>\n      <td>48.0</td>\n      <td>51.2</td>\n      <td>15.0</td>\n      <td>10.5</td>\n    </tr>\n    <tr>\n      <th>80</th>\n      <td>Pike</td>\n      <td>950.0</td>\n      <td>48.3</td>\n      <td>51.7</td>\n      <td>55.1</td>\n      <td>16.2</td>\n      <td>11.2</td>\n    </tr>\n    <tr>\n      <th>81</th>\n      <td>Pike</td>\n      <td>1250.0</td>\n      <td>52.0</td>\n      <td>56.0</td>\n      <td>59.7</td>\n      <td>17.9</td>\n      <td>11.7</td>\n    </tr>\n    <tr>\n      <th>82</th>\n      <td>Pike</td>\n      <td>1600.0</td>\n      <td>56.0</td>\n      <td>60.0</td>\n      <td>64.0</td>\n      <td>15.0</td>\n      <td>9.6</td>\n    </tr>\n    <tr>\n      <th>83</th>\n      <td>Pike</td>\n      <td>1550.0</td>\n      <td>56.0</td>\n      <td>60.0</td>\n      <td>64.0</td>\n      <td>15.0</td>\n      <td>9.6</td>\n    </tr>\n    <tr>\n      <th>84</th>\n      <td>Pike</td>\n      <td>1650.0</td>\n      <td>59.0</td>\n      <td>63.4</td>\n      <td>68.0</td>\n      <td>15.9</td>\n      <td>11.0</td>\n    </tr>\n  </tbody>\n</table>\n<p>85 rows × 7 columns</p>\n</div>",
                        "text/plain": "   species  weight  length1  length2  length3  height  width\n0    Bream   242.0     23.2     25.4     30.0    38.4   13.4\n1    Bream   290.0     24.0     26.3     31.2    40.0   13.8\n2    Bream   340.0     23.9     26.5     31.1    39.8   15.1\n3    Bream   363.0     26.3     29.0     33.5    38.0   13.3\n4    Bream   430.0     26.5     29.0     34.0    36.6   15.1\n5    Bream   450.0     26.8     29.7     34.7    39.2   14.2\n6    Bream   500.0     26.8     29.7     34.5    41.1   15.3\n7    Bream   390.0     27.6     30.0     35.0    36.2   13.4\n8    Bream   450.0     27.6     30.0     35.1    39.9   13.8\n9    Bream   500.0     28.5     30.7     36.2    39.3   13.7\n10   Bream   475.0     28.4     31.0     36.2    39.4   14.1\n11   Bream   500.0     28.7     31.0     36.2    39.7   13.3\n12   Bream   500.0     29.1     31.5     36.4    37.8   12.0\n13   Bream   600.0     29.4     32.0     37.2    40.2   13.9\n14   Bream   600.0     29.4     32.0     37.2    41.5   15.0\n15   Bream   700.0     30.4     33.0     38.3    38.8   13.8\n16   Bream   700.0     30.4     33.0     38.5    38.8   13.5\n17   Bream   610.0     30.9     33.5     38.6    40.5   13.3\n18   Bream   650.0     31.0     33.5     38.7    37.4   14.8\n19   Bream   575.0     31.3     34.0     39.5    38.3   14.1\n20   Bream   685.0     31.4     34.0     39.2    40.8   13.7\n21   Bream   620.0     31.5     34.5     39.7    39.1   13.3\n22   Bream   680.0     31.8     35.0     40.6    38.1   15.1\n23   Bream   700.0     31.9     35.0     40.5    40.1   13.8\n24   Bream   725.0     31.8     35.0     40.9    40.0   14.8\n25   Bream   720.0     32.0     35.0     40.6    40.3   15.0\n26   Bream   714.0     32.7     36.0     41.5    39.8   14.1\n27   Bream   850.0     32.8     36.0     41.6    40.6   14.9\n28   Bream  1000.0     33.5     37.0     42.6    44.5   15.5\n29   Bream   920.0     35.0     38.5     44.1    40.9   14.3\n..     ...     ...      ...      ...      ...     ...    ...\n55   Smelt     7.5     10.0     10.5     11.6    17.0   10.0\n56   Smelt     7.0     10.1     10.6     11.6    14.9    9.9\n57   Smelt     9.7     10.4     11.0     12.0    18.3   11.5\n58   Smelt     9.8     10.7     11.2     12.4    16.8   10.3\n59   Smelt     8.7     10.8     11.3     12.6    15.7   10.2\n60   Smelt    10.0     11.3     11.8     13.1    16.9    9.8\n61   Smelt     9.9     11.3     11.8     13.1    16.9    8.9\n62   Smelt     9.8     11.4     12.0     13.2    16.7    8.7\n63   Smelt    12.2     11.5     12.2     13.4    15.6   10.4\n64   Smelt    13.4     11.7     12.4     13.5    18.0    9.4\n65   Smelt    12.2     12.1     13.0     13.8    16.5    9.1\n66   Smelt    19.7     13.2     14.3     15.2    18.9   13.6\n67   Smelt    19.9     13.8     15.0     16.2    18.1   11.6\n68    Pike   200.0     30.0     32.3     34.8    16.0    9.7\n69    Pike   300.0     31.7     34.0     37.8    15.1   11.0\n70    Pike   300.0     32.7     35.0     38.8    15.3   11.3\n71    Pike   300.0     34.8     37.3     39.8    15.8   10.1\n72    Pike   430.0     35.5     38.0     40.5    18.0   11.3\n73    Pike   345.0     36.0     38.5     41.0    15.6    9.7\n74    Pike   456.0     40.0     42.5     45.5    16.0    9.5\n75    Pike   510.0     40.0     42.5     45.5    15.0    9.8\n76    Pike   540.0     40.1     43.0     45.8    17.0   11.2\n77    Pike   500.0     42.0     45.0     48.0    14.5   10.2\n78    Pike   567.0     43.2     46.0     48.7    16.0   10.0\n79    Pike   770.0     44.8     48.0     51.2    15.0   10.5\n80    Pike   950.0     48.3     51.7     55.1    16.2   11.2\n81    Pike  1250.0     52.0     56.0     59.7    17.9   11.7\n82    Pike  1600.0     56.0     60.0     64.0    15.0    9.6\n83    Pike  1550.0     56.0     60.0     64.0    15.0    9.6\n84    Pike  1650.0     59.0     63.4     68.0    15.9   11.0\n\n[85 rows x 7 columns]"
                    },
                    "execution_count": 19,
                    "metadata": {},
                    "output_type": "execute_result"
                }
            ],
            "source": [
                "import pandas as pd\n",
                "\n",
                "df = pd.read_csv('../datasets/fish.csv')\n",
                "df\n"
            ]
        },
        {
            "cell_type": "code",
            "execution_count": 20,
            "metadata": {},
            "outputs": [],
            "source": [
                "# forget the species column for now - we'll use it later!\n",
                "del df['species']"
            ]
        },
        {
            "cell_type": "markdown",
            "metadata": {},
            "source": [
                "**Step 2:** Call `df.head()` to inspect the dataset:"
            ]
        },
        {
            "cell_type": "code",
            "execution_count": 21,
            "metadata": {},
            "outputs": [
                {
                    "data": {
                        "text/html": "<div>\n<style scoped>\n    .dataframe tbody tr th:only-of-type {\n        vertical-align: middle;\n    }\n\n    .dataframe tbody tr th {\n        vertical-align: top;\n    }\n\n    .dataframe thead th {\n        text-align: right;\n    }\n</style>\n<table border=\"1\" class=\"dataframe\">\n  <thead>\n    <tr style=\"text-align: right;\">\n      <th></th>\n      <th>weight</th>\n      <th>length1</th>\n      <th>length2</th>\n      <th>length3</th>\n      <th>height</th>\n      <th>width</th>\n    </tr>\n  </thead>\n  <tbody>\n    <tr>\n      <th>0</th>\n      <td>242.0</td>\n      <td>23.2</td>\n      <td>25.4</td>\n      <td>30.0</td>\n      <td>38.4</td>\n      <td>13.4</td>\n    </tr>\n    <tr>\n      <th>1</th>\n      <td>290.0</td>\n      <td>24.0</td>\n      <td>26.3</td>\n      <td>31.2</td>\n      <td>40.0</td>\n      <td>13.8</td>\n    </tr>\n    <tr>\n      <th>2</th>\n      <td>340.0</td>\n      <td>23.9</td>\n      <td>26.5</td>\n      <td>31.1</td>\n      <td>39.8</td>\n      <td>15.1</td>\n    </tr>\n    <tr>\n      <th>3</th>\n      <td>363.0</td>\n      <td>26.3</td>\n      <td>29.0</td>\n      <td>33.5</td>\n      <td>38.0</td>\n      <td>13.3</td>\n    </tr>\n    <tr>\n      <th>4</th>\n      <td>430.0</td>\n      <td>26.5</td>\n      <td>29.0</td>\n      <td>34.0</td>\n      <td>36.6</td>\n      <td>15.1</td>\n    </tr>\n  </tbody>\n</table>\n</div>",
                        "text/plain": "   weight  length1  length2  length3  height  width\n0   242.0     23.2     25.4     30.0    38.4   13.4\n1   290.0     24.0     26.3     31.2    40.0   13.8\n2   340.0     23.9     26.5     31.1    39.8   15.1\n3   363.0     26.3     29.0     33.5    38.0   13.3\n4   430.0     26.5     29.0     34.0    36.6   15.1"
                    },
                    "execution_count": 21,
                    "metadata": {},
                    "output_type": "execute_result"
                }
            ],
            "source": [
                "df.head()"
            ]
        },
        {
            "cell_type": "markdown",
            "metadata": {},
            "source": [
                "**Step 3:** Extract all the measurements as a 2D NumPy array, assigning to `samples` (hint: use the `.values` attribute of `df`)"
            ]
        },
        {
            "cell_type": "code",
            "execution_count": 22,
            "metadata": {},
            "outputs": [
                {
                    "data": {
                        "text/plain": "array([[ 242. ,   23.2,   25.4,   30. ,   38.4,   13.4],\n       [ 290. ,   24. ,   26.3,   31.2,   40. ,   13.8],\n       [ 340. ,   23.9,   26.5,   31.1,   39.8,   15.1],\n       [ 363. ,   26.3,   29. ,   33.5,   38. ,   13.3],\n       [ 430. ,   26.5,   29. ,   34. ,   36.6,   15.1],\n       [ 450. ,   26.8,   29.7,   34.7,   39.2,   14.2],\n       [ 500. ,   26.8,   29.7,   34.5,   41.1,   15.3],\n       [ 390. ,   27.6,   30. ,   35. ,   36.2,   13.4],\n       [ 450. ,   27.6,   30. ,   35.1,   39.9,   13.8],\n       [ 500. ,   28.5,   30.7,   36.2,   39.3,   13.7],\n       [ 475. ,   28.4,   31. ,   36.2,   39.4,   14.1],\n       [ 500. ,   28.7,   31. ,   36.2,   39.7,   13.3],\n       [ 500. ,   29.1,   31.5,   36.4,   37.8,   12. ],\n       [ 600. ,   29.4,   32. ,   37.2,   40.2,   13.9],\n       [ 600. ,   29.4,   32. ,   37.2,   41.5,   15. ],\n       [ 700. ,   30.4,   33. ,   38.3,   38.8,   13.8],\n       [ 700. ,   30.4,   33. ,   38.5,   38.8,   13.5],\n       [ 610. ,   30.9,   33.5,   38.6,   40.5,   13.3],\n       [ 650. ,   31. ,   33.5,   38.7,   37.4,   14.8],\n       [ 575. ,   31.3,   34. ,   39.5,   38.3,   14.1],\n       [ 685. ,   31.4,   34. ,   39.2,   40.8,   13.7],\n       [ 620. ,   31.5,   34.5,   39.7,   39.1,   13.3],\n       [ 680. ,   31.8,   35. ,   40.6,   38.1,   15.1],\n       [ 700. ,   31.9,   35. ,   40.5,   40.1,   13.8],\n       [ 725. ,   31.8,   35. ,   40.9,   40. ,   14.8],\n       [ 720. ,   32. ,   35. ,   40.6,   40.3,   15. ],\n       [ 714. ,   32.7,   36. ,   41.5,   39.8,   14.1],\n       [ 850. ,   32.8,   36. ,   41.6,   40.6,   14.9],\n       [1000. ,   33.5,   37. ,   42.6,   44.5,   15.5],\n       [ 920. ,   35. ,   38.5,   44.1,   40.9,   14.3],\n       [ 955. ,   35. ,   38.5,   44. ,   41.1,   14.3],\n       [ 925. ,   36.2,   39.5,   45.3,   41.4,   14.9],\n       [ 975. ,   37.4,   41. ,   45.9,   40.6,   14.7],\n       [ 950. ,   38. ,   41. ,   46.5,   37.9,   13.7],\n       [  40. ,   12.9,   14.1,   16.2,   25.6,   14. ],\n       [  69. ,   16.5,   18.2,   20.3,   26.1,   13.9],\n       [  78. ,   17.5,   18.8,   21.2,   26.3,   13.7],\n       [  87. ,   18.2,   19.8,   22.2,   25.3,   14.3],\n       [ 120. ,   18.6,   20. ,   22.2,   28. ,   16.1],\n       [   0. ,   19. ,   20.5,   22.8,   28.4,   14.7],\n       [ 110. ,   19.1,   20.8,   23.1,   26.7,   14.7],\n       [ 120. ,   19.4,   21. ,   23.7,   25.8,   13.9],\n       [ 150. ,   20.4,   22. ,   24.7,   23.5,   15.2],\n       [ 145. ,   20.5,   22. ,   24.3,   27.3,   14.6],\n       [ 160. ,   20.5,   22.5,   25.3,   27.8,   15.1],\n       [ 140. ,   21. ,   22.5,   25. ,   26.2,   13.3],\n       [ 160. ,   21.1,   22.5,   25. ,   25.6,   15.2],\n       [ 169. ,   22. ,   24. ,   27.2,   27.7,   14.1],\n       [ 161. ,   22. ,   23.4,   26.7,   25.9,   13.6],\n       [ 200. ,   22.1,   23.5,   26.8,   27.6,   15.4],\n       [ 180. ,   23.6,   25.2,   27.9,   25.4,   14. ],\n       [ 290. ,   24. ,   26. ,   29.2,   30.4,   15.4],\n       [ 272. ,   25. ,   27. ,   30.6,   28. ,   15.6],\n       [ 390. ,   29.5,   31.7,   35. ,   27.1,   15.3],\n       [   6.7,    9.3,    9.8,   10.8,   16.1,    9.7],\n       [   7.5,   10. ,   10.5,   11.6,   17. ,   10. ],\n       [   7. ,   10.1,   10.6,   11.6,   14.9,    9.9],\n       [   9.7,   10.4,   11. ,   12. ,   18.3,   11.5],\n       [   9.8,   10.7,   11.2,   12.4,   16.8,   10.3],\n       [   8.7,   10.8,   11.3,   12.6,   15.7,   10.2],\n       [  10. ,   11.3,   11.8,   13.1,   16.9,    9.8],\n       [   9.9,   11.3,   11.8,   13.1,   16.9,    8.9],\n       [   9.8,   11.4,   12. ,   13.2,   16.7,    8.7],\n       [  12.2,   11.5,   12.2,   13.4,   15.6,   10.4],\n       [  13.4,   11.7,   12.4,   13.5,   18. ,    9.4],\n       [  12.2,   12.1,   13. ,   13.8,   16.5,    9.1],\n       [  19.7,   13.2,   14.3,   15.2,   18.9,   13.6],\n       [  19.9,   13.8,   15. ,   16.2,   18.1,   11.6],\n       [ 200. ,   30. ,   32.3,   34.8,   16. ,    9.7],\n       [ 300. ,   31.7,   34. ,   37.8,   15.1,   11. ],\n       [ 300. ,   32.7,   35. ,   38.8,   15.3,   11.3],\n       [ 300. ,   34.8,   37.3,   39.8,   15.8,   10.1],\n       [ 430. ,   35.5,   38. ,   40.5,   18. ,   11.3],\n       [ 345. ,   36. ,   38.5,   41. ,   15.6,    9.7],\n       [ 456. ,   40. ,   42.5,   45.5,   16. ,    9.5],\n       [ 510. ,   40. ,   42.5,   45.5,   15. ,    9.8],\n       [ 540. ,   40.1,   43. ,   45.8,   17. ,   11.2],\n       [ 500. ,   42. ,   45. ,   48. ,   14.5,   10.2],\n       [ 567. ,   43.2,   46. ,   48.7,   16. ,   10. ],\n       [ 770. ,   44.8,   48. ,   51.2,   15. ,   10.5],\n       [ 950. ,   48.3,   51.7,   55.1,   16.2,   11.2],\n       [1250. ,   52. ,   56. ,   59.7,   17.9,   11.7],\n       [1600. ,   56. ,   60. ,   64. ,   15. ,    9.6],\n       [1550. ,   56. ,   60. ,   64. ,   15. ,    9.6],\n       [1650. ,   59. ,   63.4,   68. ,   15.9,   11. ]])"
                    },
                    "execution_count": 22,
                    "metadata": {},
                    "output_type": "execute_result"
                }
            ],
            "source": [
                "samples=df.values\n",
                "samples"
            ]
        },
        {
            "cell_type": "markdown",
            "metadata": {},
            "source": [
                "**Step 4:** Perform the necessary imports:\n",
                "\n",
                "- `make_pipeline` from `sklearn.pipeline`.\n",
                "- `StandardScaler` from `sklearn.preprocessing`.\n",
                "- `KMeans` from `sklearn.cluster`.\n"
            ]
        },
        {
            "cell_type": "code",
            "execution_count": 23,
            "metadata": {},
            "outputs": [],
            "source": [
                "from sklearn.pipeline import make_pipeline\n",
                "from sklearn.preprocessing import StandardScaler #标准化\n",
                "from sklearn.cluster import KMeans\n"
            ]
        },
        {
            "cell_type": "markdown",
            "metadata": {},
            "source": [
                "**Step 5:** Create an instance of `StandardScaler` called `scaler`."
            ]
        },
        {
            "cell_type": "code",
            "execution_count": 24,
            "metadata": {},
            "outputs": [],
            "source": [
                "scaler=StandardScaler()"
            ]
        },
        {
            "cell_type": "markdown",
            "metadata": {},
            "source": [
                "**Step 6:** Create an instance of `KMeans` with `4` clusters called `kmeans`."
            ]
        },
        {
            "cell_type": "code",
            "execution_count": 25,
            "metadata": {},
            "outputs": [],
            "source": [
                "kmeans=KMeans(n_clusters=4)"
            ]
        },
        {
            "cell_type": "markdown",
            "metadata": {},
            "source": [
                "**Step 7:** Create a pipeline called `pipeline` that chains `scaler` and `kmeans`. To do this, you just need to pass them in as arguments to `make_pipeline()`."
            ]
        },
        {
            "cell_type": "code",
            "execution_count": 26,
            "metadata": {},
            "outputs": [],
            "source": [
                "pipeline=make_pipeline(scaler,kmeans)#管道连接scaler和kmeans"
            ]
        },
        {
            "cell_type": "markdown",
            "metadata": {},
            "source": [
                "**Great job!** Now you're all set to transform the fish measurements and perform the clustering.  Let's get to it in the next exercise!"
            ]
        },
        {
            "cell_type": "code",
            "execution_count": null,
            "metadata": {},
            "outputs": [],
            "source": []
        }
    ]
}