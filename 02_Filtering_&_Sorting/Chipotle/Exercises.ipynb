{
 "cells": [
  {
   "cell_type": "markdown",
   "metadata": {},
   "source": [
    "# Ex1 - Filtering and Sorting Data"
   ]
  },
  {
   "cell_type": "markdown",
   "metadata": {},
   "source": [
    "This time we are going to pull data directly from the internet.\n",
    "Special thanks to: https://github.com/justmarkham for sharing the dataset and materials.\n",
    "\n",
    "### Step 1. Import the necessary libraries"
   ]
  },
  {
   "cell_type": "code",
   "execution_count": 1,
   "metadata": {},
   "outputs": [],
   "source": [
    "import pandas as pd\n",
    "import numpy as np"
   ]
  },
  {
   "cell_type": "markdown",
   "metadata": {},
   "source": [
    "### Step 2. Import the dataset from this [address](https://raw.githubusercontent.com/justmarkham/DAT8/master/data/chipotle.tsv). "
   ]
  },
  {
   "cell_type": "markdown",
   "metadata": {},
   "source": [
    "### Step 3. Assign it to a variable called chipo."
   ]
  },
  {
   "cell_type": "code",
   "execution_count": 2,
   "metadata": {},
   "outputs": [],
   "source": [
    "path = '../../../../pandas_exercises_with_data/data/'\n",
    "chipo = pd.read_csv(path+'chipotle.tsv', sep = '\\t')"
   ]
  },
  {
   "cell_type": "markdown",
   "metadata": {},
   "source": [
    "### Step 4. How many products cost more than $10.00?"
   ]
  },
  {
   "cell_type": "code",
   "execution_count": 3,
   "metadata": {},
   "outputs": [
    {
     "data": {
      "text/plain": "31"
     },
     "execution_count": 3,
     "metadata": {},
     "output_type": "execute_result"
    }
   ],
   "source": [
    "\n",
    "trans = lambda x:float(x[1:-1])\n",
    "chipo.item_price = chipo.item_price.apply(trans)  #价格变为浮点型\n",
    "chipo_filter=chipo[chipo['item_price']>10]\n",
    "chipo_filter.item_name.nunique()"
   ]
  },
  {
   "cell_type": "markdown",
   "metadata": {},
   "source": [
    "### Step 5. What is the price of each item? \n",
    "###### print a data frame with only two columns item_name and item_price"
   ]
  },
  {
   "cell_type": "code",
   "execution_count": 4,
   "metadata": {},
   "outputs": [
    {
     "data": {
      "text/html": "<div>\n<style scoped>\n    .dataframe tbody tr th:only-of-type {\n        vertical-align: middle;\n    }\n\n    .dataframe tbody tr th {\n        vertical-align: top;\n    }\n\n    .dataframe thead th {\n        text-align: right;\n    }\n</style>\n<table border=\"1\" class=\"dataframe\">\n  <thead>\n    <tr style=\"text-align: right;\">\n      <th></th>\n      <th>item_name</th>\n      <th>item_price</th>\n    </tr>\n  </thead>\n  <tbody>\n    <tr>\n      <th>0</th>\n      <td>Chips and Fresh Tomato Salsa</td>\n      <td>2.39</td>\n    </tr>\n    <tr>\n      <th>1</th>\n      <td>Izze</td>\n      <td>3.39</td>\n    </tr>\n    <tr>\n      <th>2</th>\n      <td>Nantucket Nectar</td>\n      <td>3.39</td>\n    </tr>\n    <tr>\n      <th>3</th>\n      <td>Chips and Tomatillo-Green Chili Salsa</td>\n      <td>2.39</td>\n    </tr>\n    <tr>\n      <th>4</th>\n      <td>Chicken Bowl</td>\n      <td>16.98</td>\n    </tr>\n    <tr>\n      <th>5</th>\n      <td>Chicken Bowl</td>\n      <td>10.98</td>\n    </tr>\n    <tr>\n      <th>6</th>\n      <td>Side of Chips</td>\n      <td>1.69</td>\n    </tr>\n    <tr>\n      <th>7</th>\n      <td>Steak Burrito</td>\n      <td>11.75</td>\n    </tr>\n    <tr>\n      <th>8</th>\n      <td>Steak Soft Tacos</td>\n      <td>9.25</td>\n    </tr>\n    <tr>\n      <th>9</th>\n      <td>Steak Burrito</td>\n      <td>9.25</td>\n    </tr>\n    <tr>\n      <th>10</th>\n      <td>Chips and Guacamole</td>\n      <td>4.45</td>\n    </tr>\n    <tr>\n      <th>11</th>\n      <td>Chicken Crispy Tacos</td>\n      <td>8.75</td>\n    </tr>\n    <tr>\n      <th>12</th>\n      <td>Chicken Soft Tacos</td>\n      <td>8.75</td>\n    </tr>\n    <tr>\n      <th>13</th>\n      <td>Chicken Bowl</td>\n      <td>11.25</td>\n    </tr>\n    <tr>\n      <th>16</th>\n      <td>Chicken Burrito</td>\n      <td>8.49</td>\n    </tr>\n    <tr>\n      <th>18</th>\n      <td>Canned Soda</td>\n      <td>2.18</td>\n    </tr>\n    <tr>\n      <th>19</th>\n      <td>Chicken Bowl</td>\n      <td>8.75</td>\n    </tr>\n    <tr>\n      <th>21</th>\n      <td>Barbacoa Burrito</td>\n      <td>8.99</td>\n    </tr>\n    <tr>\n      <th>23</th>\n      <td>Chicken Burrito</td>\n      <td>10.98</td>\n    </tr>\n    <tr>\n      <th>26</th>\n      <td>Chicken Bowl</td>\n      <td>8.49</td>\n    </tr>\n    <tr>\n      <th>27</th>\n      <td>Carnitas Burrito</td>\n      <td>8.99</td>\n    </tr>\n    <tr>\n      <th>28</th>\n      <td>Canned Soda</td>\n      <td>1.09</td>\n    </tr>\n    <tr>\n      <th>31</th>\n      <td>Steak Burrito</td>\n      <td>8.99</td>\n    </tr>\n    <tr>\n      <th>33</th>\n      <td>Carnitas Bowl</td>\n      <td>8.99</td>\n    </tr>\n    <tr>\n      <th>34</th>\n      <td>Bottled Water</td>\n      <td>1.09</td>\n    </tr>\n    <tr>\n      <th>38</th>\n      <td>Chips and Tomatillo Green Chili Salsa</td>\n      <td>2.95</td>\n    </tr>\n    <tr>\n      <th>39</th>\n      <td>Barbacoa Bowl</td>\n      <td>11.75</td>\n    </tr>\n    <tr>\n      <th>40</th>\n      <td>Chips</td>\n      <td>2.15</td>\n    </tr>\n    <tr>\n      <th>44</th>\n      <td>Chicken Salad Bowl</td>\n      <td>8.75</td>\n    </tr>\n    <tr>\n      <th>49</th>\n      <td>Chips and Guacamole</td>\n      <td>3.99</td>\n    </tr>\n    <tr>\n      <th>...</th>\n      <td>...</td>\n      <td>...</td>\n    </tr>\n    <tr>\n      <th>3195</th>\n      <td>Barbacoa Bowl</td>\n      <td>8.69</td>\n    </tr>\n    <tr>\n      <th>3252</th>\n      <td>Carnitas Burrito</td>\n      <td>8.69</td>\n    </tr>\n    <tr>\n      <th>3276</th>\n      <td>Barbacoa Burrito</td>\n      <td>11.48</td>\n    </tr>\n    <tr>\n      <th>3294</th>\n      <td>Bottled Water</td>\n      <td>4.50</td>\n    </tr>\n    <tr>\n      <th>3334</th>\n      <td>Steak Bowl</td>\n      <td>26.07</td>\n    </tr>\n    <tr>\n      <th>3354</th>\n      <td>Steak Bowl</td>\n      <td>18.50</td>\n    </tr>\n    <tr>\n      <th>3375</th>\n      <td>Chicken Burrito</td>\n      <td>16.98</td>\n    </tr>\n    <tr>\n      <th>3389</th>\n      <td>6 Pack Soft Drink</td>\n      <td>12.98</td>\n    </tr>\n    <tr>\n      <th>3480</th>\n      <td>Carnitas Bowl</td>\n      <td>35.25</td>\n    </tr>\n    <tr>\n      <th>3502</th>\n      <td>Steak Salad</td>\n      <td>8.69</td>\n    </tr>\n    <tr>\n      <th>3598</th>\n      <td>Chips and Fresh Tomato Salsa</td>\n      <td>44.25</td>\n    </tr>\n    <tr>\n      <th>3599</th>\n      <td>Bottled Water</td>\n      <td>10.50</td>\n    </tr>\n    <tr>\n      <th>3601</th>\n      <td>Veggie Burrito</td>\n      <td>33.75</td>\n    </tr>\n    <tr>\n      <th>3634</th>\n      <td>Chicken Burrito</td>\n      <td>26.25</td>\n    </tr>\n    <tr>\n      <th>3658</th>\n      <td>Chicken Soft Tacos</td>\n      <td>21.96</td>\n    </tr>\n    <tr>\n      <th>3750</th>\n      <td>Carnitas Salad</td>\n      <td>8.99</td>\n    </tr>\n    <tr>\n      <th>3823</th>\n      <td>Chicken Burrito</td>\n      <td>16.38</td>\n    </tr>\n    <tr>\n      <th>3887</th>\n      <td>Side of Chips</td>\n      <td>13.52</td>\n    </tr>\n    <tr>\n      <th>3889</th>\n      <td>Veggie Soft Tacos</td>\n      <td>16.98</td>\n    </tr>\n    <tr>\n      <th>3890</th>\n      <td>Carnitas Crispy Tacos</td>\n      <td>17.98</td>\n    </tr>\n    <tr>\n      <th>3891</th>\n      <td>Chicken Crispy Tacos</td>\n      <td>16.98</td>\n    </tr>\n    <tr>\n      <th>3973</th>\n      <td>Canned Soft Drink</td>\n      <td>5.00</td>\n    </tr>\n    <tr>\n      <th>3989</th>\n      <td>Chicken Salad</td>\n      <td>8.19</td>\n    </tr>\n    <tr>\n      <th>4152</th>\n      <td>Bottled Water</td>\n      <td>15.00</td>\n    </tr>\n    <tr>\n      <th>4235</th>\n      <td>Chicken Bowl</td>\n      <td>8.50</td>\n    </tr>\n    <tr>\n      <th>4237</th>\n      <td>Chips and Guacamole</td>\n      <td>8.50</td>\n    </tr>\n    <tr>\n      <th>4354</th>\n      <td>Steak Soft Tacos</td>\n      <td>18.50</td>\n    </tr>\n    <tr>\n      <th>4489</th>\n      <td>Chips and Guacamole</td>\n      <td>17.80</td>\n    </tr>\n    <tr>\n      <th>4509</th>\n      <td>Chips</td>\n      <td>1.99</td>\n    </tr>\n    <tr>\n      <th>4510</th>\n      <td>Barbacoa Bowl</td>\n      <td>11.49</td>\n    </tr>\n  </tbody>\n</table>\n<p>209 rows × 2 columns</p>\n</div>",
      "text/plain": "                                  item_name  item_price\n0              Chips and Fresh Tomato Salsa        2.39\n1                                      Izze        3.39\n2                          Nantucket Nectar        3.39\n3     Chips and Tomatillo-Green Chili Salsa        2.39\n4                              Chicken Bowl       16.98\n5                              Chicken Bowl       10.98\n6                             Side of Chips        1.69\n7                             Steak Burrito       11.75\n8                          Steak Soft Tacos        9.25\n9                             Steak Burrito        9.25\n10                      Chips and Guacamole        4.45\n11                     Chicken Crispy Tacos        8.75\n12                       Chicken Soft Tacos        8.75\n13                             Chicken Bowl       11.25\n16                          Chicken Burrito        8.49\n18                              Canned Soda        2.18\n19                             Chicken Bowl        8.75\n21                         Barbacoa Burrito        8.99\n23                          Chicken Burrito       10.98\n26                             Chicken Bowl        8.49\n27                         Carnitas Burrito        8.99\n28                              Canned Soda        1.09\n31                            Steak Burrito        8.99\n33                            Carnitas Bowl        8.99\n34                            Bottled Water        1.09\n38    Chips and Tomatillo Green Chili Salsa        2.95\n39                            Barbacoa Bowl       11.75\n40                                    Chips        2.15\n44                       Chicken Salad Bowl        8.75\n49                      Chips and Guacamole        3.99\n...                                     ...         ...\n3195                          Barbacoa Bowl        8.69\n3252                       Carnitas Burrito        8.69\n3276                       Barbacoa Burrito       11.48\n3294                          Bottled Water        4.50\n3334                             Steak Bowl       26.07\n3354                             Steak Bowl       18.50\n3375                        Chicken Burrito       16.98\n3389                      6 Pack Soft Drink       12.98\n3480                          Carnitas Bowl       35.25\n3502                            Steak Salad        8.69\n3598           Chips and Fresh Tomato Salsa       44.25\n3599                          Bottled Water       10.50\n3601                         Veggie Burrito       33.75\n3634                        Chicken Burrito       26.25\n3658                     Chicken Soft Tacos       21.96\n3750                         Carnitas Salad        8.99\n3823                        Chicken Burrito       16.38\n3887                          Side of Chips       13.52\n3889                      Veggie Soft Tacos       16.98\n3890                  Carnitas Crispy Tacos       17.98\n3891                   Chicken Crispy Tacos       16.98\n3973                      Canned Soft Drink        5.00\n3989                          Chicken Salad        8.19\n4152                          Bottled Water       15.00\n4235                           Chicken Bowl        8.50\n4237                    Chips and Guacamole        8.50\n4354                       Steak Soft Tacos       18.50\n4489                    Chips and Guacamole       17.80\n4509                                  Chips        1.99\n4510                          Barbacoa Bowl       11.49\n\n[209 rows x 2 columns]"
     },
     "execution_count": 4,
     "metadata": {},
     "output_type": "execute_result"
    }
   ],
   "source": [
    " chipo_itprice = chipo[['item_name', 'item_price']]\n",
    " chipo_itprice.drop_duplicates()"
   ]
  },
  {
   "cell_type": "markdown",
   "metadata": {},
   "source": [
    "### Step 6. Sort by the name of the item"
   ]
  },
  {
   "cell_type": "code",
   "execution_count": 5,
   "metadata": {},
   "outputs": [
    {
     "data": {
      "text/html": "<div>\n<style scoped>\n    .dataframe tbody tr th:only-of-type {\n        vertical-align: middle;\n    }\n\n    .dataframe tbody tr th {\n        vertical-align: top;\n    }\n\n    .dataframe thead th {\n        text-align: right;\n    }\n</style>\n<table border=\"1\" class=\"dataframe\">\n  <thead>\n    <tr style=\"text-align: right;\">\n      <th></th>\n      <th>order_id</th>\n      <th>quantity</th>\n      <th>item_name</th>\n      <th>choice_description</th>\n      <th>item_price</th>\n    </tr>\n  </thead>\n  <tbody>\n    <tr>\n      <th>3389</th>\n      <td>1360</td>\n      <td>2</td>\n      <td>6 Pack Soft Drink</td>\n      <td>[Diet Coke]</td>\n      <td>12.98</td>\n    </tr>\n    <tr>\n      <th>341</th>\n      <td>148</td>\n      <td>1</td>\n      <td>6 Pack Soft Drink</td>\n      <td>[Diet Coke]</td>\n      <td>6.49</td>\n    </tr>\n    <tr>\n      <th>1849</th>\n      <td>749</td>\n      <td>1</td>\n      <td>6 Pack Soft Drink</td>\n      <td>[Coke]</td>\n      <td>6.49</td>\n    </tr>\n    <tr>\n      <th>1860</th>\n      <td>754</td>\n      <td>1</td>\n      <td>6 Pack Soft Drink</td>\n      <td>[Diet Coke]</td>\n      <td>6.49</td>\n    </tr>\n    <tr>\n      <th>2713</th>\n      <td>1076</td>\n      <td>1</td>\n      <td>6 Pack Soft Drink</td>\n      <td>[Coke]</td>\n      <td>6.49</td>\n    </tr>\n    <tr>\n      <th>3422</th>\n      <td>1373</td>\n      <td>1</td>\n      <td>6 Pack Soft Drink</td>\n      <td>[Coke]</td>\n      <td>6.49</td>\n    </tr>\n    <tr>\n      <th>553</th>\n      <td>230</td>\n      <td>1</td>\n      <td>6 Pack Soft Drink</td>\n      <td>[Diet Coke]</td>\n      <td>6.49</td>\n    </tr>\n    <tr>\n      <th>1916</th>\n      <td>774</td>\n      <td>1</td>\n      <td>6 Pack Soft Drink</td>\n      <td>[Diet Coke]</td>\n      <td>6.49</td>\n    </tr>\n    <tr>\n      <th>1922</th>\n      <td>776</td>\n      <td>1</td>\n      <td>6 Pack Soft Drink</td>\n      <td>[Coke]</td>\n      <td>6.49</td>\n    </tr>\n    <tr>\n      <th>1937</th>\n      <td>784</td>\n      <td>1</td>\n      <td>6 Pack Soft Drink</td>\n      <td>[Diet Coke]</td>\n      <td>6.49</td>\n    </tr>\n    <tr>\n      <th>3836</th>\n      <td>1537</td>\n      <td>1</td>\n      <td>6 Pack Soft Drink</td>\n      <td>[Coke]</td>\n      <td>6.49</td>\n    </tr>\n    <tr>\n      <th>298</th>\n      <td>129</td>\n      <td>1</td>\n      <td>6 Pack Soft Drink</td>\n      <td>[Sprite]</td>\n      <td>6.49</td>\n    </tr>\n    <tr>\n      <th>1976</th>\n      <td>798</td>\n      <td>1</td>\n      <td>6 Pack Soft Drink</td>\n      <td>[Diet Coke]</td>\n      <td>6.49</td>\n    </tr>\n    <tr>\n      <th>1167</th>\n      <td>481</td>\n      <td>1</td>\n      <td>6 Pack Soft Drink</td>\n      <td>[Coke]</td>\n      <td>6.49</td>\n    </tr>\n    <tr>\n      <th>3875</th>\n      <td>1554</td>\n      <td>1</td>\n      <td>6 Pack Soft Drink</td>\n      <td>[Diet Coke]</td>\n      <td>6.49</td>\n    </tr>\n    <tr>\n      <th>1124</th>\n      <td>465</td>\n      <td>1</td>\n      <td>6 Pack Soft Drink</td>\n      <td>[Coke]</td>\n      <td>6.49</td>\n    </tr>\n    <tr>\n      <th>3886</th>\n      <td>1558</td>\n      <td>1</td>\n      <td>6 Pack Soft Drink</td>\n      <td>[Diet Coke]</td>\n      <td>6.49</td>\n    </tr>\n    <tr>\n      <th>2108</th>\n      <td>849</td>\n      <td>1</td>\n      <td>6 Pack Soft Drink</td>\n      <td>[Coke]</td>\n      <td>6.49</td>\n    </tr>\n    <tr>\n      <th>3010</th>\n      <td>1196</td>\n      <td>1</td>\n      <td>6 Pack Soft Drink</td>\n      <td>[Diet Coke]</td>\n      <td>6.49</td>\n    </tr>\n    <tr>\n      <th>4535</th>\n      <td>1803</td>\n      <td>1</td>\n      <td>6 Pack Soft Drink</td>\n      <td>[Lemonade]</td>\n      <td>6.49</td>\n    </tr>\n    <tr>\n      <th>4169</th>\n      <td>1664</td>\n      <td>1</td>\n      <td>6 Pack Soft Drink</td>\n      <td>[Diet Coke]</td>\n      <td>6.49</td>\n    </tr>\n    <tr>\n      <th>4174</th>\n      <td>1666</td>\n      <td>1</td>\n      <td>6 Pack Soft Drink</td>\n      <td>[Coke]</td>\n      <td>6.49</td>\n    </tr>\n    <tr>\n      <th>4527</th>\n      <td>1800</td>\n      <td>1</td>\n      <td>6 Pack Soft Drink</td>\n      <td>[Diet Coke]</td>\n      <td>6.49</td>\n    </tr>\n    <tr>\n      <th>4522</th>\n      <td>1798</td>\n      <td>1</td>\n      <td>6 Pack Soft Drink</td>\n      <td>[Diet Coke]</td>\n      <td>6.49</td>\n    </tr>\n    <tr>\n      <th>3806</th>\n      <td>1525</td>\n      <td>1</td>\n      <td>6 Pack Soft Drink</td>\n      <td>[Sprite]</td>\n      <td>6.49</td>\n    </tr>\n    <tr>\n      <th>2389</th>\n      <td>949</td>\n      <td>1</td>\n      <td>6 Pack Soft Drink</td>\n      <td>[Coke]</td>\n      <td>6.49</td>\n    </tr>\n    <tr>\n      <th>3132</th>\n      <td>1248</td>\n      <td>1</td>\n      <td>6 Pack Soft Drink</td>\n      <td>[Diet Coke]</td>\n      <td>6.49</td>\n    </tr>\n    <tr>\n      <th>3141</th>\n      <td>1253</td>\n      <td>1</td>\n      <td>6 Pack Soft Drink</td>\n      <td>[Lemonade]</td>\n      <td>6.49</td>\n    </tr>\n    <tr>\n      <th>639</th>\n      <td>264</td>\n      <td>1</td>\n      <td>6 Pack Soft Drink</td>\n      <td>[Diet Coke]</td>\n      <td>6.49</td>\n    </tr>\n    <tr>\n      <th>1026</th>\n      <td>422</td>\n      <td>1</td>\n      <td>6 Pack Soft Drink</td>\n      <td>[Sprite]</td>\n      <td>6.49</td>\n    </tr>\n    <tr>\n      <th>...</th>\n      <td>...</td>\n      <td>...</td>\n      <td>...</td>\n      <td>...</td>\n      <td>...</td>\n    </tr>\n    <tr>\n      <th>2996</th>\n      <td>1192</td>\n      <td>1</td>\n      <td>Veggie Salad</td>\n      <td>[Roasted Chili Corn Salsa (Medium), [Black Bea...</td>\n      <td>8.49</td>\n    </tr>\n    <tr>\n      <th>3163</th>\n      <td>1263</td>\n      <td>1</td>\n      <td>Veggie Salad</td>\n      <td>[[Fresh Tomato Salsa (Mild), Roasted Chili Cor...</td>\n      <td>8.49</td>\n    </tr>\n    <tr>\n      <th>4084</th>\n      <td>1635</td>\n      <td>1</td>\n      <td>Veggie Salad</td>\n      <td>[[Fresh Tomato Salsa (Mild), Roasted Chili Cor...</td>\n      <td>8.49</td>\n    </tr>\n    <tr>\n      <th>1694</th>\n      <td>686</td>\n      <td>1</td>\n      <td>Veggie Salad</td>\n      <td>[[Fresh Tomato Salsa (Mild), Roasted Chili Cor...</td>\n      <td>8.49</td>\n    </tr>\n    <tr>\n      <th>2756</th>\n      <td>1094</td>\n      <td>1</td>\n      <td>Veggie Salad</td>\n      <td>[[Tomatillo-Green Chili Salsa (Medium), Roaste...</td>\n      <td>8.49</td>\n    </tr>\n    <tr>\n      <th>4201</th>\n      <td>1677</td>\n      <td>1</td>\n      <td>Veggie Salad Bowl</td>\n      <td>[Fresh Tomato Salsa, [Fajita Vegetables, Black...</td>\n      <td>11.25</td>\n    </tr>\n    <tr>\n      <th>1884</th>\n      <td>760</td>\n      <td>1</td>\n      <td>Veggie Salad Bowl</td>\n      <td>[Fresh Tomato Salsa, [Fajita Vegetables, Rice,...</td>\n      <td>11.25</td>\n    </tr>\n    <tr>\n      <th>455</th>\n      <td>195</td>\n      <td>1</td>\n      <td>Veggie Salad Bowl</td>\n      <td>[Fresh Tomato Salsa, [Fajita Vegetables, Rice,...</td>\n      <td>11.25</td>\n    </tr>\n    <tr>\n      <th>3223</th>\n      <td>1289</td>\n      <td>1</td>\n      <td>Veggie Salad Bowl</td>\n      <td>[Tomatillo Red Chili Salsa, [Fajita Vegetables...</td>\n      <td>11.25</td>\n    </tr>\n    <tr>\n      <th>2223</th>\n      <td>896</td>\n      <td>1</td>\n      <td>Veggie Salad Bowl</td>\n      <td>[Roasted Chili Corn Salsa, Fajita Vegetables]</td>\n      <td>8.75</td>\n    </tr>\n    <tr>\n      <th>2269</th>\n      <td>913</td>\n      <td>1</td>\n      <td>Veggie Salad Bowl</td>\n      <td>[Fresh Tomato Salsa, [Fajita Vegetables, Rice,...</td>\n      <td>8.75</td>\n    </tr>\n    <tr>\n      <th>4541</th>\n      <td>1805</td>\n      <td>1</td>\n      <td>Veggie Salad Bowl</td>\n      <td>[Tomatillo Green Chili Salsa, [Fajita Vegetabl...</td>\n      <td>8.75</td>\n    </tr>\n    <tr>\n      <th>3293</th>\n      <td>1321</td>\n      <td>1</td>\n      <td>Veggie Salad Bowl</td>\n      <td>[Fresh Tomato Salsa, [Rice, Black Beans, Chees...</td>\n      <td>8.75</td>\n    </tr>\n    <tr>\n      <th>186</th>\n      <td>83</td>\n      <td>1</td>\n      <td>Veggie Salad Bowl</td>\n      <td>[Fresh Tomato Salsa, [Fajita Vegetables, Rice,...</td>\n      <td>11.25</td>\n    </tr>\n    <tr>\n      <th>960</th>\n      <td>394</td>\n      <td>1</td>\n      <td>Veggie Salad Bowl</td>\n      <td>[Fresh Tomato Salsa, [Fajita Vegetables, Lettu...</td>\n      <td>8.75</td>\n    </tr>\n    <tr>\n      <th>1316</th>\n      <td>536</td>\n      <td>1</td>\n      <td>Veggie Salad Bowl</td>\n      <td>[Fresh Tomato Salsa, [Fajita Vegetables, Rice,...</td>\n      <td>8.75</td>\n    </tr>\n    <tr>\n      <th>2156</th>\n      <td>869</td>\n      <td>1</td>\n      <td>Veggie Salad Bowl</td>\n      <td>[Tomatillo Red Chili Salsa, [Fajita Vegetables...</td>\n      <td>11.25</td>\n    </tr>\n    <tr>\n      <th>4261</th>\n      <td>1700</td>\n      <td>1</td>\n      <td>Veggie Salad Bowl</td>\n      <td>[Fresh Tomato Salsa, [Fajita Vegetables, Rice,...</td>\n      <td>11.25</td>\n    </tr>\n    <tr>\n      <th>295</th>\n      <td>128</td>\n      <td>1</td>\n      <td>Veggie Salad Bowl</td>\n      <td>[Fresh Tomato Salsa, [Fajita Vegetables, Lettu...</td>\n      <td>11.25</td>\n    </tr>\n    <tr>\n      <th>4573</th>\n      <td>1818</td>\n      <td>1</td>\n      <td>Veggie Salad Bowl</td>\n      <td>[Fresh Tomato Salsa, [Fajita Vegetables, Pinto...</td>\n      <td>8.75</td>\n    </tr>\n    <tr>\n      <th>2683</th>\n      <td>1066</td>\n      <td>1</td>\n      <td>Veggie Salad Bowl</td>\n      <td>[Roasted Chili Corn Salsa, [Fajita Vegetables,...</td>\n      <td>8.75</td>\n    </tr>\n    <tr>\n      <th>496</th>\n      <td>207</td>\n      <td>1</td>\n      <td>Veggie Salad Bowl</td>\n      <td>[Fresh Tomato Salsa, [Rice, Lettuce, Guacamole...</td>\n      <td>11.25</td>\n    </tr>\n    <tr>\n      <th>4109</th>\n      <td>1646</td>\n      <td>1</td>\n      <td>Veggie Salad Bowl</td>\n      <td>[Tomatillo Red Chili Salsa, [Fajita Vegetables...</td>\n      <td>11.25</td>\n    </tr>\n    <tr>\n      <th>738</th>\n      <td>304</td>\n      <td>1</td>\n      <td>Veggie Soft Tacos</td>\n      <td>[Tomatillo Red Chili Salsa, [Fajita Vegetables...</td>\n      <td>11.25</td>\n    </tr>\n    <tr>\n      <th>3889</th>\n      <td>1559</td>\n      <td>2</td>\n      <td>Veggie Soft Tacos</td>\n      <td>[Fresh Tomato Salsa (Mild), [Black Beans, Rice...</td>\n      <td>16.98</td>\n    </tr>\n    <tr>\n      <th>2384</th>\n      <td>948</td>\n      <td>1</td>\n      <td>Veggie Soft Tacos</td>\n      <td>[Roasted Chili Corn Salsa, [Fajita Vegetables,...</td>\n      <td>8.75</td>\n    </tr>\n    <tr>\n      <th>781</th>\n      <td>322</td>\n      <td>1</td>\n      <td>Veggie Soft Tacos</td>\n      <td>[Fresh Tomato Salsa, [Black Beans, Cheese, Sou...</td>\n      <td>8.75</td>\n    </tr>\n    <tr>\n      <th>2851</th>\n      <td>1132</td>\n      <td>1</td>\n      <td>Veggie Soft Tacos</td>\n      <td>[Roasted Chili Corn Salsa (Medium), [Black Bea...</td>\n      <td>8.49</td>\n    </tr>\n    <tr>\n      <th>1699</th>\n      <td>688</td>\n      <td>1</td>\n      <td>Veggie Soft Tacos</td>\n      <td>[Fresh Tomato Salsa, [Fajita Vegetables, Rice,...</td>\n      <td>11.25</td>\n    </tr>\n    <tr>\n      <th>1395</th>\n      <td>567</td>\n      <td>1</td>\n      <td>Veggie Soft Tacos</td>\n      <td>[Fresh Tomato Salsa (Mild), [Pinto Beans, Rice...</td>\n      <td>8.49</td>\n    </tr>\n  </tbody>\n</table>\n<p>4622 rows × 5 columns</p>\n</div>",
      "text/plain": "      order_id  quantity          item_name  \\\n3389      1360         2  6 Pack Soft Drink   \n341        148         1  6 Pack Soft Drink   \n1849       749         1  6 Pack Soft Drink   \n1860       754         1  6 Pack Soft Drink   \n2713      1076         1  6 Pack Soft Drink   \n3422      1373         1  6 Pack Soft Drink   \n553        230         1  6 Pack Soft Drink   \n1916       774         1  6 Pack Soft Drink   \n1922       776         1  6 Pack Soft Drink   \n1937       784         1  6 Pack Soft Drink   \n3836      1537         1  6 Pack Soft Drink   \n298        129         1  6 Pack Soft Drink   \n1976       798         1  6 Pack Soft Drink   \n1167       481         1  6 Pack Soft Drink   \n3875      1554         1  6 Pack Soft Drink   \n1124       465         1  6 Pack Soft Drink   \n3886      1558         1  6 Pack Soft Drink   \n2108       849         1  6 Pack Soft Drink   \n3010      1196         1  6 Pack Soft Drink   \n4535      1803         1  6 Pack Soft Drink   \n4169      1664         1  6 Pack Soft Drink   \n4174      1666         1  6 Pack Soft Drink   \n4527      1800         1  6 Pack Soft Drink   \n4522      1798         1  6 Pack Soft Drink   \n3806      1525         1  6 Pack Soft Drink   \n2389       949         1  6 Pack Soft Drink   \n3132      1248         1  6 Pack Soft Drink   \n3141      1253         1  6 Pack Soft Drink   \n639        264         1  6 Pack Soft Drink   \n1026       422         1  6 Pack Soft Drink   \n...        ...       ...                ...   \n2996      1192         1       Veggie Salad   \n3163      1263         1       Veggie Salad   \n4084      1635         1       Veggie Salad   \n1694       686         1       Veggie Salad   \n2756      1094         1       Veggie Salad   \n4201      1677         1  Veggie Salad Bowl   \n1884       760         1  Veggie Salad Bowl   \n455        195         1  Veggie Salad Bowl   \n3223      1289         1  Veggie Salad Bowl   \n2223       896         1  Veggie Salad Bowl   \n2269       913         1  Veggie Salad Bowl   \n4541      1805         1  Veggie Salad Bowl   \n3293      1321         1  Veggie Salad Bowl   \n186         83         1  Veggie Salad Bowl   \n960        394         1  Veggie Salad Bowl   \n1316       536         1  Veggie Salad Bowl   \n2156       869         1  Veggie Salad Bowl   \n4261      1700         1  Veggie Salad Bowl   \n295        128         1  Veggie Salad Bowl   \n4573      1818         1  Veggie Salad Bowl   \n2683      1066         1  Veggie Salad Bowl   \n496        207         1  Veggie Salad Bowl   \n4109      1646         1  Veggie Salad Bowl   \n738        304         1  Veggie Soft Tacos   \n3889      1559         2  Veggie Soft Tacos   \n2384       948         1  Veggie Soft Tacos   \n781        322         1  Veggie Soft Tacos   \n2851      1132         1  Veggie Soft Tacos   \n1699       688         1  Veggie Soft Tacos   \n1395       567         1  Veggie Soft Tacos   \n\n                                     choice_description  item_price  \n3389                                        [Diet Coke]       12.98  \n341                                         [Diet Coke]        6.49  \n1849                                             [Coke]        6.49  \n1860                                        [Diet Coke]        6.49  \n2713                                             [Coke]        6.49  \n3422                                             [Coke]        6.49  \n553                                         [Diet Coke]        6.49  \n1916                                        [Diet Coke]        6.49  \n1922                                             [Coke]        6.49  \n1937                                        [Diet Coke]        6.49  \n3836                                             [Coke]        6.49  \n298                                            [Sprite]        6.49  \n1976                                        [Diet Coke]        6.49  \n1167                                             [Coke]        6.49  \n3875                                        [Diet Coke]        6.49  \n1124                                             [Coke]        6.49  \n3886                                        [Diet Coke]        6.49  \n2108                                             [Coke]        6.49  \n3010                                        [Diet Coke]        6.49  \n4535                                         [Lemonade]        6.49  \n4169                                        [Diet Coke]        6.49  \n4174                                             [Coke]        6.49  \n4527                                        [Diet Coke]        6.49  \n4522                                        [Diet Coke]        6.49  \n3806                                           [Sprite]        6.49  \n2389                                             [Coke]        6.49  \n3132                                        [Diet Coke]        6.49  \n3141                                         [Lemonade]        6.49  \n639                                         [Diet Coke]        6.49  \n1026                                           [Sprite]        6.49  \n...                                                 ...         ...  \n2996  [Roasted Chili Corn Salsa (Medium), [Black Bea...        8.49  \n3163  [[Fresh Tomato Salsa (Mild), Roasted Chili Cor...        8.49  \n4084  [[Fresh Tomato Salsa (Mild), Roasted Chili Cor...        8.49  \n1694  [[Fresh Tomato Salsa (Mild), Roasted Chili Cor...        8.49  \n2756  [[Tomatillo-Green Chili Salsa (Medium), Roaste...        8.49  \n4201  [Fresh Tomato Salsa, [Fajita Vegetables, Black...       11.25  \n1884  [Fresh Tomato Salsa, [Fajita Vegetables, Rice,...       11.25  \n455   [Fresh Tomato Salsa, [Fajita Vegetables, Rice,...       11.25  \n3223  [Tomatillo Red Chili Salsa, [Fajita Vegetables...       11.25  \n2223      [Roasted Chili Corn Salsa, Fajita Vegetables]        8.75  \n2269  [Fresh Tomato Salsa, [Fajita Vegetables, Rice,...        8.75  \n4541  [Tomatillo Green Chili Salsa, [Fajita Vegetabl...        8.75  \n3293  [Fresh Tomato Salsa, [Rice, Black Beans, Chees...        8.75  \n186   [Fresh Tomato Salsa, [Fajita Vegetables, Rice,...       11.25  \n960   [Fresh Tomato Salsa, [Fajita Vegetables, Lettu...        8.75  \n1316  [Fresh Tomato Salsa, [Fajita Vegetables, Rice,...        8.75  \n2156  [Tomatillo Red Chili Salsa, [Fajita Vegetables...       11.25  \n4261  [Fresh Tomato Salsa, [Fajita Vegetables, Rice,...       11.25  \n295   [Fresh Tomato Salsa, [Fajita Vegetables, Lettu...       11.25  \n4573  [Fresh Tomato Salsa, [Fajita Vegetables, Pinto...        8.75  \n2683  [Roasted Chili Corn Salsa, [Fajita Vegetables,...        8.75  \n496   [Fresh Tomato Salsa, [Rice, Lettuce, Guacamole...       11.25  \n4109  [Tomatillo Red Chili Salsa, [Fajita Vegetables...       11.25  \n738   [Tomatillo Red Chili Salsa, [Fajita Vegetables...       11.25  \n3889  [Fresh Tomato Salsa (Mild), [Black Beans, Rice...       16.98  \n2384  [Roasted Chili Corn Salsa, [Fajita Vegetables,...        8.75  \n781   [Fresh Tomato Salsa, [Black Beans, Cheese, Sou...        8.75  \n2851  [Roasted Chili Corn Salsa (Medium), [Black Bea...        8.49  \n1699  [Fresh Tomato Salsa, [Fajita Vegetables, Rice,...       11.25  \n1395  [Fresh Tomato Salsa (Mild), [Pinto Beans, Rice...        8.49  \n\n[4622 rows x 5 columns]"
     },
     "execution_count": 5,
     "metadata": {},
     "output_type": "execute_result"
    }
   ],
   "source": [
    "chipo.sort_values(by = 'item_name') #按名称排序"
   ]
  },
  {
   "cell_type": "markdown",
   "metadata": {},
   "source": [
    "### Step 7. What was the quantity of the most expensive item ordered?"
   ]
  },
  {
   "cell_type": "code",
   "execution_count": 6,
   "metadata": {},
   "outputs": [
    {
     "data": {
      "text/html": "<div>\n<style scoped>\n    .dataframe tbody tr th:only-of-type {\n        vertical-align: middle;\n    }\n\n    .dataframe tbody tr th {\n        vertical-align: top;\n    }\n\n    .dataframe thead th {\n        text-align: right;\n    }\n</style>\n<table border=\"1\" class=\"dataframe\">\n  <thead>\n    <tr style=\"text-align: right;\">\n      <th></th>\n      <th>quantity</th>\n    </tr>\n  </thead>\n  <tbody>\n    <tr>\n      <th>3598</th>\n      <td>15</td>\n    </tr>\n  </tbody>\n</table>\n</div>",
      "text/plain": "      quantity\n3598        15"
     },
     "execution_count": 6,
     "metadata": {},
     "output_type": "execute_result"
    }
   ],
   "source": [
    "chipo.sort_values(by = 'item_price',ascending=False).head(1)[['quantity']]"
   ]
  },
  {
   "cell_type": "markdown",
   "metadata": {},
   "source": [
    "### Step 8. How many times were a Veggie Salad Bowl ordered?"
   ]
  },
  {
   "cell_type": "code",
   "execution_count": 7,
   "metadata": {},
   "outputs": [
    {
     "data": {
      "text/plain": "18"
     },
     "execution_count": 7,
     "metadata": {},
     "output_type": "execute_result"
    }
   ],
   "source": [
    "chipo[chipo.item_name == 'Veggie Salad Bowl'].shape[0]"
   ]
  },
  {
   "cell_type": "markdown",
   "metadata": {},
   "source": [
    "### Step 9. How many times people orderd more than one Canned Soda?"
   ]
  },
  {
   "cell_type": "code",
   "execution_count": 8,
   "metadata": {},
   "outputs": [
    {
     "data": {
      "text/plain": "20"
     },
     "execution_count": 8,
     "metadata": {},
     "output_type": "execute_result"
    }
   ],
   "source": [
    "chipo[(chipo.item_name == 'Canned Soda')&(chipo.quantity > 1)].shape[0]"
   ]
  },
  {
   "cell_type": "code",
   "execution_count": null,
   "metadata": {},
   "outputs": [],
   "source": []
  }
 ],
 "metadata": {
  "kernelspec": {
   "display_name": "Python 3.7.0 64-bit ('base': conda)",
   "language": "python",
   "name": "python37064bitbasecondaa8718354cf314d6cb09957be85088dc7"
  },
  "language_info": {
   "codemirror_mode": {
    "name": "ipython",
    "version": 2
   },
   "file_extension": ".py",
   "mimetype": "text/x-python",
   "name": "python",
   "nbconvert_exporter": "python",
   "pygments_lexer": "ipython2",
   "version": "3.7.0-final"
  }
 },
 "nbformat": 4,
 "nbformat_minor": 0
}