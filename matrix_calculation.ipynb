{
 "nbformat": 4,
 "nbformat_minor": 2,
 "metadata": {
  "language_info": {
   "name": "python",
   "codemirror_mode": {
    "name": "ipython",
    "version": 3
   },
   "version": "3.7.0-final"
  },
  "orig_nbformat": 2,
  "file_extension": ".py",
  "mimetype": "text/x-python",
  "name": "python",
  "npconvert_exporter": "python",
  "pygments_lexer": "ipython3",
  "version": 3,
  "kernelspec": {
   "name": "python37064bitbasecondaa8718354cf314d6cb09957be85088dc7",
   "display_name": "Python 3.7.0 64-bit ('base': conda)"
  }
 },
 "cells": [
  {
   "cell_type": "markdown",
   "execution_count": 1,
   "metadata": {},
   "outputs": [],
   "source": [
    "# 矩阵计算"
   ]
  },
  {
   "cell_type": "markdown",
   "execution_count": null,
   "metadata": {},
   "outputs": [],
   "source": [
    "### 1. 创建一个向量\n"
   ]
  },
  {
   "cell_type": "code",
   "execution_count": 1,
   "metadata": {},
   "outputs": [
    {
     "data": {
      "text/plain": "matrix([[1, 2, 3, 4]])"
     },
     "execution_count": 1,
     "metadata": {},
     "output_type": "execute_result"
    }
   ],
   "source": [
    "import numpy as np \n",
    "x=np.array([1,2,3,4])\n",
    "x=np.mat(x)\n",
    "x"
   ]
  },
  {
   "cell_type": "markdown",
   "execution_count": null,
   "metadata": {},
   "outputs": [],
   "source": [
    "### 2. 创建一个矩阵"
   ]
  },
  {
   "cell_type": "code",
   "execution_count": 2,
   "metadata": {},
   "outputs": [
    {
     "data": {
      "text/plain": "matrix([[1, 2, 3],\n        [1, 1, 1]])"
     },
     "execution_count": 2,
     "metadata": {},
     "output_type": "execute_result"
    }
   ],
   "source": [
    "x1=np.array([[1,2,3],[1,1,1]])  #创建array，转为矩阵\n",
    "np.mat(x1)"
   ]
  },
  {
   "cell_type": "code",
   "execution_count": 3,
   "metadata": {},
   "outputs": [
    {
     "data": {
      "text/plain": "matrix([[1, 2, 3],\n        [1, 1, 1]])"
     },
     "execution_count": 3,
     "metadata": {},
     "output_type": "execute_result"
    }
   ],
   "source": [
    "np.mat([[1,2,3],[1,1,1]])  #直接创建"
   ]
  },
  {
   "cell_type": "markdown",
   "execution_count": null,
   "metadata": {},
   "outputs": [],
   "source": [
    "### 3. 矩阵转置"
   ]
  },
  {
   "cell_type": "code",
   "execution_count": 4,
   "metadata": {},
   "outputs": [
    {
     "name": "stdout",
     "output_type": "stream",
     "text": "[[1 2 3]\n [1 1 1]]\n[[1 1]\n [2 1]\n [3 1]]\n"
    }
   ],
   "source": [
    "x1=np.mat([[1,2,3],[1,1,1]])\n",
    "x2=x1.T  #转置\n",
    "print(x1)\n",
    "print(x2)"
   ]
  },
  {
   "cell_type": "markdown",
   "execution_count": null,
   "metadata": {},
   "outputs": [],
   "source": [
    "### 4. 矩阵相加减"
   ]
  },
  {
   "cell_type": "code",
   "execution_count": 5,
   "metadata": {},
   "outputs": [
    {
     "name": "stdout",
     "output_type": "stream",
     "text": "[[2. 1. 1.]\n [1. 2. 1.]\n [1. 1. 2.]]\n[[0. 1. 1.]\n [1. 0. 1.]\n [1. 1. 0.]]\n"
    }
   ],
   "source": [
    "A=np.mat(np.ones((3,3)))\n",
    "B=np.mat(np.eye(3))\n",
    "print(A+B)\n",
    "print(A-B)"
   ]
  },
  {
   "cell_type": "markdown",
   "execution_count": null,
   "metadata": {},
   "outputs": [],
   "source": [
    "### 5. 数与矩阵相乘"
   ]
  },
  {
   "cell_type": "code",
   "execution_count": 6,
   "metadata": {},
   "outputs": [
    {
     "data": {
      "text/plain": "(matrix([[5., 5., 5.],\n         [5., 5., 5.],\n         [5., 5., 5.]]), matrix([[5., 5., 5.],\n         [5., 5., 5.],\n         [5., 5., 5.]]))"
     },
     "execution_count": 6,
     "metadata": {},
     "output_type": "execute_result"
    }
   ],
   "source": [
    "c=5\n",
    "c*A,np.dot(c,A)"
   ]
  },
  {
   "cell_type": "markdown",
   "execution_count": null,
   "metadata": {},
   "outputs": [],
   "source": [
    "### 6. 矩阵相乘"
   ]
  },
  {
   "cell_type": "code",
   "execution_count": 7,
   "metadata": {},
   "outputs": [
    {
     "name": "stdout",
     "output_type": "stream",
     "text": "[[1. 2. 3.]\n [1. 2. 3.]\n [1. 1. 1.]]\n[[2 2 2]\n [4 4 4]]\n"
    }
   ],
   "source": [
    "## 点乘：对应元素相乘\n",
    "A=np.mat(np.ones((3,3)))\n",
    "B=np.mat([[1,2,3],[1,2,3],[1,1,1]])\n",
    "C=np.mat([2,2,2])\n",
    "D=np.mat([[1,1,1],[2,2,2]])\n",
    "print(np.multiply(A,B)) #对应位置元素相乘，要求维度相同\n",
    "print(np.multiply(C,D))#或者有一个矩阵是一维,且行或列维度与另一矩阵维度相同"
   ]
  },
  {
   "cell_type": "markdown",
   "execution_count": null,
   "metadata": {},
   "outputs": [],
   "source": [
    "[注]  np.multiply 数组和矩阵对应位置相乘，输出与相乘数组/矩阵的大小一致"
   ]
  },
  {
   "cell_type": "code",
   "execution_count": 8,
   "metadata": {},
   "outputs": [
    {
     "name": "stdout",
     "output_type": "stream",
     "text": "[[ 6 12]]\n[[3. 5. 7.]\n [3. 5. 7.]\n [3. 5. 7.]]\n"
    }
   ],
   "source": [
    "## 内积:前者矩阵列数与后一矩阵行数相同\n",
    "print(np.dot(C,D.T))\n",
    "print(A*B)"
   ]
  },
  {
   "cell_type": "markdown",
   "execution_count": null,
   "metadata": {},
   "outputs": [],
   "source": [
    "[注]：\n",
    "- $*$:对数组执行对应位置相乘，对矩阵执行矩阵乘法运算\n",
    "- np.dot:对于秩为1的数组，执行对应位置相乘，然后再相加;对于秩不为1的二维数组，执行矩阵乘法运算"
   ]
  },
  {
   "cell_type": "markdown",
   "execution_count": null,
   "metadata": {},
   "outputs": [],
   "source": [
    "### 7. 矩阵对角元素相关运算"
   ]
  },
  {
   "cell_type": "code",
   "execution_count": 9,
   "metadata": {},
   "outputs": [
    {
     "name": "stdout",
     "output_type": "stream",
     "text": "[[1. 0.]\n [0. 1.]]\n[[1. 0. 0.]\n [0. 1. 0.]\n [0. 0. 1.]]\n"
    }
   ],
   "source": [
    "## 单位矩阵\n",
    "E2=np.mat(np.eye(2,2))\n",
    "E3=np.mat(np.eye(3))\n",
    "print(E2)\n",
    "print(E3)"
   ]
  },
  {
   "cell_type": "code",
   "execution_count": 10,
   "metadata": {},
   "outputs": [
    {
     "name": "stdout",
     "output_type": "stream",
     "text": "[ 0  5 10 15]\n[[ 0  0  0  0]\n [ 0  5  0  0]\n [ 0  0 10  0]\n [ 0  0  0 15]]\n"
    }
   ],
   "source": [
    "## 对角矩阵\n",
    "X=np.mat(np.arange(16).reshape(4,4))\n",
    "print(np.diag(X)) #提取对角元素\n",
    "print(np.diag(np.diag(X))) #对角矩阵"
   ]
  },
  {
   "cell_type": "markdown",
   "execution_count": null,
   "metadata": {},
   "outputs": [],
   "source": [
    "### 8. 矩阵求逆"
   ]
  },
  {
   "cell_type": "code",
   "execution_count": 11,
   "metadata": {},
   "outputs": [
    {
     "name": "stdout",
     "output_type": "stream",
     "text": "x：\n[[-0.22971218 -1.26102904 -0.15753962]\n [ 0.5846031  -0.92480708 -1.98553063]\n [ 0.78959928  0.30172679 -0.68133797]]\nx的逆矩阵：\n[[ 1.17117889 -0.86392579  2.24682038]\n [-1.11426542  0.26764675 -0.52232501]\n [ 0.86382719 -0.88267351  0.9048201 ]]\nx*x.I：\n[[ 1.00000000e+00  8.68530597e-17 -6.77213450e-17]\n [-5.62184078e-19  1.00000000e+00 -3.63504175e-17]\n [-7.99714801e-17 -5.46105532e-17  1.00000000e+00]]\n"
    }
   ],
   "source": [
    "x=np.mat(np.random.randn(3,3))\n",
    "x\n",
    "x.I #逆\n",
    "np.linalg.inv(x)\n",
    "x*x.I\n",
    "print('x：\\n{}'.format(x))\n",
    "print('x的逆矩阵：\\n{}'.format(x.I))\n",
    "print('x*x.I：\\n{}'.format(x*x.I))\n"
   ]
  },
  {
   "cell_type": "markdown",
   "execution_count": null,
   "metadata": {},
   "outputs": [],
   "source": [
    "### 9. 矩阵的特征值与特征向量\n",
    "\n",
    "矩阵A的谱分解为$A=U\\Lambda U^{'}$，其中$\\Lambda$是由A的特征值组成的对角矩阵，U的列为A的特征值对于的特征向量，在Python中可以使用np.linalg.eig()得到U和$\\Lambda$"
   ]
  },
  {
   "cell_type": "code",
   "execution_count": 12,
   "metadata": {},
   "outputs": [
    {
     "name": "stdout",
     "output_type": "stream",
     "text": "特征值为：\n[ 0.33048998+0.j         -1.0831736 +1.41507268j -1.0831736 -1.41507268j]\n特征向量为：\n[[-0.77546628+0.j         -0.32156694-0.46377847j -0.32156694+0.46377847j]\n [ 0.40500765+0.j         -0.71907463+0.j         -0.71907463-0.j        ]\n [-0.48437677+0.j         -0.1520331 +0.37592798j -0.1520331 -0.37592798j]]\n"
    }
   ],
   "source": [
    "a,b=np.linalg.eig(x)\n",
    "print('特征值为：\\n{}'.format(a))\n",
    "print('特征向量为：\\n{}'.format(b))\n"
   ]
  },
  {
   "cell_type": "markdown",
   "execution_count": null,
   "metadata": {},
   "outputs": [],
   "source": [
    "### 10. 矩阵的Choleskey分解(平方根分解)\n",
    "\n",
    "对于正定矩阵A，可对其进行Choleskey分解，即：A=PP'，其中P为下三角矩阵,在\n",
    "python中可以用函数np.linalg.cholesky()进行Cholesky分解，"
   ]
  },
  {
   "cell_type": "code",
   "execution_count": 13,
   "metadata": {},
   "outputs": [
    {
     "name": "stdout",
     "output_type": "stream",
     "text": "A：\n[[2. 1. 1. 1.]\n [1. 2. 1. 1.]\n [1. 1. 2. 1.]\n [1. 1. 1. 2.]]\nP：\n[[1.41421356 0.         0.         0.        ]\n [0.70710678 1.22474487 0.         0.        ]\n [0.70710678 0.40824829 1.15470054 0.        ]\n [0.70710678 0.40824829 0.28867513 1.11803399]]\nP*P.T：\n[[2. 1. 1. 1.]\n [1. 2. 1. 1.]\n [1. 1. 2. 1.]\n [1. 1. 1. 2.]]\n"
    }
   ],
   "source": [
    "#from scipy import  linalg\n",
    "A=np.ones((4,4))+np.eye(4)\n",
    "P=np.linalg.cholesky(A)\n",
    "print('A：\\n{}'.format(A))\n",
    "print('P：\\n{}'.format(P))\n",
    "print('P*P.T：\\n{}'.format(np.dot(P,P.T)))"
   ]
  },
  {
   "cell_type": "code",
   "execution_count": 14,
   "metadata": {},
   "outputs": [
    {
     "name": "stdout",
     "output_type": "stream",
     "text": "5.000000000000001\n"
    }
   ],
   "source": [
    "## 若矩阵为对称正定矩阵，可以利用Choleskey分解求行列式的值\n",
    "x=np.mat(np.diag(P)**2)\n",
    "y=x[0,0]\n",
    "for i in range(3):\n",
    "    y=y*x[0,i+1]\n",
    "print(y)"
   ]
  },
  {
   "cell_type": "code",
   "execution_count": 15,
   "metadata": {},
   "outputs": [
    {
     "data": {
      "text/plain": "4.999999999999998"
     },
     "execution_count": 15,
     "metadata": {},
     "output_type": "execute_result"
    }
   ],
   "source": [
    "np.linalg.det(A) #行列式"
   ]
  },
  {
   "cell_type": "code",
   "execution_count": 16,
   "metadata": {},
   "outputs": [
    {
     "data": {
      "text/plain": "array([[ 0.8, -0.2, -0.2, -0.2],\n       [-0.2,  0.8, -0.2, -0.2],\n       [-0.2, -0.2,  0.8, -0.2],\n       [-0.2, -0.2, -0.2,  0.8]])"
     },
     "execution_count": 16,
     "metadata": {},
     "output_type": "execute_result"
    }
   ],
   "source": [
    "np.linalg.inv(A) #逆"
   ]
  },
  {
   "cell_type": "markdown",
   "execution_count": 205,
   "metadata": {},
   "outputs": [
    {
     "ename": "SyntaxError",
     "evalue": "invalid syntax (<ipython-input-205-76eadbc3473b>, line 1)",
     "output_type": "error",
     "traceback": [
      "\u001b[1;36m  File \u001b[1;32m\"<ipython-input-205-76eadbc3473b>\"\u001b[1;36m, line \u001b[1;32m1\u001b[0m\n\u001b[1;33m    11. 矩阵奇异值分解\u001b[0m\n\u001b[1;37m              ^\u001b[0m\n\u001b[1;31mSyntaxError\u001b[0m\u001b[1;31m:\u001b[0m invalid syntax\n"
     ]
    }
   ],
   "source": [
    "### 11. 矩阵奇异值分解\n",
    "\n",
    "A为m×n矩阵，rank(A)= r, 可以分解为：A=UDV',其中U'U=V'V=I。"
   ]
  },
  {
   "cell_type": "code",
   "execution_count": 17,
   "metadata": {},
   "outputs": [
    {
     "data": {
      "text/plain": "array([[ 1,  2,  3,  4,  5,  6],\n       [ 7,  8,  9, 10, 11, 12],\n       [13, 14, 15, 16, 17, 18]])"
     },
     "execution_count": 17,
     "metadata": {},
     "output_type": "execute_result"
    }
   ],
   "source": [
    "A=np.arange(1,19).reshape((3,6))\n",
    "A"
   ]
  },
  {
   "cell_type": "code",
   "execution_count": 18,
   "metadata": {},
   "outputs": [
    {
     "name": "stdout",
     "output_type": "stream",
     "text": "U：\n[[-0.1981917   0.89109673  0.40824829]\n [-0.51582314  0.25934498 -0.81649658]\n [-0.83345458 -0.37240676  0.40824829]]\nsigma：\n[4.58060115e+01 3.28775198e+00 2.58764172e-15]\nVT：\n[[-0.31969304 -0.35347615 -0.38725926 -0.42104237 -0.45482547 -0.48860858]\n [-0.64931185 -0.41266537 -0.17601888  0.0606276   0.29727409  0.53392057]\n [-0.68124561  0.64250478  0.24031209  0.07488409 -0.03449553 -0.24195982]\n [-0.01472119 -0.02443313 -0.45208379  0.85385009 -0.1801103  -0.18250167]\n [ 0.07048138  0.21734745 -0.52928102 -0.18393461  0.7339156  -0.30852879]\n [ 0.08312976  0.49407755 -0.52609843 -0.224829   -0.36400568  0.53772581]]\n"
    }
   ],
   "source": [
    "U,sigma,VT=np.linalg.svd(A)\n",
    "print('U：\\n{}'.format(U))\n",
    "print('sigma：\\n{}'.format(sigma))\n",
    "print('VT：\\n{}'.format(VT))"
   ]
  },
  {
   "cell_type": "code",
   "execution_count": 19,
   "metadata": {},
   "outputs": [
    {
     "data": {
      "text/plain": "array([[4.58060115e+01, 0.00000000e+00, 0.00000000e+00, 0.00000000e+00,\n        0.00000000e+00, 0.00000000e+00],\n       [0.00000000e+00, 3.28775198e+00, 0.00000000e+00, 0.00000000e+00,\n        0.00000000e+00, 0.00000000e+00],\n       [0.00000000e+00, 0.00000000e+00, 2.58764172e-15, 0.00000000e+00,\n        0.00000000e+00, 0.00000000e+00]])"
     },
     "execution_count": 19,
     "metadata": {},
     "output_type": "execute_result"
    }
   ],
   "source": [
    "sigma=list(sigma)\n",
    "sigma=np.append(sigma,[0,0,0])\n",
    "sigma=np.diag(sigma)[:3,:]\n",
    "sigma  #sigma真实面目"
   ]
  },
  {
   "cell_type": "code",
   "execution_count": 20,
   "metadata": {},
   "outputs": [
    {
     "data": {
      "text/plain": "array([[ 1.,  2.,  3.,  4.,  5.,  6.],\n       [ 7.,  8.,  9., 10., 11., 12.],\n       [13., 14., 15., 16., 17., 18.]])"
     },
     "execution_count": 20,
     "metadata": {},
     "output_type": "execute_result"
    }
   ],
   "source": [
    "np.dot(np.dot(U,sigma),VT) #检验"
   ]
  },
  {
   "cell_type": "code",
   "execution_count": 21,
   "metadata": {},
   "outputs": [
    {
     "data": {
      "text/plain": "array([[ 1.00000000e+00, -1.38784950e-16, -4.47700620e-17],\n       [-1.38784950e-16,  1.00000000e+00,  5.01891251e-16],\n       [-4.47700620e-17,  5.01891251e-16,  1.00000000e+00]])"
     },
     "execution_count": 21,
     "metadata": {},
     "output_type": "execute_result"
    }
   ],
   "source": [
    "np.dot(U.T,U)"
   ]
  },
  {
   "cell_type": "code",
   "execution_count": 22,
   "metadata": {},
   "outputs": [
    {
     "data": {
      "text/plain": "array([[ 1.00000000e+00,  1.62070834e-16,  1.84668415e-16,\n        -5.89479908e-17, -3.64301740e-17, -1.54335566e-18],\n       [ 1.62070834e-16,  1.00000000e+00, -1.31015985e-16,\n        -4.13390919e-17, -2.01268066e-17,  1.10236840e-16],\n       [ 1.84668415e-16, -1.31015985e-16,  1.00000000e+00,\n        -3.12351626e-17, -4.86815304e-17,  9.72450377e-17],\n       [-5.89479908e-17, -4.13390919e-17, -3.12351626e-17,\n         1.00000000e+00, -8.28299184e-17, -5.43434894e-17],\n       [-3.64301740e-17, -2.01268066e-17, -4.86815304e-17,\n        -8.28299184e-17,  1.00000000e+00, -1.02409752e-16],\n       [-1.54335566e-18,  1.10236840e-16,  9.72450377e-17,\n        -5.43434894e-17, -1.02409752e-16,  1.00000000e+00]])"
     },
     "execution_count": 22,
     "metadata": {},
     "output_type": "execute_result"
    }
   ],
   "source": [
    "np.dot(VT.T,VT)"
   ]
  },
  {
   "cell_type": "markdown",
   "execution_count": 350,
   "metadata": {},
   "outputs": [
    {
     "ename": "SyntaxError",
     "evalue": "invalid syntax (<ipython-input-350-eb9f117c037c>, line 1)",
     "output_type": "error",
     "traceback": [
      "\u001b[1;36m  File \u001b[1;32m\"<ipython-input-350-eb9f117c037c>\"\u001b[1;36m, line \u001b[1;32m1\u001b[0m\n\u001b[1;33m    12. 矩阵QR分解\u001b[0m\n\u001b[1;37m             ^\u001b[0m\n\u001b[1;31mSyntaxError\u001b[0m\u001b[1;31m:\u001b[0m invalid syntax\n"
     ]
    }
   ],
   "source": [
    "### 12. 矩阵QR分解\n",
    "\n",
    "A为m×n矩阵可以进行QR分解，A=QR,其中：Q'Q＝I,R是上三角阵"
   ]
  },
  {
   "cell_type": "code",
   "execution_count": 23,
   "metadata": {},
   "outputs": [
    {
     "data": {
      "text/plain": "array([[ 1,  2,  3,  4],\n       [ 5,  6,  7,  8],\n       [ 9, 10, 11, 12],\n       [13, 14, 15, 16]])"
     },
     "execution_count": 23,
     "metadata": {},
     "output_type": "execute_result"
    }
   ],
   "source": [
    "A=np.arange(1,17).reshape((4,4))\n",
    "A"
   ]
  },
  {
   "cell_type": "code",
   "execution_count": 24,
   "metadata": {},
   "outputs": [
    {
     "name": "stdout",
     "output_type": "stream",
     "text": "Q：\n[[-0.06019293 -0.83449195  0.54658239  0.03532265]\n [-0.30096463 -0.45762462 -0.75510447  0.36030159]\n [-0.54173634 -0.08075729 -0.12953823 -0.82657114]\n [-0.78250805  0.29611005  0.33806031  0.43094689]]\nR：\n[[-1.66132477e+01 -1.82986497e+01 -1.99840516e+01 -2.16694536e+01]\n [ 0.00000000e+00 -1.07676380e+00 -2.15352761e+00 -3.23029141e+00]\n [ 0.00000000e+00  0.00000000e+00  1.78404667e-15  5.56439135e-15]\n [ 0.00000000e+00  0.00000000e+00  0.00000000e+00 -3.02724032e-17]]\nrank：\n2\nF:\\Anaconda3\\lib\\site-packages\\ipykernel_launcher.py:2: VisibleDeprecationWarning: `rank` is deprecated; use the `ndim` attribute or function instead. To find the rank of a matrix see `numpy.linalg.matrix_rank`.\n  \n"
    }
   ],
   "source": [
    "Q,R=np.linalg.qr(A)\n",
    "r=np.rank(R)\n",
    "print('Q：\\n{}'.format(Q))\n",
    "print('R：\\n{}'.format(R))\n",
    "print('rank：\\n{}'.format(r))"
   ]
  },
  {
   "cell_type": "code",
   "execution_count": 25,
   "metadata": {},
   "outputs": [
    {
     "name": "stdout",
     "output_type": "stream",
     "text": "[[ 1.  2.  3.  4.]\n [ 5.  6.  7.  8.]\n [ 9. 10. 11. 12.]\n [13. 14. 15. 16.]]\n"
    }
   ],
   "source": [
    "print(np.dot(Q,R)) #检验"
   ]
  },
  {
   "cell_type": "markdown",
   "execution_count": 483,
   "metadata": {},
   "outputs": [
    {
     "ename": "SyntaxError",
     "evalue": "invalid syntax (<ipython-input-483-8bdf03aa9dc5>, line 1)",
     "output_type": "error",
     "traceback": [
      "\u001b[1;36m  File \u001b[1;32m\"<ipython-input-483-8bdf03aa9dc5>\"\u001b[1;36m, line \u001b[1;32m1\u001b[0m\n\u001b[1;33m    13. 矩阵广义逆(Moore-Penrose)\u001b[0m\n\u001b[1;37m            ^\u001b[0m\n\u001b[1;31mSyntaxError\u001b[0m\u001b[1;31m:\u001b[0m invalid syntax\n"
     ]
    }
   ],
   "source": [
    "### 13. 矩阵广义逆(Moore-Penrose)\n",
    "\n",
    "$m \\times n$矩阵$A^{+}$称为$mxn$矩阵的Moore-Penrose逆，如果它满足下列条件：\n",
    "$$1.AA^{+}A=A; 2.A^{+}AA^{+}=A^{+};3.(AA^{+})^{H}=AA^{+};4.(A^{+}A)^{H}=A^{+}A$$"
   ]
  },
  {
   "cell_type": "code",
   "execution_count": 26,
   "metadata": {},
   "outputs": [
    {
     "name": "stdout",
     "output_type": "stream",
     "text": "[[-0.285  -0.1075  0.07    0.2475]\n [-0.145  -0.0525  0.04    0.1325]\n [-0.005   0.0025  0.01    0.0175]\n [ 0.135   0.0575 -0.02   -0.0975]]\n"
    }
   ],
   "source": [
    "A=np.mat(np.arange(1,17).reshape((4,4),order='F'))\n",
    "B=np.linalg.pinv(A) # 广义逆\n",
    "print(B)"
   ]
  },
  {
   "cell_type": "code",
   "execution_count": 27,
   "metadata": {},
   "outputs": [
    {
     "data": {
      "text/plain": "matrix([[ 1.,  5.,  9., 13.],\n        [ 2.,  6., 10., 14.],\n        [ 3.,  7., 11., 15.],\n        [ 4.,  8., 12., 16.]])"
     },
     "execution_count": 27,
     "metadata": {},
     "output_type": "execute_result"
    }
   ],
   "source": [
    "## 验证性质1\n",
    "A*B*A"
   ]
  },
  {
   "cell_type": "code",
   "execution_count": 28,
   "metadata": {},
   "outputs": [
    {
     "data": {
      "text/plain": "matrix([[-0.285 , -0.1075,  0.07  ,  0.2475],\n        [-0.145 , -0.0525,  0.04  ,  0.1325],\n        [-0.005 ,  0.0025,  0.01  ,  0.0175],\n        [ 0.135 ,  0.0575, -0.02  , -0.0975]])"
     },
     "execution_count": 28,
     "metadata": {},
     "output_type": "execute_result"
    }
   ],
   "source": [
    "## 验证性质2\n",
    "B*A*B"
   ]
  },
  {
   "cell_type": "code",
   "execution_count": 29,
   "metadata": {},
   "outputs": [
    {
     "data": {
      "text/plain": "matrix([[ 0.7,  0.4,  0.1, -0.2],\n        [ 0.4,  0.3,  0.2,  0.1],\n        [ 0.1,  0.2,  0.3,  0.4],\n        [-0.2,  0.1,  0.4,  0.7]])"
     },
     "execution_count": 29,
     "metadata": {},
     "output_type": "execute_result"
    }
   ],
   "source": [
    "## 验证性质3\n",
    "(A*B).T"
   ]
  },
  {
   "cell_type": "code",
   "execution_count": 30,
   "metadata": {},
   "outputs": [
    {
     "data": {
      "text/plain": "matrix([[ 0.7,  0.4,  0.1, -0.2],\n        [ 0.4,  0.3,  0.2,  0.1],\n        [ 0.1,  0.2,  0.3,  0.4],\n        [-0.2,  0.1,  0.4,  0.7]])"
     },
     "execution_count": 30,
     "metadata": {},
     "output_type": "execute_result"
    }
   ],
   "source": [
    "## 验证性质3\n",
    "A*B"
   ]
  },
  {
   "cell_type": "code",
   "execution_count": 31,
   "metadata": {},
   "outputs": [
    {
     "data": {
      "text/plain": "matrix([[ 0.7,  0.4,  0.1, -0.2],\n        [ 0.4,  0.3,  0.2,  0.1],\n        [ 0.1,  0.2,  0.3,  0.4],\n        [-0.2,  0.1,  0.4,  0.7]])"
     },
     "execution_count": 31,
     "metadata": {},
     "output_type": "execute_result"
    }
   ],
   "source": [
    "## 验证性质4\n",
    "(B*A).T"
   ]
  },
  {
   "cell_type": "code",
   "execution_count": 32,
   "metadata": {},
   "outputs": [
    {
     "data": {
      "text/plain": "matrix([[ 0.7,  0.4,  0.1, -0.2],\n        [ 0.4,  0.3,  0.2,  0.1],\n        [ 0.1,  0.2,  0.3,  0.4],\n        [-0.2,  0.1,  0.4,  0.7]])"
     },
     "execution_count": 32,
     "metadata": {},
     "output_type": "execute_result"
    }
   ],
   "source": [
    "## 验证性质4\n",
    "B*A"
   ]
  },
  {
   "cell_type": "markdown",
   "execution_count": 492,
   "metadata": {},
   "outputs": [
    {
     "ename": "SyntaxError",
     "evalue": "invalid syntax (<ipython-input-492-fefc9a704cf0>, line 1)",
     "output_type": "error",
     "traceback": [
      "\u001b[1;36m  File \u001b[1;32m\"<ipython-input-492-fefc9a704cf0>\"\u001b[1;36m, line \u001b[1;32m1\u001b[0m\n\u001b[1;33m    14. 矩阵Kronrcker积\u001b[0m\n\u001b[1;37m                   ^\u001b[0m\n\u001b[1;31mSyntaxError\u001b[0m\u001b[1;31m:\u001b[0m invalid syntax\n"
     ]
    }
   ],
   "source": [
    "### 14. 矩阵Kronrcker积\n",
    "\n",
    "$n \\times m$矩阵A与$h \\times k$矩阵B的Kronecker积为一个$nh \\times mk$维矩阵，公式为：\n",
    "$$\n",
    "\\mathbf{A}_{m \\times n} \\otimes \\mathbf{B}_{h \\times k}=\\left(\\begin{array}{ccc}\n",
    "a_{11} \\mathbf{B} & \\cdots & a_{1 n} \\mathbf{B} \\\\\n",
    "\\vdots & \\vdots & \\vdots \\\\\n",
    "a_{m 1} \\mathbf{B} & \\cdots & a_{m n} \\mathbf{B}\n",
    "\\end{array}\\right)_{mh \\times nk}\n",
    "$$\n",
    "在python中可以用np.kron()函数计算Kronecker的积"
   ]
  },
  {
   "cell_type": "code",
   "execution_count": 33,
   "metadata": {},
   "outputs": [
    {
     "data": {
      "text/plain": "array([[1., 3.],\n       [2., 4.]])"
     },
     "execution_count": 33,
     "metadata": {},
     "output_type": "execute_result"
    }
   ],
   "source": [
    "A=np.linspace(1,4,4).reshape((2,2),order='F')\n",
    "A"
   ]
  },
  {
   "cell_type": "code",
   "execution_count": 34,
   "metadata": {},
   "outputs": [
    {
     "data": {
      "text/plain": "array([[1., 1.],\n       [1., 1.]])"
     },
     "execution_count": 34,
     "metadata": {},
     "output_type": "execute_result"
    }
   ],
   "source": [
    "B=np.ones((2,2))\n",
    "B"
   ]
  },
  {
   "cell_type": "code",
   "execution_count": 35,
   "metadata": {},
   "outputs": [
    {
     "data": {
      "text/plain": "array([[1., 1., 3., 3.],\n       [1., 1., 3., 3.],\n       [2., 2., 4., 4.],\n       [2., 2., 4., 4.]])"
     },
     "execution_count": 35,
     "metadata": {},
     "output_type": "execute_result"
    }
   ],
   "source": [
    "np.kron(A,B)"
   ]
  },
  {
   "cell_type": "markdown",
   "execution_count": null,
   "metadata": {},
   "outputs": [],
   "source": [
    "### 15. 矩阵的维数"
   ]
  },
  {
   "cell_type": "code",
   "execution_count": 36,
   "metadata": {},
   "outputs": [
    {
     "data": {
      "text/plain": "matrix([[ 1.,  2.,  3.,  4.],\n        [ 5.,  6.,  7.,  8.],\n        [ 9., 10., 11., 12.]])"
     },
     "execution_count": 36,
     "metadata": {},
     "output_type": "execute_result"
    }
   ],
   "source": [
    "A=np.mat(np.linspace(1,12,num=12).reshape((3,4)))\n",
    "A"
   ]
  },
  {
   "cell_type": "code",
   "execution_count": 37,
   "metadata": {},
   "outputs": [
    {
     "name": "stdout",
     "output_type": "stream",
     "text": "3\n4\n"
    }
   ],
   "source": [
    "print(A.shape[0]) #行数\n",
    "print(A.shape[1]) #列数"
   ]
  },
  {
   "cell_type": "markdown",
   "execution_count": 38,
   "metadata": {},
   "outputs": [
    {
     "ename": "SyntaxError",
     "evalue": "invalid character in identifier (<ipython-input-38-08d5f1a66ac0>, line 1)",
     "output_type": "error",
     "traceback": [
      "\u001b[1;36m  File \u001b[1;32m\"<ipython-input-38-08d5f1a66ac0>\"\u001b[1;36m, line \u001b[1;32m1\u001b[0m\n\u001b[1;33m    16. 矩阵的行和、列和、 行平均与列平均\u001b[0m\n\u001b[1;37m                ^\u001b[0m\n\u001b[1;31mSyntaxError\u001b[0m\u001b[1;31m:\u001b[0m invalid character in identifier\n"
     ]
    }
   ],
   "source": [
    "### 16. 矩阵的行和、列和、 行平均与列平均"
   ]
  },
  {
   "cell_type": "code",
   "execution_count": 54,
   "metadata": {},
   "outputs": [
    {
     "name": "stdout",
     "output_type": "stream",
     "text": "[28 32 36 40]\n[10 26 42 58]\n[ 7.  8.  9. 10.]\n[ 2.5  6.5 10.5 14.5]\n"
    }
   ],
   "source": [
    "print(A.sum(axis=0)) #列和\n",
    "print(A.sum(axis=1)) #行和\n",
    "print(A.mean(axis=0)) #列平均\n",
    "print(A.mean(axis=1)) #行平均"
   ]
  },
  {
   "cell_type": "markdown",
   "execution_count": 501,
   "metadata": {},
   "outputs": [
    {
     "ename": "SyntaxError",
     "evalue": "invalid syntax (<ipython-input-501-7a48920b84d7>, line 1)",
     "output_type": "error",
     "traceback": [
      "\u001b[1;36m  File \u001b[1;32m\"<ipython-input-501-7a48920b84d7>\"\u001b[1;36m, line \u001b[1;32m1\u001b[0m\n\u001b[1;33m    17. 矩阵X'X的逆\u001b[0m\n\u001b[1;37m          ^\u001b[0m\n\u001b[1;31mSyntaxError\u001b[0m\u001b[1;31m:\u001b[0m invalid syntax\n"
     ]
    }
   ],
   "source": [
    "### 17. 矩阵X'X的逆\n",
    "\n",
    "在统计计算中，我们常常需要计算这样矩阵的逆，如OLS估计中求系数矩阵。"
   ]
  },
  {
   "cell_type": "code",
   "execution_count": 55,
   "metadata": {},
   "outputs": [
    {
     "data": {
      "text/plain": "array([[ 2.78444444e+01, -2.50199979e+13,  5.00399959e+13,\n        -2.50199979e+13],\n       [ 3.37769972e+15, -3.37769972e+15, -3.37769972e+15,\n         3.37769972e+15],\n       [-6.75539944e+15,  6.83045943e+15,  6.60527945e+15,\n        -6.68033945e+15],\n       [ 3.37769972e+15, -3.42773972e+15, -3.27761973e+15,\n         3.32765972e+15]])"
     },
     "execution_count": 55,
     "metadata": {},
     "output_type": "execute_result"
    }
   ],
   "source": [
    "def XTX_inv(x):\n",
    "    y=np.linalg.inv(np.dot(x.T,x))\n",
    "    return y\n",
    "A=np.arange(1,17).reshape((4,4))\n",
    "XTX_inv(A)"
   ]
  },
  {
   "cell_type": "markdown",
   "execution_count": null,
   "metadata": {},
   "outputs": [],
   "source": [
    "### 18. 取矩阵的上、下三角部分"
   ]
  },
  {
   "cell_type": "code",
   "execution_count": 56,
   "metadata": {},
   "outputs": [
    {
     "data": {
      "text/plain": "array([[ 1,  2,  3,  4],\n       [ 0,  6,  7,  8],\n       [ 0,  0, 11, 12],\n       [ 0,  0,  0, 16]])"
     },
     "execution_count": 56,
     "metadata": {},
     "output_type": "execute_result"
    }
   ],
   "source": [
    "np.triu(A,0)  #包含对角线的上三角"
   ]
  },
  {
   "cell_type": "code",
   "execution_count": 57,
   "metadata": {},
   "outputs": [
    {
     "data": {
      "text/plain": "array([[ 0,  2,  3,  4],\n       [ 0,  0,  7,  8],\n       [ 0,  0,  0, 12],\n       [ 0,  0,  0,  0]])"
     },
     "execution_count": 57,
     "metadata": {},
     "output_type": "execute_result"
    }
   ],
   "source": [
    "np.triu(A,1)  #不包含对角线的上三角"
   ]
  },
  {
   "cell_type": "code",
   "execution_count": 58,
   "metadata": {},
   "outputs": [
    {
     "data": {
      "text/plain": "array([[ 1,  0,  0,  0],\n       [ 5,  6,  0,  0],\n       [ 9, 10, 11,  0],\n       [13, 14, 15, 16]])"
     },
     "execution_count": 58,
     "metadata": {},
     "output_type": "execute_result"
    }
   ],
   "source": [
    "np.tril(A,0)  #包含对角线的下三角"
   ]
  },
  {
   "cell_type": "code",
   "execution_count": 59,
   "metadata": {},
   "outputs": [
    {
     "data": {
      "text/plain": "array([[ 1,  2,  0,  0],\n       [ 5,  6,  7,  0],\n       [ 9, 10, 11, 12],\n       [13, 14, 15, 16]])"
     },
     "execution_count": 59,
     "metadata": {},
     "output_type": "execute_result"
    }
   ],
   "source": [
    "np.tril(A,1)  #不包含对角线的下三角"
   ]
  },
  {
   "cell_type": "markdown",
   "execution_count": 391,
   "metadata": {},
   "outputs": [
    {
     "ename": "SyntaxError",
     "evalue": "invalid syntax (<ipython-input-391-ea281b4140a0>, line 1)",
     "output_type": "error",
     "traceback": [
      "\u001b[1;36m  File \u001b[1;32m\"<ipython-input-391-ea281b4140a0>\"\u001b[1;36m, line \u001b[1;32m1\u001b[0m\n\u001b[1;33m    19. backsolve&fowardsolve函数\u001b[0m\n\u001b[1;37m                ^\u001b[0m\n\u001b[1;31mSyntaxError\u001b[0m\u001b[1;31m:\u001b[0m invalid syntax\n"
     ]
    }
   ],
   "source": [
    "### 19. backsolve&fowardsolve函数\n",
    "\n",
    "这两个函数用于解特殊线性方程组，其特殊之处在于系数矩阵为上或下三角。"
   ]
  },
  {
   "cell_type": "markdown",
   "execution_count": null,
   "metadata": {},
   "outputs": [],
   "source": [
    "### 21. 行列式的值"
   ]
  },
  {
   "cell_type": "code",
   "execution_count": 60,
   "metadata": {},
   "outputs": [
    {
     "data": {
      "text/plain": "-2.9582283945787796e-30"
     },
     "execution_count": 60,
     "metadata": {},
     "output_type": "execute_result"
    }
   ],
   "source": [
    "x=np.arange(16).reshape((4,4))\n",
    "np.linalg.det(x) #行列式的值"
   ]
  },
  {
   "cell_type": "markdown",
   "execution_count": 401,
   "metadata": {},
   "outputs": [
    {
     "ename": "SyntaxError",
     "evalue": "invalid syntax (<ipython-input-401-27b25984b4d3>, line 1)",
     "output_type": "error",
     "traceback": [
      "\u001b[1;36m  File \u001b[1;32m\"<ipython-input-401-27b25984b4d3>\"\u001b[1;36m, line \u001b[1;32m1\u001b[0m\n\u001b[1;33m    22. 向量化算子\u001b[0m\n\u001b[1;37m            ^\u001b[0m\n\u001b[1;31mSyntaxError\u001b[0m\u001b[1;31m:\u001b[0m invalid syntax\n"
     ]
    }
   ],
   "source": [
    "### 22. 向量化算子\n",
    "\n",
    "记矩阵A=$\\{a_{ij}\\}_{mxn},vec(A)=(a_{11},\\cdots,a_{m1},a_{12},\\cdots,a_{m22},a_{1n},\\cdots,a_{mn})^{'}$\n",
    "\n",
    "记矩阵B=$\\{b_{ij}\\}_{nxn},vec(B)=(b_{11},\\cdots,b_{n1},b_{22},\\cdots,b_{n2},\\cdots,b_{nn})^{'}$"
   ]
  },
  {
   "cell_type": "code",
   "execution_count": 61,
   "metadata": {},
   "outputs": [
    {
     "data": {
      "text/plain": "array([[ 1,  2,  3,  4],\n       [ 5,  6,  7,  8],\n       [ 9, 10, 11, 12],\n       [13, 14, 15, 16]])"
     },
     "execution_count": 61,
     "metadata": {},
     "output_type": "execute_result"
    }
   ],
   "source": [
    "A"
   ]
  },
  {
   "cell_type": "code",
   "execution_count": 62,
   "metadata": {},
   "outputs": [
    {
     "data": {
      "text/plain": "array([ 1,  5,  9, 13,  2,  6, 10, 14,  3,  7, 11, 15,  4,  8, 12, 16])"
     },
     "execution_count": 62,
     "metadata": {},
     "output_type": "execute_result"
    }
   ],
   "source": [
    "vec=lambda x: x.T.flatten()\n",
    "vec(A)"
   ]
  },
  {
   "cell_type": "code",
   "execution_count": 63,
   "metadata": {},
   "outputs": [
    {
     "data": {
      "text/plain": "array([ 1,  5,  6,  9, 10, 11, 13, 14, 15, 16])"
     },
     "execution_count": 63,
     "metadata": {},
     "output_type": "execute_result"
    }
   ],
   "source": [
    "def vech(x):\n",
    "    y=x[np.tril(x)==x]\n",
    "    return y\n",
    "vech(A)"
   ]
  },
  {
   "cell_type": "markdown",
   "execution_count": null,
   "metadata": {},
   "outputs": [],
   "source": [
    "### 23. 时间序列的滞后值\n",
    "\n",
    "在时间序列分析中，我们常常要用到一个序列的滞后序列,创建一个函数，x为一个向量，k指定滞后阶数，可以是一个自然数列，若trim为假，则返回序列与原序列长度相同，但含有NA值；若trim项为真，则返回序列中不含有NA值"
   ]
  },
  {
   "cell_type": "code",
   "execution_count": 64,
   "metadata": {},
   "outputs": [],
   "source": [
    "def tslag(x,k=1,trim=False):\n",
    "    m=np.array([])\n",
    "    x=x.astype(float) #转为浮点值\n",
    "    y=x.copy()\n",
    "    for i in range(k):\n",
    "      y[:i+1]=np.nan  #滞后数转为nan \n",
    "      y[i+1:]=x[:(len(x)-i-1)]  #去掉x末尾i个元素\n",
    "      m=np.append(m,y) # 连接为一维，后面reshape\n",
    "    m=m.reshape((len(x),k),order='F') #按列排列\n",
    "    if trim == True:\n",
    "        m=m[k:]\n",
    "    return m"
   ]
  },
  {
   "cell_type": "code",
   "execution_count": 65,
   "metadata": {},
   "outputs": [
    {
     "data": {
      "text/plain": "array([[nan, nan, nan, nan, nan],\n       [ 1., nan, nan, nan, nan],\n       [ 2.,  1., nan, nan, nan],\n       [ 3.,  2.,  1., nan, nan],\n       [ 4.,  3.,  2.,  1., nan]])"
     },
     "execution_count": 65,
     "metadata": {},
     "output_type": "execute_result"
    }
   ],
   "source": [
    "x=np.array([1,2,3,4,5])\n",
    "tslag(x,5)"
   ]
  },
  {
   "cell_type": "code",
   "execution_count": 66,
   "metadata": {},
   "outputs": [
    {
     "data": {
      "text/plain": "array([[nan],\n       [ 1.],\n       [ 2.],\n       [ 3.],\n       [ 4.],\n       [ 5.],\n       [ 6.],\n       [ 7.],\n       [ 8.],\n       [ 9.],\n       [10.],\n       [11.],\n       [12.],\n       [13.],\n       [14.],\n       [15.],\n       [16.],\n       [17.],\n       [18.],\n       [19.]])"
     },
     "execution_count": 66,
     "metadata": {},
     "output_type": "execute_result"
    }
   ],
   "source": [
    "x=np.arange(1,21)\n",
    "tslag(x,1) #滞后1阶"
   ]
  },
  {
   "cell_type": "code",
   "execution_count": 67,
   "metadata": {},
   "outputs": [
    {
     "data": {
      "text/plain": "array([[nan, nan, nan, nan],\n       [ 1., nan, nan, nan],\n       [ 2.,  1., nan, nan],\n       [ 3.,  2.,  1., nan],\n       [ 4.,  3.,  2.,  1.],\n       [ 5.,  4.,  3.,  2.],\n       [ 6.,  5.,  4.,  3.],\n       [ 7.,  6.,  5.,  4.],\n       [ 8.,  7.,  6.,  5.],\n       [ 9.,  8.,  7.,  6.],\n       [10.,  9.,  8.,  7.],\n       [11., 10.,  9.,  8.],\n       [12., 11., 10.,  9.],\n       [13., 12., 11., 10.],\n       [14., 13., 12., 11.],\n       [15., 14., 13., 12.],\n       [16., 15., 14., 13.],\n       [17., 16., 15., 14.],\n       [18., 17., 16., 15.],\n       [19., 18., 17., 16.]])"
     },
     "execution_count": 67,
     "metadata": {},
     "output_type": "execute_result"
    }
   ],
   "source": [
    "tslag(x,4) #滞后4阶"
   ]
  },
  {
   "cell_type": "code",
   "execution_count": 68,
   "metadata": {},
   "outputs": [
    {
     "data": {
      "text/plain": "array([[ 4.,  3.,  2.,  1.],\n       [ 5.,  4.,  3.,  2.],\n       [ 6.,  5.,  4.,  3.],\n       [ 7.,  6.,  5.,  4.],\n       [ 8.,  7.,  6.,  5.],\n       [ 9.,  8.,  7.,  6.],\n       [10.,  9.,  8.,  7.],\n       [11., 10.,  9.,  8.],\n       [12., 11., 10.,  9.],\n       [13., 12., 11., 10.],\n       [14., 13., 12., 11.],\n       [15., 14., 13., 12.],\n       [16., 15., 14., 13.],\n       [17., 16., 15., 14.],\n       [18., 17., 16., 15.],\n       [19., 18., 17., 16.]])"
     },
     "execution_count": 68,
     "metadata": {},
     "output_type": "execute_result"
    }
   ],
   "source": [
    "tslag(x,4,trim=True) #滞后4阶"
   ]
  },
  {
   "cell_type": "code",
   "execution_count": null,
   "metadata": {},
   "outputs": [],
   "source": []
  }
 ]
}