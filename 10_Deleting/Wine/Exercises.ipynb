{
 "cells": [
  {
   "cell_type": "markdown",
   "metadata": {},
   "source": [
    "# Wine"
   ]
  },
  {
   "cell_type": "markdown",
   "metadata": {},
   "source": [
    "### Introduction:\n",
    "\n",
    "This exercise is a adaptation from the UCI Wine dataset.\n",
    "The only pupose is to practice deleting data with pandas.\n",
    "\n",
    "### Step 1. Import the necessary libraries"
   ]
  },
  {
   "cell_type": "code",
   "execution_count": 1,
   "metadata": {},
   "outputs": [],
   "source": [
    "import pandas as pd \n",
    "import numpy as np "
   ]
  },
  {
   "cell_type": "markdown",
   "metadata": {},
   "source": [
    "### Step 2. Import the dataset from this [address](https://archive.ics.uci.edu/ml/machine-learning-databases/wine/wine.data). "
   ]
  },
  {
   "cell_type": "markdown",
   "metadata": {},
   "source": [
    "### Step 3. Assign it to a variable called wine"
   ]
  },
  {
   "cell_type": "code",
   "execution_count": 2,
   "metadata": {},
   "outputs": [
    {
     "data": {
      "text/html": "<div>\n<style scoped>\n    .dataframe tbody tr th:only-of-type {\n        vertical-align: middle;\n    }\n\n    .dataframe tbody tr th {\n        vertical-align: top;\n    }\n\n    .dataframe thead th {\n        text-align: right;\n    }\n</style>\n<table border=\"1\" class=\"dataframe\">\n  <thead>\n    <tr style=\"text-align: right;\">\n      <th></th>\n      <th>1</th>\n      <th>14.23</th>\n      <th>1.71</th>\n      <th>2.43</th>\n      <th>15.6</th>\n      <th>127</th>\n      <th>2.8</th>\n      <th>3.06</th>\n      <th>.28</th>\n      <th>2.29</th>\n      <th>5.64</th>\n      <th>1.04</th>\n      <th>3.92</th>\n      <th>1065</th>\n    </tr>\n  </thead>\n  <tbody>\n    <tr>\n      <th>0</th>\n      <td>1</td>\n      <td>13.20</td>\n      <td>1.78</td>\n      <td>2.14</td>\n      <td>11.2</td>\n      <td>100</td>\n      <td>2.65</td>\n      <td>2.76</td>\n      <td>0.26</td>\n      <td>1.28</td>\n      <td>4.38</td>\n      <td>1.05</td>\n      <td>3.40</td>\n      <td>1050</td>\n    </tr>\n    <tr>\n      <th>1</th>\n      <td>1</td>\n      <td>13.16</td>\n      <td>2.36</td>\n      <td>2.67</td>\n      <td>18.6</td>\n      <td>101</td>\n      <td>2.80</td>\n      <td>3.24</td>\n      <td>0.30</td>\n      <td>2.81</td>\n      <td>5.68</td>\n      <td>1.03</td>\n      <td>3.17</td>\n      <td>1185</td>\n    </tr>\n    <tr>\n      <th>2</th>\n      <td>1</td>\n      <td>14.37</td>\n      <td>1.95</td>\n      <td>2.50</td>\n      <td>16.8</td>\n      <td>113</td>\n      <td>3.85</td>\n      <td>3.49</td>\n      <td>0.24</td>\n      <td>2.18</td>\n      <td>7.80</td>\n      <td>0.86</td>\n      <td>3.45</td>\n      <td>1480</td>\n    </tr>\n    <tr>\n      <th>3</th>\n      <td>1</td>\n      <td>13.24</td>\n      <td>2.59</td>\n      <td>2.87</td>\n      <td>21.0</td>\n      <td>118</td>\n      <td>2.80</td>\n      <td>2.69</td>\n      <td>0.39</td>\n      <td>1.82</td>\n      <td>4.32</td>\n      <td>1.04</td>\n      <td>2.93</td>\n      <td>735</td>\n    </tr>\n    <tr>\n      <th>4</th>\n      <td>1</td>\n      <td>14.20</td>\n      <td>1.76</td>\n      <td>2.45</td>\n      <td>15.2</td>\n      <td>112</td>\n      <td>3.27</td>\n      <td>3.39</td>\n      <td>0.34</td>\n      <td>1.97</td>\n      <td>6.75</td>\n      <td>1.05</td>\n      <td>2.85</td>\n      <td>1450</td>\n    </tr>\n  </tbody>\n</table>\n</div>",
      "text/plain": "   1  14.23  1.71  2.43  15.6  127   2.8  3.06   .28  2.29  5.64  1.04  3.92  \\\n0  1  13.20  1.78  2.14  11.2  100  2.65  2.76  0.26  1.28  4.38  1.05  3.40   \n1  1  13.16  2.36  2.67  18.6  101  2.80  3.24  0.30  2.81  5.68  1.03  3.17   \n2  1  14.37  1.95  2.50  16.8  113  3.85  3.49  0.24  2.18  7.80  0.86  3.45   \n3  1  13.24  2.59  2.87  21.0  118  2.80  2.69  0.39  1.82  4.32  1.04  2.93   \n4  1  14.20  1.76  2.45  15.2  112  3.27  3.39  0.34  1.97  6.75  1.05  2.85   \n\n   1065  \n0  1050  \n1  1185  \n2  1480  \n3   735  \n4  1450  "
     },
     "execution_count": 2,
     "metadata": {},
     "output_type": "execute_result"
    }
   ],
   "source": [
    "wine = pd.read_csv('./wine.data')\n",
    "wine.head()"
   ]
  },
  {
   "cell_type": "markdown",
   "metadata": {},
   "source": [
    "### Step 4. Delete the first, fourth, seventh, nineth, eleventh, thirteenth and fourteenth columns"
   ]
  },
  {
   "cell_type": "code",
   "execution_count": 3,
   "metadata": {},
   "outputs": [
    {
     "data": {
      "text/html": "<div>\n<style scoped>\n    .dataframe tbody tr th:only-of-type {\n        vertical-align: middle;\n    }\n\n    .dataframe tbody tr th {\n        vertical-align: top;\n    }\n\n    .dataframe thead th {\n        text-align: right;\n    }\n</style>\n<table border=\"1\" class=\"dataframe\">\n  <thead>\n    <tr style=\"text-align: right;\">\n      <th></th>\n      <th>14.23</th>\n      <th>1.71</th>\n      <th>15.6</th>\n      <th>127</th>\n      <th>3.06</th>\n      <th>2.29</th>\n      <th>1.04</th>\n    </tr>\n  </thead>\n  <tbody>\n    <tr>\n      <th>0</th>\n      <td>13.20</td>\n      <td>1.78</td>\n      <td>11.2</td>\n      <td>100</td>\n      <td>2.76</td>\n      <td>1.28</td>\n      <td>1.05</td>\n    </tr>\n    <tr>\n      <th>1</th>\n      <td>13.16</td>\n      <td>2.36</td>\n      <td>18.6</td>\n      <td>101</td>\n      <td>3.24</td>\n      <td>2.81</td>\n      <td>1.03</td>\n    </tr>\n    <tr>\n      <th>2</th>\n      <td>14.37</td>\n      <td>1.95</td>\n      <td>16.8</td>\n      <td>113</td>\n      <td>3.49</td>\n      <td>2.18</td>\n      <td>0.86</td>\n    </tr>\n    <tr>\n      <th>3</th>\n      <td>13.24</td>\n      <td>2.59</td>\n      <td>21.0</td>\n      <td>118</td>\n      <td>2.69</td>\n      <td>1.82</td>\n      <td>1.04</td>\n    </tr>\n    <tr>\n      <th>4</th>\n      <td>14.20</td>\n      <td>1.76</td>\n      <td>15.2</td>\n      <td>112</td>\n      <td>3.39</td>\n      <td>1.97</td>\n      <td>1.05</td>\n    </tr>\n  </tbody>\n</table>\n</div>",
      "text/plain": "   14.23  1.71  15.6  127  3.06  2.29  1.04\n0  13.20  1.78  11.2  100  2.76  1.28  1.05\n1  13.16  2.36  18.6  101  3.24  2.81  1.03\n2  14.37  1.95  16.8  113  3.49  2.18  0.86\n3  13.24  2.59  21.0  118  2.69  1.82  1.04\n4  14.20  1.76  15.2  112  3.39  1.97  1.05"
     },
     "execution_count": 3,
     "metadata": {},
     "output_type": "execute_result"
    }
   ],
   "source": [
    "wine=wine.drop(wine.columns[[0,3,6,8,10,12,13]],axis=1)\n",
    "wine.head()"
   ]
  },
  {
   "cell_type": "markdown",
   "metadata": {},
   "source": [
    "### Step 5. Assign the columns as below:\n",
    "\n",
    "The attributes are (donated by Riccardo Leardi, riclea '@' anchem.unige.it):  \n",
    "1) alcohol  \n",
    "2) malic_acid  \n",
    "3) alcalinity_of_ash  \n",
    "4) magnesium  \n",
    "5) flavanoids  \n",
    "6) proanthocyanins  \n",
    "7) hue "
   ]
  },
  {
   "cell_type": "code",
   "execution_count": 4,
   "metadata": {},
   "outputs": [
    {
     "data": {
      "text/html": "<div>\n<style scoped>\n    .dataframe tbody tr th:only-of-type {\n        vertical-align: middle;\n    }\n\n    .dataframe tbody tr th {\n        vertical-align: top;\n    }\n\n    .dataframe thead th {\n        text-align: right;\n    }\n</style>\n<table border=\"1\" class=\"dataframe\">\n  <thead>\n    <tr style=\"text-align: right;\">\n      <th></th>\n      <th>alcohol</th>\n      <th>malic_acid</th>\n      <th>alcalinity_of_ash</th>\n      <th>magnesium</th>\n      <th>flavanoids</th>\n      <th>proanthocyanins</th>\n      <th>hue</th>\n    </tr>\n  </thead>\n  <tbody>\n    <tr>\n      <th>0</th>\n      <td>13.20</td>\n      <td>1.78</td>\n      <td>11.2</td>\n      <td>100</td>\n      <td>2.76</td>\n      <td>1.28</td>\n      <td>1.05</td>\n    </tr>\n    <tr>\n      <th>1</th>\n      <td>13.16</td>\n      <td>2.36</td>\n      <td>18.6</td>\n      <td>101</td>\n      <td>3.24</td>\n      <td>2.81</td>\n      <td>1.03</td>\n    </tr>\n    <tr>\n      <th>2</th>\n      <td>14.37</td>\n      <td>1.95</td>\n      <td>16.8</td>\n      <td>113</td>\n      <td>3.49</td>\n      <td>2.18</td>\n      <td>0.86</td>\n    </tr>\n    <tr>\n      <th>3</th>\n      <td>13.24</td>\n      <td>2.59</td>\n      <td>21.0</td>\n      <td>118</td>\n      <td>2.69</td>\n      <td>1.82</td>\n      <td>1.04</td>\n    </tr>\n    <tr>\n      <th>4</th>\n      <td>14.20</td>\n      <td>1.76</td>\n      <td>15.2</td>\n      <td>112</td>\n      <td>3.39</td>\n      <td>1.97</td>\n      <td>1.05</td>\n    </tr>\n  </tbody>\n</table>\n</div>",
      "text/plain": "   alcohol  malic_acid  alcalinity_of_ash  magnesium  flavanoids  \\\n0    13.20        1.78               11.2        100        2.76   \n1    13.16        2.36               18.6        101        3.24   \n2    14.37        1.95               16.8        113        3.49   \n3    13.24        2.59               21.0        118        2.69   \n4    14.20        1.76               15.2        112        3.39   \n\n   proanthocyanins   hue  \n0             1.28  1.05  \n1             2.81  1.03  \n2             2.18  0.86  \n3             1.82  1.04  \n4             1.97  1.05  "
     },
     "execution_count": 4,
     "metadata": {},
     "output_type": "execute_result"
    }
   ],
   "source": [
    "wine.columns=['alcohol', 'malic_acid', 'alcalinity_of_ash','magnesium', 'flavanoids', 'proanthocyanins', 'hue']\n",
    "wine.head()"
   ]
  },
  {
   "cell_type": "markdown",
   "metadata": {},
   "source": [
    "### Step 6. Set the values of the first 3 rows from alcohol as NaN"
   ]
  },
  {
   "cell_type": "code",
   "execution_count": 5,
   "metadata": {},
   "outputs": [
    {
     "data": {
      "text/html": "<div>\n<style scoped>\n    .dataframe tbody tr th:only-of-type {\n        vertical-align: middle;\n    }\n\n    .dataframe tbody tr th {\n        vertical-align: top;\n    }\n\n    .dataframe thead th {\n        text-align: right;\n    }\n</style>\n<table border=\"1\" class=\"dataframe\">\n  <thead>\n    <tr style=\"text-align: right;\">\n      <th></th>\n      <th>alcohol</th>\n      <th>malic_acid</th>\n      <th>alcalinity_of_ash</th>\n      <th>magnesium</th>\n      <th>flavanoids</th>\n      <th>proanthocyanins</th>\n      <th>hue</th>\n    </tr>\n  </thead>\n  <tbody>\n    <tr>\n      <th>0</th>\n      <td>NaN</td>\n      <td>1.78</td>\n      <td>11.2</td>\n      <td>100</td>\n      <td>2.76</td>\n      <td>1.28</td>\n      <td>1.05</td>\n    </tr>\n    <tr>\n      <th>1</th>\n      <td>NaN</td>\n      <td>2.36</td>\n      <td>18.6</td>\n      <td>101</td>\n      <td>3.24</td>\n      <td>2.81</td>\n      <td>1.03</td>\n    </tr>\n    <tr>\n      <th>2</th>\n      <td>NaN</td>\n      <td>1.95</td>\n      <td>16.8</td>\n      <td>113</td>\n      <td>3.49</td>\n      <td>2.18</td>\n      <td>0.86</td>\n    </tr>\n    <tr>\n      <th>3</th>\n      <td>13.24</td>\n      <td>2.59</td>\n      <td>21.0</td>\n      <td>118</td>\n      <td>2.69</td>\n      <td>1.82</td>\n      <td>1.04</td>\n    </tr>\n    <tr>\n      <th>4</th>\n      <td>14.20</td>\n      <td>1.76</td>\n      <td>15.2</td>\n      <td>112</td>\n      <td>3.39</td>\n      <td>1.97</td>\n      <td>1.05</td>\n    </tr>\n  </tbody>\n</table>\n</div>",
      "text/plain": "   alcohol  malic_acid  alcalinity_of_ash  magnesium  flavanoids  \\\n0      NaN        1.78               11.2        100        2.76   \n1      NaN        2.36               18.6        101        3.24   \n2      NaN        1.95               16.8        113        3.49   \n3    13.24        2.59               21.0        118        2.69   \n4    14.20        1.76               15.2        112        3.39   \n\n   proanthocyanins   hue  \n0             1.28  1.05  \n1             2.81  1.03  \n2             2.18  0.86  \n3             1.82  1.04  \n4             1.97  1.05  "
     },
     "execution_count": 5,
     "metadata": {},
     "output_type": "execute_result"
    }
   ],
   "source": [
    "wine.iloc[0:3, 0] = np.nan\n",
    "wine.head()"
   ]
  },
  {
   "cell_type": "markdown",
   "metadata": {},
   "source": [
    "### Step 7. Now set the value of the rows 3 and 4 of magnesium as NaN"
   ]
  },
  {
   "cell_type": "code",
   "execution_count": 6,
   "metadata": {},
   "outputs": [
    {
     "data": {
      "text/html": "<div>\n<style scoped>\n    .dataframe tbody tr th:only-of-type {\n        vertical-align: middle;\n    }\n\n    .dataframe tbody tr th {\n        vertical-align: top;\n    }\n\n    .dataframe thead th {\n        text-align: right;\n    }\n</style>\n<table border=\"1\" class=\"dataframe\">\n  <thead>\n    <tr style=\"text-align: right;\">\n      <th></th>\n      <th>alcohol</th>\n      <th>malic_acid</th>\n      <th>alcalinity_of_ash</th>\n      <th>magnesium</th>\n      <th>flavanoids</th>\n      <th>proanthocyanins</th>\n      <th>hue</th>\n    </tr>\n  </thead>\n  <tbody>\n    <tr>\n      <th>0</th>\n      <td>NaN</td>\n      <td>1.78</td>\n      <td>11.2</td>\n      <td>100.0</td>\n      <td>2.76</td>\n      <td>1.28</td>\n      <td>1.05</td>\n    </tr>\n    <tr>\n      <th>1</th>\n      <td>NaN</td>\n      <td>2.36</td>\n      <td>18.6</td>\n      <td>101.0</td>\n      <td>3.24</td>\n      <td>2.81</td>\n      <td>1.03</td>\n    </tr>\n    <tr>\n      <th>2</th>\n      <td>NaN</td>\n      <td>1.95</td>\n      <td>16.8</td>\n      <td>NaN</td>\n      <td>3.49</td>\n      <td>2.18</td>\n      <td>0.86</td>\n    </tr>\n    <tr>\n      <th>3</th>\n      <td>13.24</td>\n      <td>2.59</td>\n      <td>21.0</td>\n      <td>NaN</td>\n      <td>2.69</td>\n      <td>1.82</td>\n      <td>1.04</td>\n    </tr>\n    <tr>\n      <th>4</th>\n      <td>14.20</td>\n      <td>1.76</td>\n      <td>15.2</td>\n      <td>112.0</td>\n      <td>3.39</td>\n      <td>1.97</td>\n      <td>1.05</td>\n    </tr>\n  </tbody>\n</table>\n</div>",
      "text/plain": "   alcohol  malic_acid  alcalinity_of_ash  magnesium  flavanoids  \\\n0      NaN        1.78               11.2      100.0        2.76   \n1      NaN        2.36               18.6      101.0        3.24   \n2      NaN        1.95               16.8        NaN        3.49   \n3    13.24        2.59               21.0        NaN        2.69   \n4    14.20        1.76               15.2      112.0        3.39   \n\n   proanthocyanins   hue  \n0             1.28  1.05  \n1             2.81  1.03  \n2             2.18  0.86  \n3             1.82  1.04  \n4             1.97  1.05  "
     },
     "execution_count": 6,
     "metadata": {},
     "output_type": "execute_result"
    }
   ],
   "source": [
    "wine.iloc[2:4,3]=np.nan\n",
    "wine.head()"
   ]
  },
  {
   "cell_type": "markdown",
   "metadata": {},
   "source": [
    "### Step 8. Fill the value of NaN with the number 10 in alcohol and 100 in magnesium"
   ]
  },
  {
   "cell_type": "code",
   "execution_count": 7,
   "metadata": {},
   "outputs": [
    {
     "data": {
      "text/html": "<div>\n<style scoped>\n    .dataframe tbody tr th:only-of-type {\n        vertical-align: middle;\n    }\n\n    .dataframe tbody tr th {\n        vertical-align: top;\n    }\n\n    .dataframe thead th {\n        text-align: right;\n    }\n</style>\n<table border=\"1\" class=\"dataframe\">\n  <thead>\n    <tr style=\"text-align: right;\">\n      <th></th>\n      <th>alcohol</th>\n      <th>malic_acid</th>\n      <th>alcalinity_of_ash</th>\n      <th>magnesium</th>\n      <th>flavanoids</th>\n      <th>proanthocyanins</th>\n      <th>hue</th>\n    </tr>\n  </thead>\n  <tbody>\n    <tr>\n      <th>0</th>\n      <td>10.00</td>\n      <td>1.78</td>\n      <td>11.2</td>\n      <td>100.0</td>\n      <td>2.76</td>\n      <td>1.28</td>\n      <td>1.05</td>\n    </tr>\n    <tr>\n      <th>1</th>\n      <td>10.00</td>\n      <td>2.36</td>\n      <td>18.6</td>\n      <td>101.0</td>\n      <td>3.24</td>\n      <td>2.81</td>\n      <td>1.03</td>\n    </tr>\n    <tr>\n      <th>2</th>\n      <td>10.00</td>\n      <td>1.95</td>\n      <td>16.8</td>\n      <td>100.0</td>\n      <td>3.49</td>\n      <td>2.18</td>\n      <td>0.86</td>\n    </tr>\n    <tr>\n      <th>3</th>\n      <td>13.24</td>\n      <td>2.59</td>\n      <td>21.0</td>\n      <td>100.0</td>\n      <td>2.69</td>\n      <td>1.82</td>\n      <td>1.04</td>\n    </tr>\n    <tr>\n      <th>4</th>\n      <td>14.20</td>\n      <td>1.76</td>\n      <td>15.2</td>\n      <td>112.0</td>\n      <td>3.39</td>\n      <td>1.97</td>\n      <td>1.05</td>\n    </tr>\n  </tbody>\n</table>\n</div>",
      "text/plain": "   alcohol  malic_acid  alcalinity_of_ash  magnesium  flavanoids  \\\n0    10.00        1.78               11.2      100.0        2.76   \n1    10.00        2.36               18.6      101.0        3.24   \n2    10.00        1.95               16.8      100.0        3.49   \n3    13.24        2.59               21.0      100.0        2.69   \n4    14.20        1.76               15.2      112.0        3.39   \n\n   proanthocyanins   hue  \n0             1.28  1.05  \n1             2.81  1.03  \n2             2.18  0.86  \n3             1.82  1.04  \n4             1.97  1.05  "
     },
     "execution_count": 7,
     "metadata": {},
     "output_type": "execute_result"
    }
   ],
   "source": [
    "wine.alcohol.fillna(10,inplace=True)\n",
    "wine.magnesium.fillna(100,inplace=True)\n",
    "wine.head()"
   ]
  },
  {
   "cell_type": "markdown",
   "metadata": {},
   "source": [
    "### Step 9. Count the number of missing values"
   ]
  },
  {
   "cell_type": "code",
   "execution_count": 8,
   "metadata": {},
   "outputs": [
    {
     "data": {
      "text/plain": "alcohol              0\nmalic_acid           0\nalcalinity_of_ash    0\nmagnesium            0\nflavanoids           0\nproanthocyanins      0\nhue                  0\ndtype: int64"
     },
     "execution_count": 8,
     "metadata": {},
     "output_type": "execute_result"
    }
   ],
   "source": [
    "wine.isnull().sum()"
   ]
  },
  {
   "cell_type": "markdown",
   "metadata": {},
   "source": [
    "### Step 10.  Create an array of 10 random numbers up until 10"
   ]
  },
  {
   "cell_type": "code",
   "execution_count": 9,
   "metadata": {},
   "outputs": [
    {
     "data": {
      "text/plain": "array([1, 9, 5, 8, 1, 0, 4, 4, 4, 7])"
     },
     "execution_count": 9,
     "metadata": {},
     "output_type": "execute_result"
    }
   ],
   "source": [
    "random=np.random.randint(0,10,10)\n",
    "random"
   ]
  },
  {
   "cell_type": "markdown",
   "metadata": {},
   "source": [
    "### Step 11.  Use random numbers you generated as an index and assign NaN value to each of cell."
   ]
  },
  {
   "cell_type": "code",
   "execution_count": 10,
   "metadata": {},
   "outputs": [
    {
     "data": {
      "text/html": "<div>\n<style scoped>\n    .dataframe tbody tr th:only-of-type {\n        vertical-align: middle;\n    }\n\n    .dataframe tbody tr th {\n        vertical-align: top;\n    }\n\n    .dataframe thead th {\n        text-align: right;\n    }\n</style>\n<table border=\"1\" class=\"dataframe\">\n  <thead>\n    <tr style=\"text-align: right;\">\n      <th></th>\n      <th>alcohol</th>\n      <th>malic_acid</th>\n      <th>alcalinity_of_ash</th>\n      <th>magnesium</th>\n      <th>flavanoids</th>\n      <th>proanthocyanins</th>\n      <th>hue</th>\n    </tr>\n  </thead>\n  <tbody>\n    <tr>\n      <th>0</th>\n      <td>NaN</td>\n      <td>1.78</td>\n      <td>11.2</td>\n      <td>100.0</td>\n      <td>2.76</td>\n      <td>1.28</td>\n      <td>1.05</td>\n    </tr>\n    <tr>\n      <th>1</th>\n      <td>NaN</td>\n      <td>2.36</td>\n      <td>18.6</td>\n      <td>101.0</td>\n      <td>3.24</td>\n      <td>2.81</td>\n      <td>1.03</td>\n    </tr>\n    <tr>\n      <th>2</th>\n      <td>10.00</td>\n      <td>1.95</td>\n      <td>16.8</td>\n      <td>100.0</td>\n      <td>3.49</td>\n      <td>2.18</td>\n      <td>0.86</td>\n    </tr>\n    <tr>\n      <th>3</th>\n      <td>13.24</td>\n      <td>2.59</td>\n      <td>21.0</td>\n      <td>100.0</td>\n      <td>2.69</td>\n      <td>1.82</td>\n      <td>1.04</td>\n    </tr>\n    <tr>\n      <th>4</th>\n      <td>NaN</td>\n      <td>1.76</td>\n      <td>15.2</td>\n      <td>112.0</td>\n      <td>3.39</td>\n      <td>1.97</td>\n      <td>1.05</td>\n    </tr>\n  </tbody>\n</table>\n</div>",
      "text/plain": "   alcohol  malic_acid  alcalinity_of_ash  magnesium  flavanoids  \\\n0      NaN        1.78               11.2      100.0        2.76   \n1      NaN        2.36               18.6      101.0        3.24   \n2    10.00        1.95               16.8      100.0        3.49   \n3    13.24        2.59               21.0      100.0        2.69   \n4      NaN        1.76               15.2      112.0        3.39   \n\n   proanthocyanins   hue  \n0             1.28  1.05  \n1             2.81  1.03  \n2             2.18  0.86  \n3             1.82  1.04  \n4             1.97  1.05  "
     },
     "execution_count": 10,
     "metadata": {},
     "output_type": "execute_result"
    }
   ],
   "source": [
    "wine.alcohol[random]=np.nan\n",
    "wine.head()"
   ]
  },
  {
   "cell_type": "markdown",
   "metadata": {},
   "source": [
    "### Step 12.  How many missing values do we have?"
   ]
  },
  {
   "cell_type": "code",
   "execution_count": 11,
   "metadata": {},
   "outputs": [
    {
     "data": {
      "text/plain": "alcohol              7\nmalic_acid           0\nalcalinity_of_ash    0\nmagnesium            0\nflavanoids           0\nproanthocyanins      0\nhue                  0\ndtype: int64"
     },
     "execution_count": 11,
     "metadata": {},
     "output_type": "execute_result"
    }
   ],
   "source": [
    "wine.isnull().sum()"
   ]
  },
  {
   "cell_type": "markdown",
   "metadata": {},
   "source": [
    "### Step 13. Delete the rows that contain missing values"
   ]
  },
  {
   "cell_type": "code",
   "execution_count": 12,
   "metadata": {},
   "outputs": [],
   "source": [
    "wine=wine.dropna(axis=0,how='any')"
   ]
  },
  {
   "cell_type": "markdown",
   "metadata": {},
   "source": [
    "### Step 14. Print only the non-null values in alcohol"
   ]
  },
  {
   "cell_type": "code",
   "execution_count": 13,
   "metadata": {},
   "outputs": [
    {
     "data": {
      "text/plain": "2      10.00\n3      13.24\n6      14.06\n10     14.12\n11     13.75\n12     14.75\n13     14.38\n14     13.63\n15     14.30\n16     13.83\n17     14.19\n18     13.64\n19     14.06\n20     12.93\n21     13.71\n22     12.85\n23     13.50\n24     13.05\n25     13.39\n26     13.30\n27     13.87\n28     14.02\n29     13.73\n30     13.58\n31     13.68\n32     13.76\n33     13.51\n34     13.48\n35     13.28\n36     13.05\n       ...  \n147    13.32\n148    13.08\n149    13.50\n150    12.79\n151    13.11\n152    13.23\n153    12.58\n154    13.17\n155    13.84\n156    12.45\n157    14.34\n158    13.48\n159    12.36\n160    13.69\n161    12.85\n162    12.96\n163    13.78\n164    13.73\n165    13.45\n166    12.82\n167    13.58\n168    13.40\n169    12.20\n170    12.77\n171    14.16\n172    13.71\n173    13.40\n174    13.27\n175    13.17\n176    14.13\nName: alcohol, Length: 170, dtype: float64"
     },
     "execution_count": 13,
     "metadata": {},
     "output_type": "execute_result"
    }
   ],
   "source": [
    "wine.alcohol[wine.alcohol.notnull()]"
   ]
  },
  {
   "cell_type": "markdown",
   "metadata": {},
   "source": [
    "### Step 15.  Reset the index, so it starts with 0 again"
   ]
  },
  {
   "cell_type": "code",
   "execution_count": 14,
   "metadata": {},
   "outputs": [
    {
     "data": {
      "text/html": "<div>\n<style scoped>\n    .dataframe tbody tr th:only-of-type {\n        vertical-align: middle;\n    }\n\n    .dataframe tbody tr th {\n        vertical-align: top;\n    }\n\n    .dataframe thead th {\n        text-align: right;\n    }\n</style>\n<table border=\"1\" class=\"dataframe\">\n  <thead>\n    <tr style=\"text-align: right;\">\n      <th></th>\n      <th>alcohol</th>\n      <th>malic_acid</th>\n      <th>alcalinity_of_ash</th>\n      <th>magnesium</th>\n      <th>flavanoids</th>\n      <th>proanthocyanins</th>\n      <th>hue</th>\n    </tr>\n  </thead>\n  <tbody>\n    <tr>\n      <th>0</th>\n      <td>10.00</td>\n      <td>1.95</td>\n      <td>16.8</td>\n      <td>100.0</td>\n      <td>3.49</td>\n      <td>2.18</td>\n      <td>0.86</td>\n    </tr>\n    <tr>\n      <th>1</th>\n      <td>13.24</td>\n      <td>2.59</td>\n      <td>21.0</td>\n      <td>100.0</td>\n      <td>2.69</td>\n      <td>1.82</td>\n      <td>1.04</td>\n    </tr>\n    <tr>\n      <th>2</th>\n      <td>14.06</td>\n      <td>2.15</td>\n      <td>17.6</td>\n      <td>121.0</td>\n      <td>2.51</td>\n      <td>1.25</td>\n      <td>1.06</td>\n    </tr>\n    <tr>\n      <th>3</th>\n      <td>14.12</td>\n      <td>1.48</td>\n      <td>16.8</td>\n      <td>95.0</td>\n      <td>2.43</td>\n      <td>1.57</td>\n      <td>1.17</td>\n    </tr>\n    <tr>\n      <th>4</th>\n      <td>13.75</td>\n      <td>1.73</td>\n      <td>16.0</td>\n      <td>89.0</td>\n      <td>2.76</td>\n      <td>1.81</td>\n      <td>1.15</td>\n    </tr>\n    <tr>\n      <th>5</th>\n      <td>14.75</td>\n      <td>1.73</td>\n      <td>11.4</td>\n      <td>91.0</td>\n      <td>3.69</td>\n      <td>2.81</td>\n      <td>1.25</td>\n    </tr>\n    <tr>\n      <th>6</th>\n      <td>14.38</td>\n      <td>1.87</td>\n      <td>12.0</td>\n      <td>102.0</td>\n      <td>3.64</td>\n      <td>2.96</td>\n      <td>1.20</td>\n    </tr>\n    <tr>\n      <th>7</th>\n      <td>13.63</td>\n      <td>1.81</td>\n      <td>17.2</td>\n      <td>112.0</td>\n      <td>2.91</td>\n      <td>1.46</td>\n      <td>1.28</td>\n    </tr>\n    <tr>\n      <th>8</th>\n      <td>14.30</td>\n      <td>1.92</td>\n      <td>20.0</td>\n      <td>120.0</td>\n      <td>3.14</td>\n      <td>1.97</td>\n      <td>1.07</td>\n    </tr>\n    <tr>\n      <th>9</th>\n      <td>13.83</td>\n      <td>1.57</td>\n      <td>20.0</td>\n      <td>115.0</td>\n      <td>3.40</td>\n      <td>1.72</td>\n      <td>1.13</td>\n    </tr>\n    <tr>\n      <th>10</th>\n      <td>14.19</td>\n      <td>1.59</td>\n      <td>16.5</td>\n      <td>108.0</td>\n      <td>3.93</td>\n      <td>1.86</td>\n      <td>1.23</td>\n    </tr>\n    <tr>\n      <th>11</th>\n      <td>13.64</td>\n      <td>3.10</td>\n      <td>15.2</td>\n      <td>116.0</td>\n      <td>3.03</td>\n      <td>1.66</td>\n      <td>0.96</td>\n    </tr>\n    <tr>\n      <th>12</th>\n      <td>14.06</td>\n      <td>1.63</td>\n      <td>16.0</td>\n      <td>126.0</td>\n      <td>3.17</td>\n      <td>2.10</td>\n      <td>1.09</td>\n    </tr>\n    <tr>\n      <th>13</th>\n      <td>12.93</td>\n      <td>3.80</td>\n      <td>18.6</td>\n      <td>102.0</td>\n      <td>2.41</td>\n      <td>1.98</td>\n      <td>1.03</td>\n    </tr>\n    <tr>\n      <th>14</th>\n      <td>13.71</td>\n      <td>1.86</td>\n      <td>16.6</td>\n      <td>101.0</td>\n      <td>2.88</td>\n      <td>1.69</td>\n      <td>1.11</td>\n    </tr>\n    <tr>\n      <th>15</th>\n      <td>12.85</td>\n      <td>1.60</td>\n      <td>17.8</td>\n      <td>95.0</td>\n      <td>2.37</td>\n      <td>1.46</td>\n      <td>1.09</td>\n    </tr>\n    <tr>\n      <th>16</th>\n      <td>13.50</td>\n      <td>1.81</td>\n      <td>20.0</td>\n      <td>96.0</td>\n      <td>2.61</td>\n      <td>1.66</td>\n      <td>1.12</td>\n    </tr>\n    <tr>\n      <th>17</th>\n      <td>13.05</td>\n      <td>2.05</td>\n      <td>25.0</td>\n      <td>124.0</td>\n      <td>2.68</td>\n      <td>1.92</td>\n      <td>1.13</td>\n    </tr>\n    <tr>\n      <th>18</th>\n      <td>13.39</td>\n      <td>1.77</td>\n      <td>16.1</td>\n      <td>93.0</td>\n      <td>2.94</td>\n      <td>1.45</td>\n      <td>0.92</td>\n    </tr>\n    <tr>\n      <th>19</th>\n      <td>13.30</td>\n      <td>1.72</td>\n      <td>17.0</td>\n      <td>94.0</td>\n      <td>2.19</td>\n      <td>1.35</td>\n      <td>1.02</td>\n    </tr>\n    <tr>\n      <th>20</th>\n      <td>13.87</td>\n      <td>1.90</td>\n      <td>19.4</td>\n      <td>107.0</td>\n      <td>2.97</td>\n      <td>1.76</td>\n      <td>1.25</td>\n    </tr>\n    <tr>\n      <th>21</th>\n      <td>14.02</td>\n      <td>1.68</td>\n      <td>16.0</td>\n      <td>96.0</td>\n      <td>2.33</td>\n      <td>1.98</td>\n      <td>1.04</td>\n    </tr>\n    <tr>\n      <th>22</th>\n      <td>13.73</td>\n      <td>1.50</td>\n      <td>22.5</td>\n      <td>101.0</td>\n      <td>3.25</td>\n      <td>2.38</td>\n      <td>1.19</td>\n    </tr>\n    <tr>\n      <th>23</th>\n      <td>13.58</td>\n      <td>1.66</td>\n      <td>19.1</td>\n      <td>106.0</td>\n      <td>3.19</td>\n      <td>1.95</td>\n      <td>1.09</td>\n    </tr>\n    <tr>\n      <th>24</th>\n      <td>13.68</td>\n      <td>1.83</td>\n      <td>17.2</td>\n      <td>104.0</td>\n      <td>2.69</td>\n      <td>1.97</td>\n      <td>1.23</td>\n    </tr>\n    <tr>\n      <th>25</th>\n      <td>13.76</td>\n      <td>1.53</td>\n      <td>19.5</td>\n      <td>132.0</td>\n      <td>2.74</td>\n      <td>1.35</td>\n      <td>1.25</td>\n    </tr>\n    <tr>\n      <th>26</th>\n      <td>13.51</td>\n      <td>1.80</td>\n      <td>19.0</td>\n      <td>110.0</td>\n      <td>2.53</td>\n      <td>1.54</td>\n      <td>1.10</td>\n    </tr>\n    <tr>\n      <th>27</th>\n      <td>13.48</td>\n      <td>1.81</td>\n      <td>20.5</td>\n      <td>100.0</td>\n      <td>2.98</td>\n      <td>1.86</td>\n      <td>1.04</td>\n    </tr>\n    <tr>\n      <th>28</th>\n      <td>13.28</td>\n      <td>1.64</td>\n      <td>15.5</td>\n      <td>110.0</td>\n      <td>2.68</td>\n      <td>1.36</td>\n      <td>1.09</td>\n    </tr>\n    <tr>\n      <th>29</th>\n      <td>13.05</td>\n      <td>1.65</td>\n      <td>18.0</td>\n      <td>98.0</td>\n      <td>2.43</td>\n      <td>1.44</td>\n      <td>1.12</td>\n    </tr>\n    <tr>\n      <th>...</th>\n      <td>...</td>\n      <td>...</td>\n      <td>...</td>\n      <td>...</td>\n      <td>...</td>\n      <td>...</td>\n      <td>...</td>\n    </tr>\n    <tr>\n      <th>140</th>\n      <td>13.32</td>\n      <td>3.24</td>\n      <td>21.5</td>\n      <td>92.0</td>\n      <td>0.76</td>\n      <td>1.25</td>\n      <td>0.55</td>\n    </tr>\n    <tr>\n      <th>141</th>\n      <td>13.08</td>\n      <td>3.90</td>\n      <td>21.5</td>\n      <td>113.0</td>\n      <td>1.39</td>\n      <td>1.14</td>\n      <td>0.57</td>\n    </tr>\n    <tr>\n      <th>142</th>\n      <td>13.50</td>\n      <td>3.12</td>\n      <td>24.0</td>\n      <td>123.0</td>\n      <td>1.57</td>\n      <td>1.25</td>\n      <td>0.59</td>\n    </tr>\n    <tr>\n      <th>143</th>\n      <td>12.79</td>\n      <td>2.67</td>\n      <td>22.0</td>\n      <td>112.0</td>\n      <td>1.36</td>\n      <td>1.26</td>\n      <td>0.48</td>\n    </tr>\n    <tr>\n      <th>144</th>\n      <td>13.11</td>\n      <td>1.90</td>\n      <td>25.5</td>\n      <td>116.0</td>\n      <td>1.28</td>\n      <td>1.56</td>\n      <td>0.61</td>\n    </tr>\n    <tr>\n      <th>145</th>\n      <td>13.23</td>\n      <td>3.30</td>\n      <td>18.5</td>\n      <td>98.0</td>\n      <td>0.83</td>\n      <td>1.87</td>\n      <td>0.56</td>\n    </tr>\n    <tr>\n      <th>146</th>\n      <td>12.58</td>\n      <td>1.29</td>\n      <td>20.0</td>\n      <td>103.0</td>\n      <td>0.58</td>\n      <td>1.40</td>\n      <td>0.58</td>\n    </tr>\n    <tr>\n      <th>147</th>\n      <td>13.17</td>\n      <td>5.19</td>\n      <td>22.0</td>\n      <td>93.0</td>\n      <td>0.63</td>\n      <td>1.55</td>\n      <td>0.60</td>\n    </tr>\n    <tr>\n      <th>148</th>\n      <td>13.84</td>\n      <td>4.12</td>\n      <td>19.5</td>\n      <td>89.0</td>\n      <td>0.83</td>\n      <td>1.56</td>\n      <td>0.57</td>\n    </tr>\n    <tr>\n      <th>149</th>\n      <td>12.45</td>\n      <td>3.03</td>\n      <td>27.0</td>\n      <td>97.0</td>\n      <td>0.58</td>\n      <td>1.14</td>\n      <td>0.67</td>\n    </tr>\n    <tr>\n      <th>150</th>\n      <td>14.34</td>\n      <td>1.68</td>\n      <td>25.0</td>\n      <td>98.0</td>\n      <td>1.31</td>\n      <td>2.70</td>\n      <td>0.57</td>\n    </tr>\n    <tr>\n      <th>151</th>\n      <td>13.48</td>\n      <td>1.67</td>\n      <td>22.5</td>\n      <td>89.0</td>\n      <td>1.10</td>\n      <td>2.29</td>\n      <td>0.57</td>\n    </tr>\n    <tr>\n      <th>152</th>\n      <td>12.36</td>\n      <td>3.83</td>\n      <td>21.0</td>\n      <td>88.0</td>\n      <td>0.92</td>\n      <td>1.04</td>\n      <td>0.56</td>\n    </tr>\n    <tr>\n      <th>153</th>\n      <td>13.69</td>\n      <td>3.26</td>\n      <td>20.0</td>\n      <td>107.0</td>\n      <td>0.56</td>\n      <td>0.80</td>\n      <td>0.96</td>\n    </tr>\n    <tr>\n      <th>154</th>\n      <td>12.85</td>\n      <td>3.27</td>\n      <td>22.0</td>\n      <td>106.0</td>\n      <td>0.60</td>\n      <td>0.96</td>\n      <td>0.87</td>\n    </tr>\n    <tr>\n      <th>155</th>\n      <td>12.96</td>\n      <td>3.45</td>\n      <td>18.5</td>\n      <td>106.0</td>\n      <td>0.70</td>\n      <td>0.94</td>\n      <td>0.68</td>\n    </tr>\n    <tr>\n      <th>156</th>\n      <td>13.78</td>\n      <td>2.76</td>\n      <td>22.0</td>\n      <td>90.0</td>\n      <td>0.68</td>\n      <td>1.03</td>\n      <td>0.70</td>\n    </tr>\n    <tr>\n      <th>157</th>\n      <td>13.73</td>\n      <td>4.36</td>\n      <td>22.5</td>\n      <td>88.0</td>\n      <td>0.47</td>\n      <td>1.15</td>\n      <td>0.78</td>\n    </tr>\n    <tr>\n      <th>158</th>\n      <td>13.45</td>\n      <td>3.70</td>\n      <td>23.0</td>\n      <td>111.0</td>\n      <td>0.92</td>\n      <td>1.46</td>\n      <td>0.85</td>\n    </tr>\n    <tr>\n      <th>159</th>\n      <td>12.82</td>\n      <td>3.37</td>\n      <td>19.5</td>\n      <td>88.0</td>\n      <td>0.66</td>\n      <td>0.97</td>\n      <td>0.72</td>\n    </tr>\n    <tr>\n      <th>160</th>\n      <td>13.58</td>\n      <td>2.58</td>\n      <td>24.5</td>\n      <td>105.0</td>\n      <td>0.84</td>\n      <td>1.54</td>\n      <td>0.74</td>\n    </tr>\n    <tr>\n      <th>161</th>\n      <td>13.40</td>\n      <td>4.60</td>\n      <td>25.0</td>\n      <td>112.0</td>\n      <td>0.96</td>\n      <td>1.11</td>\n      <td>0.67</td>\n    </tr>\n    <tr>\n      <th>162</th>\n      <td>12.20</td>\n      <td>3.03</td>\n      <td>19.0</td>\n      <td>96.0</td>\n      <td>0.49</td>\n      <td>0.73</td>\n      <td>0.66</td>\n    </tr>\n    <tr>\n      <th>163</th>\n      <td>12.77</td>\n      <td>2.39</td>\n      <td>19.5</td>\n      <td>86.0</td>\n      <td>0.51</td>\n      <td>0.64</td>\n      <td>0.57</td>\n    </tr>\n    <tr>\n      <th>164</th>\n      <td>14.16</td>\n      <td>2.51</td>\n      <td>20.0</td>\n      <td>91.0</td>\n      <td>0.70</td>\n      <td>1.24</td>\n      <td>0.62</td>\n    </tr>\n    <tr>\n      <th>165</th>\n      <td>13.71</td>\n      <td>5.65</td>\n      <td>20.5</td>\n      <td>95.0</td>\n      <td>0.61</td>\n      <td>1.06</td>\n      <td>0.64</td>\n    </tr>\n    <tr>\n      <th>166</th>\n      <td>13.40</td>\n      <td>3.91</td>\n      <td>23.0</td>\n      <td>102.0</td>\n      <td>0.75</td>\n      <td>1.41</td>\n      <td>0.70</td>\n    </tr>\n    <tr>\n      <th>167</th>\n      <td>13.27</td>\n      <td>4.28</td>\n      <td>20.0</td>\n      <td>120.0</td>\n      <td>0.69</td>\n      <td>1.35</td>\n      <td>0.59</td>\n    </tr>\n    <tr>\n      <th>168</th>\n      <td>13.17</td>\n      <td>2.59</td>\n      <td>20.0</td>\n      <td>120.0</td>\n      <td>0.68</td>\n      <td>1.46</td>\n      <td>0.60</td>\n    </tr>\n    <tr>\n      <th>169</th>\n      <td>14.13</td>\n      <td>4.10</td>\n      <td>24.5</td>\n      <td>96.0</td>\n      <td>0.76</td>\n      <td>1.35</td>\n      <td>0.61</td>\n    </tr>\n  </tbody>\n</table>\n<p>170 rows × 7 columns</p>\n</div>",
      "text/plain": "     alcohol  malic_acid  alcalinity_of_ash  magnesium  flavanoids  \\\n0      10.00        1.95               16.8      100.0        3.49   \n1      13.24        2.59               21.0      100.0        2.69   \n2      14.06        2.15               17.6      121.0        2.51   \n3      14.12        1.48               16.8       95.0        2.43   \n4      13.75        1.73               16.0       89.0        2.76   \n5      14.75        1.73               11.4       91.0        3.69   \n6      14.38        1.87               12.0      102.0        3.64   \n7      13.63        1.81               17.2      112.0        2.91   \n8      14.30        1.92               20.0      120.0        3.14   \n9      13.83        1.57               20.0      115.0        3.40   \n10     14.19        1.59               16.5      108.0        3.93   \n11     13.64        3.10               15.2      116.0        3.03   \n12     14.06        1.63               16.0      126.0        3.17   \n13     12.93        3.80               18.6      102.0        2.41   \n14     13.71        1.86               16.6      101.0        2.88   \n15     12.85        1.60               17.8       95.0        2.37   \n16     13.50        1.81               20.0       96.0        2.61   \n17     13.05        2.05               25.0      124.0        2.68   \n18     13.39        1.77               16.1       93.0        2.94   \n19     13.30        1.72               17.0       94.0        2.19   \n20     13.87        1.90               19.4      107.0        2.97   \n21     14.02        1.68               16.0       96.0        2.33   \n22     13.73        1.50               22.5      101.0        3.25   \n23     13.58        1.66               19.1      106.0        3.19   \n24     13.68        1.83               17.2      104.0        2.69   \n25     13.76        1.53               19.5      132.0        2.74   \n26     13.51        1.80               19.0      110.0        2.53   \n27     13.48        1.81               20.5      100.0        2.98   \n28     13.28        1.64               15.5      110.0        2.68   \n29     13.05        1.65               18.0       98.0        2.43   \n..       ...         ...                ...        ...         ...   \n140    13.32        3.24               21.5       92.0        0.76   \n141    13.08        3.90               21.5      113.0        1.39   \n142    13.50        3.12               24.0      123.0        1.57   \n143    12.79        2.67               22.0      112.0        1.36   \n144    13.11        1.90               25.5      116.0        1.28   \n145    13.23        3.30               18.5       98.0        0.83   \n146    12.58        1.29               20.0      103.0        0.58   \n147    13.17        5.19               22.0       93.0        0.63   \n148    13.84        4.12               19.5       89.0        0.83   \n149    12.45        3.03               27.0       97.0        0.58   \n150    14.34        1.68               25.0       98.0        1.31   \n151    13.48        1.67               22.5       89.0        1.10   \n152    12.36        3.83               21.0       88.0        0.92   \n153    13.69        3.26               20.0      107.0        0.56   \n154    12.85        3.27               22.0      106.0        0.60   \n155    12.96        3.45               18.5      106.0        0.70   \n156    13.78        2.76               22.0       90.0        0.68   \n157    13.73        4.36               22.5       88.0        0.47   \n158    13.45        3.70               23.0      111.0        0.92   \n159    12.82        3.37               19.5       88.0        0.66   \n160    13.58        2.58               24.5      105.0        0.84   \n161    13.40        4.60               25.0      112.0        0.96   \n162    12.20        3.03               19.0       96.0        0.49   \n163    12.77        2.39               19.5       86.0        0.51   \n164    14.16        2.51               20.0       91.0        0.70   \n165    13.71        5.65               20.5       95.0        0.61   \n166    13.40        3.91               23.0      102.0        0.75   \n167    13.27        4.28               20.0      120.0        0.69   \n168    13.17        2.59               20.0      120.0        0.68   \n169    14.13        4.10               24.5       96.0        0.76   \n\n     proanthocyanins   hue  \n0               2.18  0.86  \n1               1.82  1.04  \n2               1.25  1.06  \n3               1.57  1.17  \n4               1.81  1.15  \n5               2.81  1.25  \n6               2.96  1.20  \n7               1.46  1.28  \n8               1.97  1.07  \n9               1.72  1.13  \n10              1.86  1.23  \n11              1.66  0.96  \n12              2.10  1.09  \n13              1.98  1.03  \n14              1.69  1.11  \n15              1.46  1.09  \n16              1.66  1.12  \n17              1.92  1.13  \n18              1.45  0.92  \n19              1.35  1.02  \n20              1.76  1.25  \n21              1.98  1.04  \n22              2.38  1.19  \n23              1.95  1.09  \n24              1.97  1.23  \n25              1.35  1.25  \n26              1.54  1.10  \n27              1.86  1.04  \n28              1.36  1.09  \n29              1.44  1.12  \n..               ...   ...  \n140             1.25  0.55  \n141             1.14  0.57  \n142             1.25  0.59  \n143             1.26  0.48  \n144             1.56  0.61  \n145             1.87  0.56  \n146             1.40  0.58  \n147             1.55  0.60  \n148             1.56  0.57  \n149             1.14  0.67  \n150             2.70  0.57  \n151             2.29  0.57  \n152             1.04  0.56  \n153             0.80  0.96  \n154             0.96  0.87  \n155             0.94  0.68  \n156             1.03  0.70  \n157             1.15  0.78  \n158             1.46  0.85  \n159             0.97  0.72  \n160             1.54  0.74  \n161             1.11  0.67  \n162             0.73  0.66  \n163             0.64  0.57  \n164             1.24  0.62  \n165             1.06  0.64  \n166             1.41  0.70  \n167             1.35  0.59  \n168             1.46  0.60  \n169             1.35  0.61  \n\n[170 rows x 7 columns]"
     },
     "execution_count": 14,
     "metadata": {},
     "output_type": "execute_result"
    }
   ],
   "source": [
    "wine=wine.reset_index(drop=True)\n",
    "wine"
   ]
  },
  {
   "cell_type": "markdown",
   "metadata": {},
   "source": [
    "### BONUS: Create your own question and answer it."
   ]
  },
  {
   "cell_type": "code",
   "execution_count": null,
   "metadata": {
    "collapsed": true
   },
   "outputs": [],
   "source": []
  }
 ],
 "metadata": {
  "kernelspec": {
   "display_name": "Python 3.7.0 64-bit ('base': conda)",
   "language": "python",
   "name": "python37064bitbasecondaa8718354cf314d6cb09957be85088dc7"
  },
  "language_info": {
   "codemirror_mode": {
    "name": "ipython",
    "version": 2
   },
   "file_extension": ".py",
   "mimetype": "text/x-python",
   "name": "python",
   "nbconvert_exporter": "python",
   "pygments_lexer": "ipython2",
   "version": "3.7.0-final"
  }
 },
 "nbformat": 4,
 "nbformat_minor": 0
}