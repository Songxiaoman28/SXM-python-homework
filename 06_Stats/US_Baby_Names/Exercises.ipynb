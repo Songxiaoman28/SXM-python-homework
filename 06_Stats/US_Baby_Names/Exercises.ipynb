{
 "cells": [
  {
   "cell_type": "markdown",
   "metadata": {},
   "source": [
    "# US - Baby Names"
   ]
  },
  {
   "cell_type": "markdown",
   "metadata": {},
   "source": [
    "### Introduction:\n",
    "\n",
    "We are going to use a subset of [US Baby Names](https://www.kaggle.com/kaggle/us-baby-names) from Kaggle.  \n",
    "In the file it will be names from 2004 until 2014\n",
    "\n",
    "\n",
    "### Step 1. Import the necessary libraries"
   ]
  },
  {
   "cell_type": "code",
   "execution_count": 1,
   "metadata": {},
   "outputs": [],
   "source": [
    "import pandas as pd \n",
    "import numpy as np "
   ]
  },
  {
   "cell_type": "markdown",
   "metadata": {},
   "source": [
    "### Step 2. Import the dataset from this [address](https://raw.githubusercontent.com/guipsamora/pandas_exercises/master/06_Stats/US_Baby_Names/US_Baby_Names_right.csv). "
   ]
  },
  {
   "cell_type": "markdown",
   "metadata": {},
   "source": [
    "### Step 3. Assign it to a variable called baby_names."
   ]
  },
  {
   "cell_type": "code",
   "execution_count": 2,
   "metadata": {},
   "outputs": [],
   "source": [
    "path = '../../../../pandas_exercises_with_data/data/'\n",
    "baby_names = pd.read_csv(path+'US_Baby_Names_right.csv')"
   ]
  },
  {
   "cell_type": "markdown",
   "metadata": {},
   "source": [
    "### Step 4. See the first 10 entries"
   ]
  },
  {
   "cell_type": "code",
   "execution_count": 3,
   "metadata": {},
   "outputs": [
    {
     "data": {
      "text/html": "<div>\n<style scoped>\n    .dataframe tbody tr th:only-of-type {\n        vertical-align: middle;\n    }\n\n    .dataframe tbody tr th {\n        vertical-align: top;\n    }\n\n    .dataframe thead th {\n        text-align: right;\n    }\n</style>\n<table border=\"1\" class=\"dataframe\">\n  <thead>\n    <tr style=\"text-align: right;\">\n      <th></th>\n      <th>Unnamed: 0</th>\n      <th>Id</th>\n      <th>Name</th>\n      <th>Year</th>\n      <th>Gender</th>\n      <th>State</th>\n      <th>Count</th>\n    </tr>\n  </thead>\n  <tbody>\n    <tr>\n      <th>0</th>\n      <td>11349</td>\n      <td>11350</td>\n      <td>Emma</td>\n      <td>2004</td>\n      <td>F</td>\n      <td>AK</td>\n      <td>62</td>\n    </tr>\n    <tr>\n      <th>1</th>\n      <td>11350</td>\n      <td>11351</td>\n      <td>Madison</td>\n      <td>2004</td>\n      <td>F</td>\n      <td>AK</td>\n      <td>48</td>\n    </tr>\n    <tr>\n      <th>2</th>\n      <td>11351</td>\n      <td>11352</td>\n      <td>Hannah</td>\n      <td>2004</td>\n      <td>F</td>\n      <td>AK</td>\n      <td>46</td>\n    </tr>\n    <tr>\n      <th>3</th>\n      <td>11352</td>\n      <td>11353</td>\n      <td>Grace</td>\n      <td>2004</td>\n      <td>F</td>\n      <td>AK</td>\n      <td>44</td>\n    </tr>\n    <tr>\n      <th>4</th>\n      <td>11353</td>\n      <td>11354</td>\n      <td>Emily</td>\n      <td>2004</td>\n      <td>F</td>\n      <td>AK</td>\n      <td>41</td>\n    </tr>\n    <tr>\n      <th>5</th>\n      <td>11354</td>\n      <td>11355</td>\n      <td>Abigail</td>\n      <td>2004</td>\n      <td>F</td>\n      <td>AK</td>\n      <td>37</td>\n    </tr>\n    <tr>\n      <th>6</th>\n      <td>11355</td>\n      <td>11356</td>\n      <td>Olivia</td>\n      <td>2004</td>\n      <td>F</td>\n      <td>AK</td>\n      <td>33</td>\n    </tr>\n    <tr>\n      <th>7</th>\n      <td>11356</td>\n      <td>11357</td>\n      <td>Isabella</td>\n      <td>2004</td>\n      <td>F</td>\n      <td>AK</td>\n      <td>30</td>\n    </tr>\n    <tr>\n      <th>8</th>\n      <td>11357</td>\n      <td>11358</td>\n      <td>Alyssa</td>\n      <td>2004</td>\n      <td>F</td>\n      <td>AK</td>\n      <td>29</td>\n    </tr>\n    <tr>\n      <th>9</th>\n      <td>11358</td>\n      <td>11359</td>\n      <td>Sophia</td>\n      <td>2004</td>\n      <td>F</td>\n      <td>AK</td>\n      <td>28</td>\n    </tr>\n  </tbody>\n</table>\n</div>",
      "text/plain": "   Unnamed: 0     Id      Name  Year Gender State  Count\n0       11349  11350      Emma  2004      F    AK     62\n1       11350  11351   Madison  2004      F    AK     48\n2       11351  11352    Hannah  2004      F    AK     46\n3       11352  11353     Grace  2004      F    AK     44\n4       11353  11354     Emily  2004      F    AK     41\n5       11354  11355   Abigail  2004      F    AK     37\n6       11355  11356    Olivia  2004      F    AK     33\n7       11356  11357  Isabella  2004      F    AK     30\n8       11357  11358    Alyssa  2004      F    AK     29\n9       11358  11359    Sophia  2004      F    AK     28"
     },
     "execution_count": 3,
     "metadata": {},
     "output_type": "execute_result"
    }
   ],
   "source": [
    "baby_names.head(10)"
   ]
  },
  {
   "cell_type": "markdown",
   "metadata": {},
   "source": [
    "### Step 5. Delete the column 'Unnamed: 0' and 'Id'"
   ]
  },
  {
   "cell_type": "code",
   "execution_count": 4,
   "metadata": {},
   "outputs": [
    {
     "data": {
      "text/html": "<div>\n<style scoped>\n    .dataframe tbody tr th:only-of-type {\n        vertical-align: middle;\n    }\n\n    .dataframe tbody tr th {\n        vertical-align: top;\n    }\n\n    .dataframe thead th {\n        text-align: right;\n    }\n</style>\n<table border=\"1\" class=\"dataframe\">\n  <thead>\n    <tr style=\"text-align: right;\">\n      <th></th>\n      <th>Name</th>\n      <th>Year</th>\n      <th>Gender</th>\n      <th>State</th>\n      <th>Count</th>\n    </tr>\n  </thead>\n  <tbody>\n    <tr>\n      <th>0</th>\n      <td>Emma</td>\n      <td>2004</td>\n      <td>F</td>\n      <td>AK</td>\n      <td>62</td>\n    </tr>\n    <tr>\n      <th>1</th>\n      <td>Madison</td>\n      <td>2004</td>\n      <td>F</td>\n      <td>AK</td>\n      <td>48</td>\n    </tr>\n    <tr>\n      <th>2</th>\n      <td>Hannah</td>\n      <td>2004</td>\n      <td>F</td>\n      <td>AK</td>\n      <td>46</td>\n    </tr>\n    <tr>\n      <th>3</th>\n      <td>Grace</td>\n      <td>2004</td>\n      <td>F</td>\n      <td>AK</td>\n      <td>44</td>\n    </tr>\n    <tr>\n      <th>4</th>\n      <td>Emily</td>\n      <td>2004</td>\n      <td>F</td>\n      <td>AK</td>\n      <td>41</td>\n    </tr>\n    <tr>\n      <th>5</th>\n      <td>Abigail</td>\n      <td>2004</td>\n      <td>F</td>\n      <td>AK</td>\n      <td>37</td>\n    </tr>\n    <tr>\n      <th>6</th>\n      <td>Olivia</td>\n      <td>2004</td>\n      <td>F</td>\n      <td>AK</td>\n      <td>33</td>\n    </tr>\n    <tr>\n      <th>7</th>\n      <td>Isabella</td>\n      <td>2004</td>\n      <td>F</td>\n      <td>AK</td>\n      <td>30</td>\n    </tr>\n    <tr>\n      <th>8</th>\n      <td>Alyssa</td>\n      <td>2004</td>\n      <td>F</td>\n      <td>AK</td>\n      <td>29</td>\n    </tr>\n    <tr>\n      <th>9</th>\n      <td>Sophia</td>\n      <td>2004</td>\n      <td>F</td>\n      <td>AK</td>\n      <td>28</td>\n    </tr>\n  </tbody>\n</table>\n</div>",
      "text/plain": "       Name  Year Gender State  Count\n0      Emma  2004      F    AK     62\n1   Madison  2004      F    AK     48\n2    Hannah  2004      F    AK     46\n3     Grace  2004      F    AK     44\n4     Emily  2004      F    AK     41\n5   Abigail  2004      F    AK     37\n6    Olivia  2004      F    AK     33\n7  Isabella  2004      F    AK     30\n8    Alyssa  2004      F    AK     29\n9    Sophia  2004      F    AK     28"
     },
     "execution_count": 4,
     "metadata": {},
     "output_type": "execute_result"
    }
   ],
   "source": [
    "#del baby_names['Unnamed: 0']\n",
    "baby_names.drop(['Unnamed: 0','Id'],axis=1, inplace=True)\n",
    "baby_names.head(10)"
   ]
  },
  {
   "cell_type": "markdown",
   "metadata": {},
   "source": [
    "### Step 6. Is there more male or female names in the dataset?"
   ]
  },
  {
   "cell_type": "code",
   "execution_count": 5,
   "metadata": {},
   "outputs": [
    {
     "data": {
      "text/plain": "F    558846\nM    457549\nName: Gender, dtype: int64"
     },
     "execution_count": 5,
     "metadata": {},
     "output_type": "execute_result"
    }
   ],
   "source": [
    "baby_names['Gender'].value_counts()"
   ]
  },
  {
   "cell_type": "markdown",
   "metadata": {},
   "source": [
    "### Step 7. Group the dataset by name and assign to names"
   ]
  },
  {
   "cell_type": "code",
   "execution_count": 6,
   "metadata": {},
   "outputs": [
    {
     "data": {
      "text/html": "<div>\n<style scoped>\n    .dataframe tbody tr th:only-of-type {\n        vertical-align: middle;\n    }\n\n    .dataframe tbody tr th {\n        vertical-align: top;\n    }\n\n    .dataframe thead th {\n        text-align: right;\n    }\n</style>\n<table border=\"1\" class=\"dataframe\">\n  <thead>\n    <tr style=\"text-align: right;\">\n      <th></th>\n      <th>Count</th>\n    </tr>\n    <tr>\n      <th>Name</th>\n      <th></th>\n    </tr>\n  </thead>\n  <tbody>\n    <tr>\n      <th>Aaban</th>\n      <td>12</td>\n    </tr>\n    <tr>\n      <th>Aadan</th>\n      <td>23</td>\n    </tr>\n    <tr>\n      <th>Aadarsh</th>\n      <td>5</td>\n    </tr>\n    <tr>\n      <th>Aaden</th>\n      <td>3426</td>\n    </tr>\n    <tr>\n      <th>Aadhav</th>\n      <td>6</td>\n    </tr>\n  </tbody>\n</table>\n</div>",
      "text/plain": "         Count\nName          \nAaban       12\nAadan       23\nAadarsh      5\nAaden     3426\nAadhav       6"
     },
     "execution_count": 6,
     "metadata": {},
     "output_type": "execute_result"
    }
   ],
   "source": [
    "names = baby_names.groupby('Name').sum()\n",
    "del names['Year']\n",
    "names.head()"
   ]
  },
  {
   "cell_type": "markdown",
   "metadata": {},
   "source": [
    "### Step 8. How many different names exist in the dataset?"
   ]
  },
  {
   "cell_type": "code",
   "execution_count": 7,
   "metadata": {},
   "outputs": [
    {
     "data": {
      "text/plain": "17632"
     },
     "execution_count": 7,
     "metadata": {},
     "output_type": "execute_result"
    }
   ],
   "source": [
    "names.shape[0]"
   ]
  },
  {
   "cell_type": "markdown",
   "metadata": {},
   "source": [
    "### Step 9. What is the name with most occurrences?"
   ]
  },
  {
   "cell_type": "code",
   "execution_count": 8,
   "metadata": {},
   "outputs": [
    {
     "data": {
      "text/plain": "'Jacob'"
     },
     "execution_count": 8,
     "metadata": {},
     "output_type": "execute_result"
    }
   ],
   "source": [
    "names.Count.idxmax()"
   ]
  },
  {
   "cell_type": "markdown",
   "metadata": {},
   "source": [
    "### Step 10. How many different names have the least occurrences?"
   ]
  },
  {
   "cell_type": "code",
   "execution_count": 13,
   "metadata": {},
   "outputs": [
    {
     "data": {
      "text/plain": "2578"
     },
     "execution_count": 13,
     "metadata": {},
     "output_type": "execute_result"
    }
   ],
   "source": [
    "names.Count.min() \n",
    "(names[names.Count == names.Count.min()]).shape[0]"
   ]
  },
  {
   "cell_type": "markdown",
   "metadata": {},
   "source": [
    "### Step 11. What is the median name occurrence?"
   ]
  },
  {
   "cell_type": "code",
   "execution_count": 20,
   "metadata": {},
   "outputs": [
    {
     "data": {
      "text/html": "<div>\n<style scoped>\n    .dataframe tbody tr th:only-of-type {\n        vertical-align: middle;\n    }\n\n    .dataframe tbody tr th {\n        vertical-align: top;\n    }\n\n    .dataframe thead th {\n        text-align: right;\n    }\n</style>\n<table border=\"1\" class=\"dataframe\">\n  <thead>\n    <tr style=\"text-align: right;\">\n      <th></th>\n      <th>Count</th>\n    </tr>\n    <tr>\n      <th>Name</th>\n      <th></th>\n    </tr>\n  </thead>\n  <tbody>\n    <tr>\n      <th>Aishani</th>\n      <td>49</td>\n    </tr>\n    <tr>\n      <th>Alara</th>\n      <td>49</td>\n    </tr>\n    <tr>\n      <th>Alysse</th>\n      <td>49</td>\n    </tr>\n    <tr>\n      <th>Ameir</th>\n      <td>49</td>\n    </tr>\n    <tr>\n      <th>Anely</th>\n      <td>49</td>\n    </tr>\n    <tr>\n      <th>Antonina</th>\n      <td>49</td>\n    </tr>\n    <tr>\n      <th>Aveline</th>\n      <td>49</td>\n    </tr>\n    <tr>\n      <th>Aziah</th>\n      <td>49</td>\n    </tr>\n    <tr>\n      <th>Baily</th>\n      <td>49</td>\n    </tr>\n    <tr>\n      <th>Caleah</th>\n      <td>49</td>\n    </tr>\n    <tr>\n      <th>Carlota</th>\n      <td>49</td>\n    </tr>\n    <tr>\n      <th>Cristine</th>\n      <td>49</td>\n    </tr>\n    <tr>\n      <th>Dahlila</th>\n      <td>49</td>\n    </tr>\n    <tr>\n      <th>Darvin</th>\n      <td>49</td>\n    </tr>\n    <tr>\n      <th>Deante</th>\n      <td>49</td>\n    </tr>\n    <tr>\n      <th>Deserae</th>\n      <td>49</td>\n    </tr>\n    <tr>\n      <th>Devean</th>\n      <td>49</td>\n    </tr>\n    <tr>\n      <th>Elizah</th>\n      <td>49</td>\n    </tr>\n    <tr>\n      <th>Emmaly</th>\n      <td>49</td>\n    </tr>\n    <tr>\n      <th>Emmanuela</th>\n      <td>49</td>\n    </tr>\n    <tr>\n      <th>Envy</th>\n      <td>49</td>\n    </tr>\n    <tr>\n      <th>Esli</th>\n      <td>49</td>\n    </tr>\n    <tr>\n      <th>Fay</th>\n      <td>49</td>\n    </tr>\n    <tr>\n      <th>Gurshaan</th>\n      <td>49</td>\n    </tr>\n    <tr>\n      <th>Hareem</th>\n      <td>49</td>\n    </tr>\n    <tr>\n      <th>Iven</th>\n      <td>49</td>\n    </tr>\n    <tr>\n      <th>Jaice</th>\n      <td>49</td>\n    </tr>\n    <tr>\n      <th>Jaiyana</th>\n      <td>49</td>\n    </tr>\n    <tr>\n      <th>Jamiracle</th>\n      <td>49</td>\n    </tr>\n    <tr>\n      <th>Jelissa</th>\n      <td>49</td>\n    </tr>\n    <tr>\n      <th>...</th>\n      <td>...</td>\n    </tr>\n    <tr>\n      <th>Kyndle</th>\n      <td>49</td>\n    </tr>\n    <tr>\n      <th>Kynsley</th>\n      <td>49</td>\n    </tr>\n    <tr>\n      <th>Leylanie</th>\n      <td>49</td>\n    </tr>\n    <tr>\n      <th>Maisha</th>\n      <td>49</td>\n    </tr>\n    <tr>\n      <th>Malillany</th>\n      <td>49</td>\n    </tr>\n    <tr>\n      <th>Mariann</th>\n      <td>49</td>\n    </tr>\n    <tr>\n      <th>Marquell</th>\n      <td>49</td>\n    </tr>\n    <tr>\n      <th>Maurilio</th>\n      <td>49</td>\n    </tr>\n    <tr>\n      <th>Mckynzie</th>\n      <td>49</td>\n    </tr>\n    <tr>\n      <th>Mehdi</th>\n      <td>49</td>\n    </tr>\n    <tr>\n      <th>Nabeel</th>\n      <td>49</td>\n    </tr>\n    <tr>\n      <th>Nalleli</th>\n      <td>49</td>\n    </tr>\n    <tr>\n      <th>Nassir</th>\n      <td>49</td>\n    </tr>\n    <tr>\n      <th>Nazier</th>\n      <td>49</td>\n    </tr>\n    <tr>\n      <th>Nishant</th>\n      <td>49</td>\n    </tr>\n    <tr>\n      <th>Rebecka</th>\n      <td>49</td>\n    </tr>\n    <tr>\n      <th>Reghan</th>\n      <td>49</td>\n    </tr>\n    <tr>\n      <th>Ridwan</th>\n      <td>49</td>\n    </tr>\n    <tr>\n      <th>Riot</th>\n      <td>49</td>\n    </tr>\n    <tr>\n      <th>Rubin</th>\n      <td>49</td>\n    </tr>\n    <tr>\n      <th>Ryatt</th>\n      <td>49</td>\n    </tr>\n    <tr>\n      <th>Sameera</th>\n      <td>49</td>\n    </tr>\n    <tr>\n      <th>Sanjuanita</th>\n      <td>49</td>\n    </tr>\n    <tr>\n      <th>Shalyn</th>\n      <td>49</td>\n    </tr>\n    <tr>\n      <th>Skylie</th>\n      <td>49</td>\n    </tr>\n    <tr>\n      <th>Sriram</th>\n      <td>49</td>\n    </tr>\n    <tr>\n      <th>Trinton</th>\n      <td>49</td>\n    </tr>\n    <tr>\n      <th>Vita</th>\n      <td>49</td>\n    </tr>\n    <tr>\n      <th>Yoni</th>\n      <td>49</td>\n    </tr>\n    <tr>\n      <th>Zuleima</th>\n      <td>49</td>\n    </tr>\n  </tbody>\n</table>\n<p>66 rows × 1 columns</p>\n</div>",
      "text/plain": "            Count\nName             \nAishani        49\nAlara          49\nAlysse         49\nAmeir          49\nAnely          49\nAntonina       49\nAveline        49\nAziah          49\nBaily          49\nCaleah         49\nCarlota        49\nCristine       49\nDahlila        49\nDarvin         49\nDeante         49\nDeserae        49\nDevean         49\nElizah         49\nEmmaly         49\nEmmanuela      49\nEnvy           49\nEsli           49\nFay            49\nGurshaan       49\nHareem         49\nIven           49\nJaice          49\nJaiyana        49\nJamiracle      49\nJelissa        49\n...           ...\nKyndle         49\nKynsley        49\nLeylanie       49\nMaisha         49\nMalillany      49\nMariann        49\nMarquell       49\nMaurilio       49\nMckynzie       49\nMehdi          49\nNabeel         49\nNalleli        49\nNassir         49\nNazier         49\nNishant        49\nRebecka        49\nReghan         49\nRidwan         49\nRiot           49\nRubin          49\nRyatt          49\nSameera        49\nSanjuanita     49\nShalyn         49\nSkylie         49\nSriram         49\nTrinton        49\nVita           49\nYoni           49\nZuleima        49\n\n[66 rows x 1 columns]"
     },
     "execution_count": 20,
     "metadata": {},
     "output_type": "execute_result"
    }
   ],
   "source": [
    "names.Count.median()\n",
    "names[names.Count == names.Count.median()]"
   ]
  },
  {
   "cell_type": "markdown",
   "metadata": {},
   "source": [
    "### Step 12. What is the standard deviation of names?"
   ]
  },
  {
   "cell_type": "code",
   "execution_count": 21,
   "metadata": {},
   "outputs": [
    {
     "data": {
      "text/plain": "11006.069467891111"
     },
     "execution_count": 21,
     "metadata": {},
     "output_type": "execute_result"
    }
   ],
   "source": [
    "names.Count.std()"
   ]
  },
  {
   "cell_type": "markdown",
   "metadata": {},
   "source": [
    "### Step 13. Get a summary with the mean, min, max, std and quartiles."
   ]
  },
  {
   "cell_type": "code",
   "execution_count": 22,
   "metadata": {},
   "outputs": [
    {
     "data": {
      "text/html": "<div>\n<style scoped>\n    .dataframe tbody tr th:only-of-type {\n        vertical-align: middle;\n    }\n\n    .dataframe tbody tr th {\n        vertical-align: top;\n    }\n\n    .dataframe thead th {\n        text-align: right;\n    }\n</style>\n<table border=\"1\" class=\"dataframe\">\n  <thead>\n    <tr style=\"text-align: right;\">\n      <th></th>\n      <th>Count</th>\n    </tr>\n  </thead>\n  <tbody>\n    <tr>\n      <th>count</th>\n      <td>17632.000000</td>\n    </tr>\n    <tr>\n      <th>mean</th>\n      <td>2008.932169</td>\n    </tr>\n    <tr>\n      <th>std</th>\n      <td>11006.069468</td>\n    </tr>\n    <tr>\n      <th>min</th>\n      <td>5.000000</td>\n    </tr>\n    <tr>\n      <th>25%</th>\n      <td>11.000000</td>\n    </tr>\n    <tr>\n      <th>50%</th>\n      <td>49.000000</td>\n    </tr>\n    <tr>\n      <th>75%</th>\n      <td>337.000000</td>\n    </tr>\n    <tr>\n      <th>max</th>\n      <td>242874.000000</td>\n    </tr>\n  </tbody>\n</table>\n</div>",
      "text/plain": "               Count\ncount   17632.000000\nmean     2008.932169\nstd     11006.069468\nmin         5.000000\n25%        11.000000\n50%        49.000000\n75%       337.000000\nmax    242874.000000"
     },
     "execution_count": 22,
     "metadata": {},
     "output_type": "execute_result"
    }
   ],
   "source": [
    "names.describe()"
   ]
  },
  {
   "cell_type": "code",
   "execution_count": null,
   "metadata": {},
   "outputs": [],
   "source": []
  }
 ],
 "metadata": {
  "anaconda-cloud": {},
  "kernelspec": {
   "display_name": "Python 3.7.0 64-bit ('base': conda)",
   "language": "python",
   "name": "python37064bitbasecondaa8718354cf314d6cb09957be85088dc7"
  },
  "language_info": {
   "codemirror_mode": {
    "name": "ipython",
    "version": 2
   },
   "file_extension": ".py",
   "mimetype": "text/x-python",
   "name": "python",
   "nbconvert_exporter": "python",
   "pygments_lexer": "ipython2",
   "version": "3.7.0-final"
  }
 },
 "nbformat": 4,
 "nbformat_minor": 0
}