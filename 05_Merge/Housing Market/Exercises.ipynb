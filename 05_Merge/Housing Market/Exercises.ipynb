{
 "cells": [
  {
   "cell_type": "markdown",
   "metadata": {},
   "source": [
    "# Housing Market"
   ]
  },
  {
   "cell_type": "markdown",
   "metadata": {},
   "source": [
    "### Introduction:\n",
    "\n",
    "This time we will create our own dataset with fictional numbers to describe a house market. As we are going to create random data don't try to reason of the numbers.\n",
    "\n",
    "### Step 1. Import the necessary libraries"
   ]
  },
  {
   "cell_type": "code",
   "execution_count": 40,
   "metadata": {},
   "outputs": [],
   "source": [
    "import pandas as pd \n",
    "import numpy as np "
   ]
  },
  {
   "cell_type": "markdown",
   "metadata": {},
   "source": [
    "### Step 2. Create 3 differents Series, each of length 100, as follows: \n",
    "1. The first a random number from 1 to 4 \n",
    "2. The second a random number from 1 to 3\n",
    "3. The third a random number from 10,000 to 30,000"
   ]
  },
  {
   "cell_type": "code",
   "execution_count": 41,
   "metadata": {},
   "outputs": [],
   "source": [
    "np.random.seed(123)\n",
    "s1 = pd.Series(np.random.randint(1,5,size=100))\n",
    "s2 = pd.Series(np.random.randint(1,4,size=100))\n",
    "s3 = pd.Series(np.random.randint(10000,30000,size=100))"
   ]
  },
  {
   "cell_type": "markdown",
   "metadata": {},
   "source": [
    "### Step 3. Let's create a DataFrame by joinning the Series by column"
   ]
  },
  {
   "cell_type": "code",
   "execution_count": 42,
   "metadata": {},
   "outputs": [
    {
     "data": {
      "text/html": "<div>\n<style scoped>\n    .dataframe tbody tr th:only-of-type {\n        vertical-align: middle;\n    }\n\n    .dataframe tbody tr th {\n        vertical-align: top;\n    }\n\n    .dataframe thead th {\n        text-align: right;\n    }\n</style>\n<table border=\"1\" class=\"dataframe\">\n  <thead>\n    <tr style=\"text-align: right;\">\n      <th></th>\n      <th>0</th>\n      <th>1</th>\n      <th>2</th>\n    </tr>\n  </thead>\n  <tbody>\n    <tr>\n      <th>0</th>\n      <td>3</td>\n      <td>2</td>\n      <td>20802</td>\n    </tr>\n    <tr>\n      <th>1</th>\n      <td>2</td>\n      <td>1</td>\n      <td>23442</td>\n    </tr>\n    <tr>\n      <th>2</th>\n      <td>3</td>\n      <td>3</td>\n      <td>18121</td>\n    </tr>\n    <tr>\n      <th>3</th>\n      <td>3</td>\n      <td>2</td>\n      <td>19123</td>\n    </tr>\n    <tr>\n      <th>4</th>\n      <td>1</td>\n      <td>2</td>\n      <td>15650</td>\n    </tr>\n  </tbody>\n</table>\n</div>",
      "text/plain": "   0  1      2\n0  3  2  20802\n1  2  1  23442\n2  3  3  18121\n3  3  2  19123\n4  1  2  15650"
     },
     "execution_count": 42,
     "metadata": {},
     "output_type": "execute_result"
    }
   ],
   "source": [
    "df = pd.concat([s1,s2,s3],axis=1)\n",
    "df.head()"
   ]
  },
  {
   "cell_type": "markdown",
   "metadata": {},
   "source": [
    "### Step 4. Change the name of the columns to bedrs, bathrs, price_sqr_meter"
   ]
  },
  {
   "cell_type": "code",
   "execution_count": 43,
   "metadata": {},
   "outputs": [
    {
     "data": {
      "text/html": "<div>\n<style scoped>\n    .dataframe tbody tr th:only-of-type {\n        vertical-align: middle;\n    }\n\n    .dataframe tbody tr th {\n        vertical-align: top;\n    }\n\n    .dataframe thead th {\n        text-align: right;\n    }\n</style>\n<table border=\"1\" class=\"dataframe\">\n  <thead>\n    <tr style=\"text-align: right;\">\n      <th></th>\n      <th>bedrs</th>\n      <th>bathrs</th>\n      <th>price_sqr_meter</th>\n    </tr>\n  </thead>\n  <tbody>\n    <tr>\n      <th>0</th>\n      <td>3</td>\n      <td>2</td>\n      <td>20802</td>\n    </tr>\n    <tr>\n      <th>1</th>\n      <td>2</td>\n      <td>1</td>\n      <td>23442</td>\n    </tr>\n    <tr>\n      <th>2</th>\n      <td>3</td>\n      <td>3</td>\n      <td>18121</td>\n    </tr>\n    <tr>\n      <th>3</th>\n      <td>3</td>\n      <td>2</td>\n      <td>19123</td>\n    </tr>\n    <tr>\n      <th>4</th>\n      <td>1</td>\n      <td>2</td>\n      <td>15650</td>\n    </tr>\n    <tr>\n      <th>5</th>\n      <td>3</td>\n      <td>1</td>\n      <td>20715</td>\n    </tr>\n    <tr>\n      <th>6</th>\n      <td>3</td>\n      <td>2</td>\n      <td>22214</td>\n    </tr>\n    <tr>\n      <th>7</th>\n      <td>2</td>\n      <td>2</td>\n      <td>20743</td>\n    </tr>\n    <tr>\n      <th>8</th>\n      <td>4</td>\n      <td>1</td>\n      <td>14169</td>\n    </tr>\n    <tr>\n      <th>9</th>\n      <td>3</td>\n      <td>1</td>\n      <td>25313</td>\n    </tr>\n    <tr>\n      <th>10</th>\n      <td>4</td>\n      <td>2</td>\n      <td>29006</td>\n    </tr>\n    <tr>\n      <th>11</th>\n      <td>2</td>\n      <td>3</td>\n      <td>28115</td>\n    </tr>\n    <tr>\n      <th>12</th>\n      <td>3</td>\n      <td>2</td>\n      <td>28059</td>\n    </tr>\n    <tr>\n      <th>13</th>\n      <td>2</td>\n      <td>2</td>\n      <td>20332</td>\n    </tr>\n    <tr>\n      <th>14</th>\n      <td>1</td>\n      <td>2</td>\n      <td>29331</td>\n    </tr>\n    <tr>\n      <th>15</th>\n      <td>2</td>\n      <td>3</td>\n      <td>16701</td>\n    </tr>\n    <tr>\n      <th>16</th>\n      <td>3</td>\n      <td>1</td>\n      <td>24970</td>\n    </tr>\n    <tr>\n      <th>17</th>\n      <td>4</td>\n      <td>3</td>\n      <td>25547</td>\n    </tr>\n    <tr>\n      <th>18</th>\n      <td>2</td>\n      <td>3</td>\n      <td>29227</td>\n    </tr>\n    <tr>\n      <th>19</th>\n      <td>1</td>\n      <td>2</td>\n      <td>26825</td>\n    </tr>\n    <tr>\n      <th>20</th>\n      <td>3</td>\n      <td>3</td>\n      <td>14718</td>\n    </tr>\n    <tr>\n      <th>21</th>\n      <td>1</td>\n      <td>3</td>\n      <td>21771</td>\n    </tr>\n    <tr>\n      <th>22</th>\n      <td>4</td>\n      <td>2</td>\n      <td>15731</td>\n    </tr>\n    <tr>\n      <th>23</th>\n      <td>2</td>\n      <td>3</td>\n      <td>20958</td>\n    </tr>\n    <tr>\n      <th>24</th>\n      <td>4</td>\n      <td>1</td>\n      <td>29958</td>\n    </tr>\n    <tr>\n      <th>25</th>\n      <td>3</td>\n      <td>3</td>\n      <td>19528</td>\n    </tr>\n    <tr>\n      <th>26</th>\n      <td>2</td>\n      <td>3</td>\n      <td>25319</td>\n    </tr>\n    <tr>\n      <th>27</th>\n      <td>1</td>\n      <td>2</td>\n      <td>26996</td>\n    </tr>\n    <tr>\n      <th>28</th>\n      <td>1</td>\n      <td>2</td>\n      <td>17044</td>\n    </tr>\n    <tr>\n      <th>29</th>\n      <td>1</td>\n      <td>3</td>\n      <td>14421</td>\n    </tr>\n    <tr>\n      <th>...</th>\n      <td>...</td>\n      <td>...</td>\n      <td>...</td>\n    </tr>\n    <tr>\n      <th>70</th>\n      <td>1</td>\n      <td>1</td>\n      <td>12621</td>\n    </tr>\n    <tr>\n      <th>71</th>\n      <td>4</td>\n      <td>3</td>\n      <td>23301</td>\n    </tr>\n    <tr>\n      <th>72</th>\n      <td>4</td>\n      <td>3</td>\n      <td>14343</td>\n    </tr>\n    <tr>\n      <th>73</th>\n      <td>4</td>\n      <td>2</td>\n      <td>22023</td>\n    </tr>\n    <tr>\n      <th>74</th>\n      <td>2</td>\n      <td>2</td>\n      <td>21278</td>\n    </tr>\n    <tr>\n      <th>75</th>\n      <td>1</td>\n      <td>1</td>\n      <td>12878</td>\n    </tr>\n    <tr>\n      <th>76</th>\n      <td>3</td>\n      <td>3</td>\n      <td>10924</td>\n    </tr>\n    <tr>\n      <th>77</th>\n      <td>1</td>\n      <td>3</td>\n      <td>19342</td>\n    </tr>\n    <tr>\n      <th>78</th>\n      <td>3</td>\n      <td>2</td>\n      <td>12191</td>\n    </tr>\n    <tr>\n      <th>79</th>\n      <td>2</td>\n      <td>3</td>\n      <td>18113</td>\n    </tr>\n    <tr>\n      <th>80</th>\n      <td>4</td>\n      <td>3</td>\n      <td>12512</td>\n    </tr>\n    <tr>\n      <th>81</th>\n      <td>3</td>\n      <td>1</td>\n      <td>10639</td>\n    </tr>\n    <tr>\n      <th>82</th>\n      <td>1</td>\n      <td>3</td>\n      <td>22782</td>\n    </tr>\n    <tr>\n      <th>83</th>\n      <td>3</td>\n      <td>1</td>\n      <td>13054</td>\n    </tr>\n    <tr>\n      <th>84</th>\n      <td>3</td>\n      <td>1</td>\n      <td>21860</td>\n    </tr>\n    <tr>\n      <th>85</th>\n      <td>4</td>\n      <td>2</td>\n      <td>11771</td>\n    </tr>\n    <tr>\n      <th>86</th>\n      <td>1</td>\n      <td>3</td>\n      <td>16895</td>\n    </tr>\n    <tr>\n      <th>87</th>\n      <td>4</td>\n      <td>2</td>\n      <td>15338</td>\n    </tr>\n    <tr>\n      <th>88</th>\n      <td>4</td>\n      <td>2</td>\n      <td>24852</td>\n    </tr>\n    <tr>\n      <th>89</th>\n      <td>3</td>\n      <td>1</td>\n      <td>22437</td>\n    </tr>\n    <tr>\n      <th>90</th>\n      <td>4</td>\n      <td>2</td>\n      <td>26928</td>\n    </tr>\n    <tr>\n      <th>91</th>\n      <td>2</td>\n      <td>2</td>\n      <td>25745</td>\n    </tr>\n    <tr>\n      <th>92</th>\n      <td>4</td>\n      <td>3</td>\n      <td>24178</td>\n    </tr>\n    <tr>\n      <th>93</th>\n      <td>3</td>\n      <td>1</td>\n      <td>24442</td>\n    </tr>\n    <tr>\n      <th>94</th>\n      <td>2</td>\n      <td>2</td>\n      <td>23778</td>\n    </tr>\n    <tr>\n      <th>95</th>\n      <td>4</td>\n      <td>2</td>\n      <td>28023</td>\n    </tr>\n    <tr>\n      <th>96</th>\n      <td>2</td>\n      <td>1</td>\n      <td>11594</td>\n    </tr>\n    <tr>\n      <th>97</th>\n      <td>3</td>\n      <td>3</td>\n      <td>18102</td>\n    </tr>\n    <tr>\n      <th>98</th>\n      <td>1</td>\n      <td>2</td>\n      <td>17341</td>\n    </tr>\n    <tr>\n      <th>99</th>\n      <td>1</td>\n      <td>2</td>\n      <td>29222</td>\n    </tr>\n  </tbody>\n</table>\n<p>100 rows × 3 columns</p>\n</div>",
      "text/plain": "    bedrs  bathrs  price_sqr_meter\n0       3       2            20802\n1       2       1            23442\n2       3       3            18121\n3       3       2            19123\n4       1       2            15650\n5       3       1            20715\n6       3       2            22214\n7       2       2            20743\n8       4       1            14169\n9       3       1            25313\n10      4       2            29006\n11      2       3            28115\n12      3       2            28059\n13      2       2            20332\n14      1       2            29331\n15      2       3            16701\n16      3       1            24970\n17      4       3            25547\n18      2       3            29227\n19      1       2            26825\n20      3       3            14718\n21      1       3            21771\n22      4       2            15731\n23      2       3            20958\n24      4       1            29958\n25      3       3            19528\n26      2       3            25319\n27      1       2            26996\n28      1       2            17044\n29      1       3            14421\n..    ...     ...              ...\n70      1       1            12621\n71      4       3            23301\n72      4       3            14343\n73      4       2            22023\n74      2       2            21278\n75      1       1            12878\n76      3       3            10924\n77      1       3            19342\n78      3       2            12191\n79      2       3            18113\n80      4       3            12512\n81      3       1            10639\n82      1       3            22782\n83      3       1            13054\n84      3       1            21860\n85      4       2            11771\n86      1       3            16895\n87      4       2            15338\n88      4       2            24852\n89      3       1            22437\n90      4       2            26928\n91      2       2            25745\n92      4       3            24178\n93      3       1            24442\n94      2       2            23778\n95      4       2            28023\n96      2       1            11594\n97      3       3            18102\n98      1       2            17341\n99      1       2            29222\n\n[100 rows x 3 columns]"
     },
     "execution_count": 43,
     "metadata": {},
     "output_type": "execute_result"
    }
   ],
   "source": [
    "df.rename(columns = {0:'bedrs',1:'bathrs',2:'price_sqr_meter'},inplace = True)\n",
    "df"
   ]
  },
  {
   "cell_type": "markdown",
   "metadata": {},
   "source": [
    "### Step 5. Create a one column DataFrame with the values of the 3 Series and assign it to 'bigcolumn'"
   ]
  },
  {
   "cell_type": "code",
   "execution_count": 44,
   "metadata": {},
   "outputs": [
    {
     "data": {
      "text/plain": "pandas.core.series.Series"
     },
     "execution_count": 44,
     "metadata": {},
     "output_type": "execute_result"
    }
   ],
   "source": [
    "bigcolumn = pd.concat([s1,s2,s3],axis=0)\n",
    "type(bigcolumn)"
   ]
  },
  {
   "cell_type": "code",
   "execution_count": null,
   "metadata": {},
   "outputs": [],
   "source": [
    "bigcolumn = pd.DataFrame(bigcolumn)\n",
    "type(bigcolumn)"
   ]
  },
  {
   "cell_type": "markdown",
   "metadata": {},
   "source": [
    "### Step 6. Ops it seems it is going only until index 99. Is it true?"
   ]
  },
  {
   "cell_type": "code",
   "execution_count": 54,
   "metadata": {},
   "outputs": [
    {
     "name": "stdout",
     "output_type": "stream",
     "text": "(300, 1)\n"
    },
    {
     "data": {
      "text/html": "<div>\n<style scoped>\n    .dataframe tbody tr th:only-of-type {\n        vertical-align: middle;\n    }\n\n    .dataframe tbody tr th {\n        vertical-align: top;\n    }\n\n    .dataframe thead th {\n        text-align: right;\n    }\n</style>\n<table border=\"1\" class=\"dataframe\">\n  <thead>\n    <tr style=\"text-align: right;\">\n      <th></th>\n      <th>0</th>\n    </tr>\n  </thead>\n  <tbody>\n    <tr>\n      <th>295</th>\n      <td>28023</td>\n    </tr>\n    <tr>\n      <th>296</th>\n      <td>11594</td>\n    </tr>\n    <tr>\n      <th>297</th>\n      <td>18102</td>\n    </tr>\n    <tr>\n      <th>298</th>\n      <td>17341</td>\n    </tr>\n    <tr>\n      <th>299</th>\n      <td>29222</td>\n    </tr>\n  </tbody>\n</table>\n</div>",
      "text/plain": "         0\n295  28023\n296  11594\n297  18102\n298  17341\n299  29222"
     },
     "execution_count": 54,
     "metadata": {},
     "output_type": "execute_result"
    }
   ],
   "source": [
    "print(bigcolumn.shape)\n",
    "bigcolumn.tail()"
   ]
  },
  {
   "cell_type": "markdown",
   "metadata": {},
   "source": [
    "### Step 7. Reindex the DataFrame so it goes from 0 to 299"
   ]
  },
  {
   "cell_type": "code",
   "execution_count": 53,
   "metadata": {},
   "outputs": [
    {
     "data": {
      "text/html": "<div>\n<style scoped>\n    .dataframe tbody tr th:only-of-type {\n        vertical-align: middle;\n    }\n\n    .dataframe tbody tr th {\n        vertical-align: top;\n    }\n\n    .dataframe thead th {\n        text-align: right;\n    }\n</style>\n<table border=\"1\" class=\"dataframe\">\n  <thead>\n    <tr style=\"text-align: right;\">\n      <th></th>\n      <th>0</th>\n    </tr>\n  </thead>\n  <tbody>\n    <tr>\n      <th>295</th>\n      <td>28023</td>\n    </tr>\n    <tr>\n      <th>296</th>\n      <td>11594</td>\n    </tr>\n    <tr>\n      <th>297</th>\n      <td>18102</td>\n    </tr>\n    <tr>\n      <th>298</th>\n      <td>17341</td>\n    </tr>\n    <tr>\n      <th>299</th>\n      <td>29222</td>\n    </tr>\n  </tbody>\n</table>\n</div>",
      "text/plain": "         0\n295  28023\n296  11594\n297  18102\n298  17341\n299  29222"
     },
     "execution_count": 53,
     "metadata": {},
     "output_type": "execute_result"
    }
   ],
   "source": [
    "bigcolumn = bigcolumn.reset_index(drop=True)\n",
    "bigcolumn.tail()"
   ]
  },
  {
   "cell_type": "code",
   "execution_count": null,
   "metadata": {},
   "outputs": [],
   "source": []
  }
 ],
 "metadata": {
  "kernelspec": {
   "display_name": "Python 3.7.0 64-bit ('base': conda)",
   "language": "python",
   "name": "python37064bitbasecondaa8718354cf314d6cb09957be85088dc7"
  },
  "language_info": {
   "codemirror_mode": {
    "name": "ipython",
    "version": 2
   },
   "file_extension": ".py",
   "mimetype": "text/x-python",
   "name": "python",
   "nbconvert_exporter": "python",
   "pygments_lexer": "ipython2",
   "version": "3.7.0-final"
  }
 },
 "nbformat": 4,
 "nbformat_minor": 0
}